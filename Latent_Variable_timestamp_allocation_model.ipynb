{
 "cells": [
  {
   "cell_type": "code",
   "execution_count": 21,
   "metadata": {},
   "outputs": [],
   "source": [
    "#####Latent Variable timestamp allocation#####\n",
    "import numpy as np\n",
    "import pandas as pd\n",
    "import matplotlib.pyplot  as plt\n",
    "import numpy.matlib\n",
    "import scipy.linalg\n",
    "import itertools\n",
    "import math\n",
    "from scipy import sparse\n",
    "from pandas.tools.plotting import scatter_matrix\n",
    "from numpy.random import *\n",
    "from scipy import optimize\n",
    "import seaborn as sns\n",
    "import time\n",
    "\n",
    "#np.random.seed(98537)"
   ]
  },
  {
   "cell_type": "code",
   "execution_count": 92,
   "metadata": {},
   "outputs": [],
   "source": [
    "##多項分布の乱数を生成する関数\n",
    "def rmnom(pr, n, k, no):\n",
    "    z_id = np.argmax((np.cumsum(pr, axis=1) > np.random.rand(n).reshape(n, 1)), axis=1)\n",
    "    Z = sparse.coo_matrix((np.repeat(1, n), (no, np.array(z_id))), shape=(n, k))   #スパース行列の設定\n",
    "    return Z"
   ]
  },
  {
   "cell_type": "code",
   "execution_count": 22,
   "metadata": {},
   "outputs": [],
   "source": [
    "####データの発生####\n",
    "##データの設定\n",
    "k = 7\n",
    "week = 7\n",
    "hour = 24\n",
    "hh = 5000\n",
    "pt = np.random.poisson(np.random.gamma(20, 1/0.25, hh), hh)\n",
    "hhpt = np.sum(pt)"
   ]
  },
  {
   "cell_type": "code",
   "execution_count": 23,
   "metadata": {},
   "outputs": [],
   "source": [
    "##IDとインデックスの設定\n",
    "#IDの設定\n",
    "user_id = np.repeat(np.arange(hh), pt)\n",
    "pt_id = np.array(list(itertools.chain(*[np.array(range(pt[i]), dtype=\"int\") for i in range(hh)])))\n",
    "\n",
    "#インデックスの設定\n",
    "index = np.arange(hhpt)\n",
    "user_list = [i for i in range(hh)]\n",
    "user_vec = [i for i in range(hh)]\n",
    "for i in range(hh):\n",
    "    user_list[i] = index[user_id==i]\n",
    "    user_vec[i] = np.repeat(1, pt[i])"
   ]
  },
  {
   "cell_type": "code",
   "execution_count": 25,
   "metadata": {},
   "outputs": [],
   "source": [
    "##説明変数の生成\n",
    "k1 = 4; k2 = 5; k3 = 6\n",
    "x1 = np.array(np.random.random(hhpt*k1)).reshape((hhpt, k1))\n",
    "x2 = np.zeros((hhpt, k2))\n",
    "for j in range(k2):\n",
    "    prob = np.random.uniform(0.25, 0.55, 1)\n",
    "    x2[:, j] = np.random.binomial(1, prob, hhpt)\n",
    "x3 = np.random.multinomial(1, np.random.dirichlet(np.repeat(3.0, k3), 1).reshape(k3), hhpt)\n",
    "x3 = np.delete(x3, np.argmin(np.sum(x3, axis=0)), axis=1)   #冗長な変数の削除\n",
    "x = np.concatenate((np.repeat(1, hhpt)[:, np.newaxis], x1, x2, x3), axis=1)\n",
    "col = x.shape[1]"
   ]
  },
  {
   "cell_type": "code",
   "execution_count": 138,
   "metadata": {},
   "outputs": [
    {
     "data": {
      "image/png": "[encoded data removed]",
      "text/plain": [
       "<Figure size 432x288 with 1 Axes>"
      ]
     },
     "metadata": {},
     "output_type": "display_data"
    },
    {
     "data": {
      "image/png": "[encoded data removed]",
      "text/plain": [
       "<Figure size 432x288 with 1 Axes>"
      ]
     },
     "metadata": {},
     "output_type": "display_data"
    }
   ],
   "source": [
    "##応答変数を生成\n",
    "#モデルパラメータを設定\n",
    "theta = np.random.dirichlet(np.repeat(0.2, k), hh)\n",
    "phi = np.random.dirichlet(np.repeat(0.25, week), k)\n",
    "beta = np.append(np.random.uniform(-1.25, 1.75, k), np.random.normal(0, 0.75, k*(col-1))).reshape(k, col, order=\"F\")\n",
    "kappa = np.random.uniform(2.0, 7.5, k)\n",
    "thetat = theta.copy(); phit = phi.copy(); betat = beta.copy(); kappat = kappa.copy()\n",
    "\n",
    "#トピックを生成\n",
    "Z = np.array(rmnom(theta[user_id, ], hhpt, k, np.arange(hhpt)).todense(), dtype=\"int16\")\n",
    "z_vec = np.dot(Z, np.arange(k))\n",
    "\n",
    "#トピックからtimestampを生成\n",
    "W = np.array(rmnom(phi[z_vec, ], hhpt, week, np.arange(hhpt)).todense(), dtype=\"int16\")\n",
    "w = np.dot(W, np.arange(week))\n",
    "mu = 2*np.arctan(np.dot(x * beta[z_vec, ], np.repeat(1, col)))\n",
    "y = np.random.vonmises(mu, kappa[z_vec], hhpt)\n",
    "plt.hist(w); plt.show()\n",
    "plt.hist(y); plt.show()"
   ]
  },
  {
   "cell_type": "code",
   "execution_count": 141,
   "metadata": {},
   "outputs": [],
   "source": [
    "####EMアルゴリズムでLatent Variable timestamp allocationを推定####\n",
    "##Von Mises Regression modelのパラメータを推定するための関数\n",
    "#Von Mises Regression modelの対数尤度関数\n",
    "def loglike(theta, y, x, N, index1, index2):\n",
    "    \n",
    "    #パラメータの設定\n",
    "    beta = theta[index1]\n",
    "    kappa = np.exp(theta[index2])\n",
    "    \n",
    "    #対数尤度の和を計算\n",
    "    mu = 2*np.arctan(np.dot(x, beta))\n",
    "    LL = -N*np.log(scipy.special.i0(kappa)) + kappa*np.sum(np.cos(y - mu))\n",
    "    return -LL"
   ]
  },
  {
   "cell_type": "code",
   "execution_count": 142,
   "metadata": {},
   "outputs": [],
   "source": [
    "#Von Mises Regression modelの対数尤度関数の勾配ベクトル\n",
    "def dloglike(theta, y, x, N, index1, index2):\n",
    "    \n",
    "    #パラメータの設定\n",
    "    beta = theta[index1]\n",
    "    kappa = np.exp(theta[index2])\n",
    "\n",
    "    #回帰ベクトルの対数尤度の勾配ベクトル\n",
    "    beta_mu = np.dot(x, beta)\n",
    "    mu = 2*np.arctan(beta_mu)\n",
    "    LLd1 = np.sum(kappa * (np.sin(y - mu).reshape(N, 1)) * (2 * (x / (1 + np.power(beta_mu.reshape(N, 1), 2)))), axis=0)\n",
    "    \n",
    "    #分散パラメータの対数尤度の勾配\n",
    "    h = 1e-4\n",
    "    LLd2 = (LL_kappa(kappa+h, mu, y, x, N) - LL_kappa(kappa-h, mu, y, x, N)) / (2*h)\n",
    "    \n",
    "    #勾配ベクトルの戻り値\n",
    "    LLd = -np.append(LLd1, LLd2)\n",
    "    return LLd"
   ]
  },
  {
   "cell_type": "code",
   "execution_count": 143,
   "metadata": {},
   "outputs": [],
   "source": [
    "#分散パラメータの推定用の対数尤度関数\n",
    "def LL_kappa(kappa, mu, y, x, N):\n",
    "    LL = -N*np.log(scipy.special.i0(kappa)) + kappa*np.sum(np.cos(y - mu))\n",
    "    return LL "
   ]
  },
  {
   "cell_type": "code",
   "execution_count": 148,
   "metadata": {},
   "outputs": [
    {
     "data": {
      "text/plain": [
       "array([0.70147314, 0.49004008, 0.06904586, ..., 0.32502195, 0.3606102 ,\n",
       "       0.61910048])"
      ]
     },
     "execution_count": 148,
     "metadata": {},
     "output_type": "execute_result"
    }
   ],
   "source": [
    "##観測データの尤度と潜在変数zを計算する関数\n",
    "def LLobz(theta, phi, beta, kappa, y, w, x, user_id, k, hhpt):\n",
    "    #潜在変数の条件付き尤度\n",
    "    Lho1 = np.zeros((hhpt, k))\n",
    "    mu = 2*np.arctan(np.dot(x, beta.T))   #リンク関数\n",
    "    for j in range(k):\n",
    "        Lho1[:, j] = np.sum(np.log(np.exp(kappa[j]*np.cos(y - mu[:, j])) / (2*np.pi*scipy.special.i0(kappa[j]))))\n",
    "    Lho2 = phi.T[w, ]\n",
    "\n",
    "    #潜在変数の割当確率\n",
    "    Lho = theta[user_id, ] * Lho1 * Lho2\n",
    "    z = Lho / np.dot(Lho, np.repeat(1, k)).reshape(hhpt, 1)\n",
    "    return z, Lho"
   ]
  },
  {
   "cell_type": "code",
   "execution_count": 194,
   "metadata": {},
   "outputs": [],
   "source": []
  },
  {
   "cell_type": "code",
   "execution_count": 206,
   "metadata": {},
   "outputs": [
    {
     "name": "stdout",
     "output_type": "stream",
     "text": [
      "[2.26457504e-02 1.95254822e-07 2.69208624e-01 6.98368760e-01\n",
      " 6.72146588e-04 1.29785440e-03 7.80666896e-03]\n",
      "[0 0 1 0 0 0 0]\n"
     ]
    }
   ],
   "source": []
  },
  {
   "cell_type": "code",
   "execution_count": 196,
   "metadata": {},
   "outputs": [
    {
     "data": {
      "text/plain": [
       "array([[0, 0, 0, ..., 0, 1, 0],\n",
       "       [0, 0, 0, ..., 0, 1, 0],\n",
       "       [0, 0, 0, ..., 0, 1, 0],\n",
       "       ...,\n",
       "       [0, 0, 0, ..., 1, 0, 0],\n",
       "       [0, 0, 0, ..., 1, 0, 0],\n",
       "       [0, 0, 0, ..., 0, 0, 0]], dtype=int16)"
      ]
     },
     "execution_count": 196,
     "metadata": {},
     "output_type": "execute_result"
    }
   ],
   "source": [
    "Z"
   ]
  },
  {
   "cell_type": "code",
   "execution_count": 181,
   "metadata": {},
   "outputs": [
    {
     "name": "stdout",
     "output_type": "stream",
     "text": [
      "Wall time: 7.98 ms\n"
     ]
    },
    {
     "data": {
      "text/plain": [
       "-383802.67704256944"
      ]
     },
     "execution_count": 181,
     "metadata": {},
     "output_type": "execute_result"
    }
   ],
   "source": [
    "%%time\n",
    "np.sum(np.log(np.exp(kappa[j]*np.cos(y - mu)) / (2*np.pi*scipy.special.i0(kappa[j]))))\n"
   ]
  },
  {
   "cell_type": "code",
   "execution_count": 184,
   "metadata": {},
   "outputs": [
    {
     "data": {
      "text/plain": [
       "(397968, 7)"
      ]
     },
     "execution_count": 184,
     "metadata": {},
     "output_type": "execute_result"
    }
   ],
   "source": [
    ".shape"
   ]
  },
  {
   "cell_type": "code",
   "execution_count": 185,
   "metadata": {},
   "outputs": [
    {
     "data": {
      "text/plain": [
       "array([[ 5.98006514e-01,  1.29017883e-01, -2.23048824e-01,\n",
       "        -2.56036968e+00, -1.76913342e-01,  5.48725837e-01,\n",
       "        -6.95155065e-01, -1.07195310e-02,  5.51821540e-01,\n",
       "         4.77658088e-01,  3.97993571e-02,  5.48410357e-01,\n",
       "        -2.41985933e-01,  1.51064762e-01,  4.36373643e-01],\n",
       "       [ 1.74112589e+00,  3.91850459e-01, -3.24328430e-01,\n",
       "         4.07720176e-01,  1.56827853e+00, -3.61775603e-01,\n",
       "        -8.07900286e-01, -3.32978393e-01, -3.50327203e-01,\n",
       "         2.80490430e-01, -2.91312898e-01, -3.76429621e-01,\n",
       "         1.59929323e+00, -4.36751788e-01,  5.48805736e-01],\n",
       "       [ 3.40013908e-01, -2.94244156e-01, -9.35856601e-01,\n",
       "        -2.55780774e-01, -1.23267010e-01, -9.73944006e-01,\n",
       "         3.00225107e-01,  2.38896668e-01,  1.39170260e+00,\n",
       "        -6.47088685e-01, -2.21936459e-02,  7.95358583e-02,\n",
       "         3.55250760e-01, -5.01458138e-01,  6.68024967e-01],\n",
       "       [ 5.91402321e-02,  2.57719251e-01, -2.92757243e-02,\n",
       "         7.71775788e-04,  1.11980051e+00, -1.23446470e-01,\n",
       "         7.65248008e-01,  8.58691413e-02, -7.09579581e-01,\n",
       "         1.38517802e+00, -9.45287151e-01,  5.53086352e-01,\n",
       "        -1.61050503e-01, -5.85531863e-01, -1.23411494e+00],\n",
       "       [-2.09680239e-02, -3.54886384e-01, -5.70441709e-01,\n",
       "        -2.70284700e-01, -5.37916931e-01, -3.96141933e-01,\n",
       "         7.97043839e-01, -3.63536133e-02, -1.01339617e+00,\n",
       "         1.20255663e+00, -1.46970878e+00,  6.33098350e-01,\n",
       "        -5.87700692e-01, -3.77264172e-01, -1.09020999e-01],\n",
       "       [ 1.89040654e-01, -5.14815071e-01,  3.17672102e-01,\n",
       "        -3.33714136e-01,  3.09880541e-01, -1.23202320e-01,\n",
       "         6.51130242e-01, -6.78450410e-01, -2.11631694e-01,\n",
       "        -1.26950568e+00,  1.39430660e+00,  1.21146745e+00,\n",
       "         1.43134682e+00, -1.49271891e+00, -9.86349525e-01],\n",
       "       [ 8.69114674e-02, -8.52519221e-02,  3.79529986e-01,\n",
       "        -2.81880303e-01, -9.81824204e-01,  4.65264620e-01,\n",
       "         3.30949308e-01, -1.17676745e-01,  8.54270637e-01,\n",
       "        -5.89979250e-02,  9.30580483e-01,  6.23487947e-01,\n",
       "         4.75177062e-01,  1.50458023e+00,  6.71141153e-01]])"
      ]
     },
     "execution_count": 185,
     "metadata": {},
     "output_type": "execute_result"
    }
   ],
   "source": [
    "beta"
   ]
  },
  {
   "cell_type": "code",
   "execution_count": null,
   "metadata": {},
   "outputs": [],
   "source": []
  }
 ],
 "metadata": {
  "kernelspec": {
   "display_name": "Python 3",
   "language": "python",
   "name": "python3"
  },
  "language_info": {
   "codemirror_mode": {
    "name": "ipython",
    "version": 3
   },
   "file_extension": ".py",
   "mimetype": "text/x-python",
   "name": "python",
   "nbconvert_exporter": "python",
   "pygments_lexer": "ipython3",
   "version": "3.6.5"
  }
 },
 "nbformat": 4,
 "nbformat_minor": 2
}
