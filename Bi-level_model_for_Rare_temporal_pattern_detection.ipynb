{
 "cells": [
  {
   "cell_type": "code",
   "execution_count": 408,
   "metadata": {},
   "outputs": [],
   "source": [
    "#####Bi-level model for Rare temporal pattern detection####\n",
    "import numpy as np\n",
    "import pandas as pd\n",
    "import matplotlib.pyplot  as plt\n",
    "import numpy.matlib\n",
    "import scipy.linalg\n",
    "import itertools\n",
    "import math\n",
    "from scipy import sparse\n",
    "from pandas.tools.plotting import scatter_matrix\n",
    "from numpy.random import *\n",
    "from scipy import optimize\n",
    "import seaborn as sns\n",
    "import time\n",
    "\n",
    "#np.random.seed(98537)"
   ]
  },
  {
   "cell_type": "code",
   "execution_count": 409,
   "metadata": {},
   "outputs": [],
   "source": [
    "##多項分布の乱数を生成する関数\n",
    "def rmnom(pr, n, k, no):\n",
    "    z_id = np.argmax((np.cumsum(pr, axis=1) >= np.random.uniform(0, 1, n)[:, np.newaxis]), axis=1)\n",
    "    Z = sparse.coo_matrix((np.repeat(1, n), (no, np.array(z_id))), shape=(n, k))   #スパース行列の設定\n",
    "    return Z"
   ]
  },
  {
   "cell_type": "code",
   "execution_count": 410,
   "metadata": {},
   "outputs": [],
   "source": [
    "####データの発生####\n",
    "##データの設定\n",
    "k = 2   #混合数\n",
    "m0 = 3   #正常状態での潜在変数数\n",
    "m1 = 2   #異常状態での潜在変数数\n",
    "hh = 5000   #ユーザー数\n",
    "pt = np.random.poisson(np.random.gamma(45, 1/0.25, hh), hh)   #系列数\n",
    "hhpt = np.sum(pt)   #総レコード数"
   ]
  },
  {
   "cell_type": "code",
   "execution_count": 411,
   "metadata": {},
   "outputs": [],
   "source": [
    "##IDとインデックスを設定\n",
    "#IDを設定\n",
    "user_id = np.repeat(range(hh), pt)\n",
    "pt_id = np.array(list(itertools.chain(*[np.array(range(pt[i]), dtype=\"int\") for i in range(hh)])))\n",
    "\n",
    "#インデックスを設定\n",
    "index = np.arange(hhpt)\n",
    "user_list = [i for i in range(hh)]\n",
    "user_vec = [i for i in range(hh)]\n",
    "for i in range(hh):\n",
    "    user_list[i] = index[user_id==i]\n",
    "    user_vec[i] = np.repeat(1, pt[i])"
   ]
  },
  {
   "cell_type": "code",
   "execution_count": 412,
   "metadata": {},
   "outputs": [],
   "source": [
    "##潜在パラメータとユーザーの異常状態を生成\n",
    "#潜在変数のパラメータ\n",
    "alpha = np.repeat(1.0, m0*m0).reshape(m0, m0) + np.diag(np.repeat(1.5, m0))\n",
    "pi = np.array([0.04])   #ユーザーの混合率\n",
    "gamma = np.array([0.075, 0.6])   #正常状態と異常状態の切換率\n",
    "delta = np.array([0.5])   #異常状態の混合率\n",
    "omega0 = np.append(np.random.dirichlet(np.repeat(2.5, m0), 1).reshape(-1), 0) \n",
    "omega1 = np.append((1-gamma[0])*omega0[:m0], gamma[0])\n",
    "theta0 = np.zeros((m0+1, m0+1))\n",
    "for j in range(m0):\n",
    "    theta0[j, :m0] = np.random.dirichlet(alpha[j, ], 1)\n",
    "theta1 = np.hstack(((1-gamma[0])*theta0[:m0, :m0], np.repeat(gamma[0], m0)[:, np.newaxis]))\n",
    "theta1 = np.vstack((theta1, np.append(((1-gamma[1])*np.random.dirichlet(np.repeat(1.0, m0))), gamma[1])))\n",
    "pit = pi.copy(); gammat = gamma.copy(); deltat = delta.copy()\n",
    "omegat0 = omega0.copy(); omegat1 = omega1.copy(); thetat0 = theta0.copy(); thetat1 = theta1.copy()\n",
    "    \n",
    "#ユーザーの潜在変数を生成\n",
    "Z = np.random.binomial(1, pi, hh)\n",
    "index_z = np.array(np.where(Z==1)[0], dtype=\"int\")\n",
    "n = index_z.shape[0]\n",
    "\n",
    "#異常状態の潜在変数を生成\n",
    "A = np.repeat(0, hh)\n",
    "A[index_z] = np.random.binomial(1, delta, n) + 1"
   ]
  },
  {
   "cell_type": "code",
   "execution_count": 413,
   "metadata": {},
   "outputs": [],
   "source": [
    "##ユーザーごとに系列の異常状態を生成\n",
    "#データの格納用リスト\n",
    "S_list = [i for i in range(hh)]\n",
    "s_list = [i for i in range(hh)]\n",
    "\n",
    "for i in range(hh):\n",
    "    #系列の格納用配列\n",
    "    S = np.array(np.zeros((pt[i], m0+1)), dtype=\"int\")\n",
    "    s = np.repeat(0, pt[i])\n",
    "\n",
    "    #正常ユーザーの潜在変数を生成\n",
    "    if Z[i]==0:\n",
    "        for j in range(pt[i]):\n",
    "            if j==0:\n",
    "                S[j, ] = np.random.multinomial(1, omega0, 1)\n",
    "            else:\n",
    "                index = np.argmax(S[j-1, ])\n",
    "                S[j, ] = np.random.multinomial(1, theta0[index, ])\n",
    "\n",
    "    #異常ユーザーの潜在変数を生成\n",
    "    else:\n",
    "        for j in range(pt[i]):\n",
    "            if j==0:\n",
    "                S[j, ] = np.random.multinomial(1, omega1, 1)\n",
    "                if S[j, m0]==1:\n",
    "                    s[j, ] = 1\n",
    "            else:\n",
    "                index = np.argmax(S[j-1, ]) \n",
    "                S[j, ] = np.random.multinomial(1, theta1[index, ], 1)\n",
    "                if S[j, m0]==1:\n",
    "                    s[j] = 1\n",
    "                    \n",
    "    #生成したデータの格納\n",
    "    S_list[i] = S\n",
    "    s_list[i] = s"
   ]
  },
  {
   "cell_type": "code",
   "execution_count": 414,
   "metadata": {},
   "outputs": [
    {
     "name": "stdout",
     "output_type": "stream",
     "text": [
      "[219220 395393 279547   5539]\n"
     ]
    }
   ],
   "source": [
    "#リストを変換\n",
    "S = np.array(list(itertools.chain(*[S_list[i] for i in range(hh)])))\n",
    "s = np.array(list(itertools.chain(*[s_list[i] for i in range(hh)])))\n",
    "s_vec = np.dot(S, np.arange(m0 + 1))\n",
    "print(np.sum(S, axis=0))"
   ]
  },
  {
   "cell_type": "code",
   "execution_count": 415,
   "metadata": {
    "scrolled": true
   },
   "outputs": [
    {
     "name": "stdout",
     "output_type": "stream",
     "text": [
      "1\n",
      "2\n",
      "3\n",
      "4\n",
      "5\n",
      "6\n",
      "7\n",
      "8\n",
      "9\n",
      "10\n",
      "11\n",
      "12\n",
      "13\n",
      "14\n",
      "15\n",
      "16\n",
      "17\n",
      "18\n",
      "19\n",
      "20\n",
      "21\n",
      "22\n",
      "23\n"
     ]
    }
   ],
   "source": [
    "##潜在変数からデータを生成\n",
    "#妥当な数値が生成されるまで繰り返す\n",
    "rp = 0\n",
    "while True:\n",
    "    rp = rp + 1\n",
    "    print(rp)\n",
    "    \n",
    "    #ユーザーの入力変数を生成\n",
    "    k1 = 4; k2 = 4; k3 = 5\n",
    "    u1 = np.array(np.random.random(hh*k1)).reshape((hh, k1))\n",
    "    u2 = np.zeros((hh, k2))\n",
    "    for j in range(k2):\n",
    "        prob = np.random.uniform(0.25, 0.55, 1)\n",
    "        u2[:, j] = np.random.binomial(1, prob, hh)\n",
    "    u3 = np.random.multinomial(1, np.random.dirichlet(np.repeat(3.0, k3), 1).reshape(k3), hh)\n",
    "    u3 = np.delete(u3, np.argmin(np.sum(u3, axis=0)), axis=1)   #冗長な変数の削除\n",
    "    x1 = np.concatenate((np.repeat(1, hh)[:, np.newaxis], u1, u2, u3), axis=1)\n",
    "\n",
    "    #素性ベクトルを生成\n",
    "    k1 = 5; k2 = 6; k3 = 4\n",
    "    u1 = np.array(np.random.random(hhpt*k1)).reshape((hhpt, k1))\n",
    "    u2 = np.zeros((hhpt, k2))\n",
    "    for j in range(k2):\n",
    "        prob = np.random.uniform(0.25, 0.55, 1)\n",
    "        u2[:, j] = np.random.binomial(1, prob, hhpt)\n",
    "    u3 = np.random.multinomial(1, np.random.dirichlet(np.repeat(3.0, k3), 1).reshape(k3), hhpt)\n",
    "    u3 = np.delete(u3, np.argmin(np.sum(u3, axis=0)), axis=1)   #冗長な変数の削除\n",
    "    x2 = np.concatenate((u1, u2, u3), axis=1)\n",
    "    x = np.hstack((x1[user_id, ], x2))\n",
    "    col_x = x.shape[1]\n",
    "    \n",
    "    #モデルパラメータを生成\n",
    "    alpha0 = np.random.uniform(2.5, 3.0, m0)\n",
    "    alpha1 = np.random.uniform(2.5, 3.0, m1)\n",
    "    beta0 = np.append(np.random.uniform(0.7, 2.6, m0), np.random.normal(0, 0.4, (col_x-1)*m0)).reshape(col_x, m0)\n",
    "    beta1 = np.append(np.array([np.random.uniform(-0.7, 0.1, 1), np.random.uniform(2.7, 3.4, 1)]).reshape(-1), \n",
    "                      np.random.normal(0, 0.4, (col_x-1)*m1)).reshape(col_x, m1)\n",
    "    alphat0 = alpha0.copy(); alphat1 = alpha1.copy()\n",
    "    betat0 = beta0.copy(); betat1 = beta1.copy()\n",
    "\n",
    "    \n",
    "    #正常値のデータを生成\n",
    "    s_allocation = np.repeat(0, hhpt)\n",
    "    s0_vec = np.dot(S[:, :m0], np.arange(m0))\n",
    "    y = np.repeat(0.0, hhpt)\n",
    "    index_s0 = np.array(np.where(s!=1)[0], dtype=\"int\")\n",
    "    N0 = index_s0.shape[0]\n",
    "    mu = np.exp(np.sum(np.dot(x[index_s0, ], beta0) * S[index_s0, :m0], axis=1))\n",
    "    y[index_s0] = np.random.gamma(mu, 1/alpha0[s0_vec[index_s0]], N0)\n",
    "\n",
    "    #異常値のデータを生成\n",
    "    index_s1 = np.array(np.where(s==1)[0], dtype=\"int\")\n",
    "    N1 = index_s1.shape[0]\n",
    "    mu = np.exp(np.sum(np.dot(x[index_s1, ], beta1) * np.eye(m1)[A[user_id[index_s1]]-1], axis=1))\n",
    "    y[index_s1] = np.random.gamma(mu, 1/alpha1[A[user_id[index_s1]]-1], N1)\n",
    "\n",
    "    #応答変数の集計\n",
    "    s_allocation = s_vec.copy()\n",
    "    s_allocation[index_s1] = A[user_id[index_s1]] + m0 - 1\n",
    "    y_mean = np.repeat(0.0, m0+m1)\n",
    "    y_sd = np.repeat(0.0, m0+m1)\n",
    "    for j in np.unique(s_allocation):\n",
    "        index = np.where(s_allocation==j)[0]\n",
    "        y_mean[j] = np.mean(y[index])\n",
    "        y_sd[j] = np.std(y[index])\n",
    "\n",
    "    #break条件\n",
    "    if (np.min(y_mean[:m0]) > 1.5) & (np.max(y_mean[:m0]) < 12.0) & (y_mean[m0] < 1.0) & (y_mean[m0+1] > 12.5) & (y_mean[m0+1] < 20.0):\n",
    "        break"
   ]
  },
  {
   "cell_type": "code",
   "execution_count": 416,
   "metadata": {},
   "outputs": [
    {
     "name": "stdout",
     "output_type": "stream",
     "text": [
      "[10.582  2.035  3.255  0.48  15.011]\n",
      "[ 7.49   1.961  3.481  0.577 14.09 ]\n"
     ]
    },
    {
     "data": {
      "image/png": "[encoded data removed]",
      "text/plain": [
       "<Figure size 432x288 with 5 Axes>"
      ]
     },
     "metadata": {},
     "output_type": "display_data"
    }
   ],
   "source": [
    "#生成したデータの確認\n",
    "y_log = np.log(y)\n",
    "print(np.round(y_mean, 3))\n",
    "print(np.round(y_sd, 3))\n",
    "\n",
    "#潜在変数ごとのヒストグラム\n",
    "colorlist = [\"r\", \"g\", \"b\", \"c\", \"m\", \"y\", \"k\", \"w\"]\n",
    "fig = plt.figure()\n",
    "for j in range(m0+m1):\n",
    "    ax = fig.add_subplot(3, 3, j+1)\n",
    "    ax.hist(y[s_allocation==j],  bins=25, range=(0, 50), color=colorlist[j])\n",
    "fig.tight_layout()\n",
    "plt.show()"
   ]
  },
  {
   "cell_type": "code",
   "execution_count": 417,
   "metadata": {},
   "outputs": [],
   "source": [
    "####マルコフ連鎖モンテカルロ法でパラメータを推定####\n",
    "##ガンマ回帰の対数尤度\n",
    "def loglike(alpha, beta, d, d_log, x):\n",
    "    #対数尤度を設定\n",
    "    mu = np.dot(x, alpha).reshape(-1)\n",
    "    Lambda = np.exp(mu)   \n",
    "    Lho = beta * (-d/Lambda - mu) + beta*np.log(beta) - math.lgamma(beta) + (beta-1)*d_log\n",
    "    \n",
    "    #対数尤度の和\n",
    "    LL = np.sum(Lho)\n",
    "    return LL, Lho \n",
    "\n",
    "##HMCで尺度パラメータをサンプリングするための関数\n",
    "#対数事後分布を計算する関数\n",
    "def loglike_beta(beta, alpha, tau_inv, y, y_log, x):\n",
    "\n",
    "    #ガンマ回帰モデルの対数尤度\n",
    "    mu = np.dot(x, beta).reshape(-1)\n",
    "    Lambda = np.exp(mu)\n",
    "    Lho = np.sum(alpha * (-y/Lambda - mu) + alpha*np.log(alpha) - math.lgamma(alpha) + (alpha-1)*y_log)\n",
    "\n",
    "    #多変量正規分布の対数事前分布\n",
    "    log_mvn = -1/2 * np.dot(np.dot(beta, tau_inv), beta)\n",
    "\n",
    "    #対数事後分布の和\n",
    "    LL = Lho + log_mvn\n",
    "    return LL\n",
    "\n",
    "#ガンマ回帰の対数事後分布の微分関数\n",
    "def dloglike_beta(beta, alpha, tau_inv, y, y_log, x, n):\n",
    "\n",
    "    #期待値の設定\n",
    "    mu = np.dot(x, beta).reshape(-1)\n",
    "    Lambda = np.exp(mu)\n",
    "\n",
    "    #微分関数の設定\n",
    "    dlgamma = np.sum(((y-Lambda) / (np.power(Lambda, 2)/alpha) * Lambda).reshape(n, 1) * x, axis=0)\n",
    "    dmvn = np.dot(-tau_inv, beta)\n",
    "\n",
    "    #対数事後分布の微分関数の和\n",
    "    LLd = -(dlgamma + dmvn)\n",
    "    return LLd\n",
    "\n",
    "#リープフロッグ法を解く関数\n",
    "def leapfrog_beta(r, z1, D, e, L, alpha, tau_inv, y, y_log, x, n): \n",
    "    def leapfrog_step(r, z1, e):\n",
    "        r2 = r - e * D(z1, alpha, tau_inv, y, y_log, x, n) / 2\n",
    "        z2 = z1 + e * r2\n",
    "        r2 = r2 - e * D(z2, alpha, tau_inv, y, y_log, x, n) / 2\n",
    "        return [r2, z2]   #1回の移動後の運動量と座標\n",
    "    leapfrog_result = [r, z1]\n",
    "    for i in range(L):\n",
    "        leapfrog_result = leapfrog_step(leapfrog_result[0], leapfrog_result[1], e)\n",
    "    return leapfrog_result"
   ]
  },
  {
   "cell_type": "code",
   "execution_count": 418,
   "metadata": {},
   "outputs": [],
   "source": [
    "##HMCで形状パラメータをサンプリングするための関数\n",
    "#対数事後分布を計算する関数\n",
    "def loglike_alpha(alpha, beta, y, y_log, x, new_si, new_Si, m0, m1):\n",
    "    #期待値の設定\n",
    "    alpha_vec = alpha[new_si]\n",
    "    mu = np.dot(new_Si * np.dot(x, beta), np.repeat(1, m0+m1))\n",
    "    Lambda = np.exp(mu)\n",
    "\n",
    "    #対数尤度の和\n",
    "    Lho = alpha_vec * (-y/Lambda - mu) + alpha_vec*np.log(alpha_vec) - scipy.special.gammaln(alpha)[new_si] + (alpha_vec-1)*y_log\n",
    "    LL = np.sum(Lho)\n",
    "    return LL\n",
    "\n",
    "#形状パラメータの微分関数\n",
    "def dloglike_alpha(alpha, beta, y, y_log, x, new_si, new_Si, m0, m1):\n",
    "    #期待値の設定\n",
    "    alpha_vec = alpha[new_si]\n",
    "    mu = np.dot(new_Si * np.dot(x, beta), np.repeat(1, m0+m1))\n",
    "    Lambda = np.exp(mu)\n",
    "\n",
    "    #微分関数の和\n",
    "    dlgamma0 = ((np.log(alpha_vec) - scipy.special.digamma(alpha)[new_si]) + 1 - y/Lambda + np.log(y/Lambda))[:, np.newaxis]\n",
    "    dlgamma = -np.sum(new_Si * dlgamma0, axis=0)\n",
    "    return dlgamma\n",
    "\n",
    "#リープフロッグ法を解く関数\n",
    "def leapfrog_alpha(r, z1, D, e, L, beta, y, y_log, x, new_si, new_Si, m0, m1): \n",
    "    def leapfrog_step(r, z1, e):\n",
    "        r2 = r - e * D(z1, beta, y, y_log, x, new_si, new_Si, m0, m1) / 2\n",
    "        z2 = z1 + e * r2\n",
    "        r2 = r2 - e * D(z2, beta, y, y_log, x, new_si, new_Si, m0, m1) / 2\n",
    "        return [r2, z2]   #1回の移動後の運動量と座標\n",
    "    leapfrog_result = [r, z1]\n",
    "    for i in range(L):\n",
    "        leapfrog_result = leapfrog_step(leapfrog_result[0], leapfrog_result[1], e)\n",
    "    return leapfrog_result"
   ]
  },
  {
   "cell_type": "code",
   "execution_count": 419,
   "metadata": {},
   "outputs": [],
   "source": [
    "##アルゴリズムの設定\n",
    "R = 2000\n",
    "keep = 2\n",
    "burnin = int(500/keep)\n",
    "iter = 0\n",
    "disp = 10\n",
    "e1 = 0.001\n",
    "e2 = 0.001\n",
    "L = 3"
   ]
  },
  {
   "cell_type": "code",
   "execution_count": 420,
   "metadata": {},
   "outputs": [],
   "source": [
    "##インデックスの設定\n",
    "#先頭と後尾のインデックスを作成\n",
    "max_pt = np.max(pt_id) + 1\n",
    "index_t1 = np.array(np.where(pt_id==0)[0], dtype=\"int\")\n",
    "index_t12 = np.repeat(0, hh)\n",
    "for i in range(hh):\n",
    "    index_t12[i] = np.max(user_list[i])\n",
    "    \n",
    "#中間のインデックスを作成\n",
    "index_list_t21 = [j for j in range(max_pt-1)]\n",
    "index_list_t22 = [j for j in range(max_pt-1)]\n",
    "for j in range(1, max_pt):\n",
    "    index_list_t21[j-1] = np.array(np.where(pt_id==j)[0], dtype=\"int\") - 1\n",
    "    index_list_t22[j-1] = np.array(np.where(pt_id==j)[0], dtype=\"int\")\n",
    "index_t21 = np.sort(np.array(list(itertools.chain(*[index_list_t21[j] for j in range(max_pt-1)]))))\n",
    "index_t22 = np.sort(np.array(list(itertools.chain(*[index_list_t22[j] for j in range(max_pt-1)]))))"
   ]
  },
  {
   "cell_type": "code",
   "execution_count": 421,
   "metadata": {},
   "outputs": [],
   "source": [
    "##事前分布の設定\n",
    "#潜在変数の事前分布\n",
    "a0 = 1; b0 = 1\n",
    "alpha01 = 0.1\n",
    "alpha02 = 1.0\n",
    "\n",
    "#ガンマ回帰の事前分布\n",
    "tau = np.diag(np.repeat(100, col_x))\n",
    "tau_inv = np.linalg.inv(tau)"
   ]
  },
  {
   "cell_type": "code",
   "execution_count": 427,
   "metadata": {},
   "outputs": [
    {
     "data": {
      "text/plain": [
       "array([219220, 395393, 279547,   2614,   2925])"
      ]
     },
     "execution_count": 427,
     "metadata": {},
     "output_type": "execute_result"
    }
   ],
   "source": [
    "##パラメータの真値\n",
    "#潜在変数の割当率のパラメータの真値\n",
    "pi = pit.copy()  \n",
    "gamma = gammat.copy()\n",
    "delta = deltat.copy()\n",
    "omega0 = omegat0.copy()\n",
    "omega1 = omegat1.copy()\n",
    "theta0 = thetat0.copy()\n",
    "theta1 = thetat1.copy()\n",
    "\n",
    "#潜在変数の真値\n",
    "Zi = Z\n",
    "Ai = A\n",
    "si = s\n",
    "Si = S.copy()\n",
    "Si0 = Si[:, :m0].copy()\n",
    "Si0[np.where(Si[:, m0]==1)[0], ] = np.random.multinomial(1, omega0[:m0], np.sum(Si[:, m0]))\n",
    "new_Si = np.hstack((Si[:, :m0], Si[:, m0][:, np.newaxis] * np.array(np.eye(m1+1), dtype=\"int\")[Ai[user_id]][:, 1:]))\n",
    "new_si = np.dot(new_Si, np.arange(m0+m1))\n",
    "s0_vec = np.dot(Si0, np.arange(m0))\n",
    "s1_vec = np.dot(Si, np.arange(m0+1))\n",
    "\n",
    "#モデルパラメータの真値\n",
    "alpha0 = alphat0\n",
    "alpha1 = alphat1\n",
    "alphat = np.append(alpha0, alpha1); alpha = alphat.copy()\n",
    "beta0 = betat0\n",
    "beta1 = betat1\n",
    "betat = np.hstack((beta0, beta1)); beta = betat.copy()\n",
    "np.sum(new_Si, axis=0)"
   ]
  },
  {
   "cell_type": "code",
   "execution_count": 428,
   "metadata": {},
   "outputs": [
    {
     "name": "stdout",
     "output_type": "stream",
     "text": [
      "-2350313.191888656\n"
     ]
    }
   ],
   "source": [
    "##対数尤度の基準値\n",
    "#真値での対数尤度\n",
    "LLbest = loglike_alpha(alpha, beta, y, y_log, x, new_si, new_Si, m0, m1)\n",
    "print(LLbest)"
   ]
  },
  {
   "cell_type": "code",
   "execution_count": 429,
   "metadata": {
    "scrolled": true
   },
   "outputs": [
    {
     "name": "stdout",
     "output_type": "stream",
     "text": [
      "0\n",
      "[-2058281.  -2350313.2]\n",
      "[0. 1. 1. 1. 1.]\n",
      "1.0\n"
     ]
    },
    {
     "name": "stderr",
     "output_type": "stream",
     "text": [
      "C:\\Users\\sana\\Anaconda3\\lib\\site-packages\\ipykernel_launcher.py:62: RuntimeWarning: divide by zero encountered in log\n"
     ]
    },
    {
     "name": "stdout",
     "output_type": "stream",
     "text": [
      "10\n",
      "[-1877319.5 -2350313.2]\n",
      "[1. 1. 1. 1. 1.]\n",
      "1.0\n",
      "20\n",
      "[-1719210.7 -2350313.2]\n",
      "[1. 1. 1. 1. 1.]\n",
      "1.0\n",
      "30\n",
      "[-1729119.5 -2350313.2]\n",
      "[1. 1. 1. 1. 1.]\n",
      "1.0\n",
      "40\n",
      "[-1737122.5 -2350313.2]\n",
      "[1. 1. 1. 1. 1.]\n",
      "1.0\n",
      "50\n",
      "[-1725925.3 -2350313.2]\n",
      "[1. 1. 1. 1. 1.]\n",
      "1.0\n",
      "60\n",
      "[-1714835.6 -2350313.2]\n",
      "[1. 1. 1. 1. 1.]\n",
      "1.0\n",
      "70\n",
      "[-1707605.2 -2350313.2]\n",
      "[1. 1. 1. 1. 1.]\n",
      "1.0\n",
      "80\n",
      "[-1703499.2 -2350313.2]\n",
      "[0.96 1.   1.   1.   1.  ]\n",
      "1.0\n",
      "90\n",
      "[-1700479.3 -2350313.2]\n",
      "[0.99  0.994 1.    1.    1.   ]\n",
      "1.0\n",
      "100\n",
      "[-1698506.  -2350313.2]\n",
      "[1. 1. 1. 1. 1.]\n",
      "1.0\n",
      "110\n",
      "[-1698647.2 -2350313.2]\n",
      "[0.977 1.    1.    1.    1.   ]\n",
      "1.0\n",
      "120\n",
      "[-1696835.3 -2350313.2]\n",
      "[0.647 1.    1.    1.    1.   ]\n",
      "1.0\n",
      "130\n",
      "[-1699053.  -2350313.2]\n",
      "[0.934 1.    1.    1.    1.   ]\n",
      "1.0\n",
      "140\n",
      "[-1698112.8 -2350313.2]\n",
      "[1.    0.983 1.    1.    1.   ]\n",
      "1.0\n",
      "150\n",
      "[-1698095.6 -2350313.2]\n",
      "[1. 1. 1. 1. 1.]\n",
      "1.0\n",
      "160\n",
      "[-1700007.8 -2350313.2]\n",
      "[1.    1.    0.999 1.    1.   ]\n",
      "1.0\n",
      "170\n",
      "[-1698945.7 -2350313.2]\n",
      "[1. 1. 1. 1. 1.]\n",
      "1.0\n",
      "180\n",
      "[-1699584.7 -2350313.2]\n",
      "[1.    0.963 1.    1.    1.   ]\n",
      "1.0\n",
      "190\n",
      "[-1700538.9 -2350313.2]\n",
      "[0.977 1.    1.    1.    1.   ]\n",
      "1.0\n",
      "200\n",
      "[-1700380.6 -2350313.2]\n",
      "[0.987 0.956 1.    0.981 0.99 ]\n",
      "1.0\n"
     ]
    },
    {
     "ename": "KeyboardInterrupt",
     "evalue": "",
     "output_type": "error",
     "traceback": [
      "\u001b[1;31m---------------------------------------------------------------------------\u001b[0m",
      "\u001b[1;31mKeyboardInterrupt\u001b[0m                         Traceback (most recent call last)",
      "\u001b[1;32m<ipython-input-429-53def10bad93>\u001b[0m in \u001b[0;36m<module>\u001b[1;34m()\u001b[0m\n\u001b[0;32m    123\u001b[0m \u001b[1;33m\u001b[0m\u001b[0m\n\u001b[0;32m    124\u001b[0m         \u001b[1;31m#移動前と移動後のハミルトニアン\u001b[0m\u001b[1;33m\u001b[0m\u001b[1;33m\u001b[0m\u001b[0m\n\u001b[1;32m--> 125\u001b[1;33m         \u001b[0mHnew\u001b[0m \u001b[1;33m=\u001b[0m \u001b[1;33m-\u001b[0m\u001b[0mloglike_beta\u001b[0m\u001b[1;33m(\u001b[0m\u001b[0mbetan\u001b[0m\u001b[1;33m,\u001b[0m \u001b[0malpha\u001b[0m\u001b[1;33m[\u001b[0m\u001b[0mj\u001b[0m\u001b[1;33m]\u001b[0m\u001b[1;33m,\u001b[0m \u001b[0mtau_inv\u001b[0m\u001b[1;33m,\u001b[0m \u001b[0my1\u001b[0m\u001b[1;33m,\u001b[0m \u001b[0my1_log\u001b[0m\u001b[1;33m,\u001b[0m \u001b[0mx1\u001b[0m\u001b[1;33m)\u001b[0m \u001b[1;33m+\u001b[0m \u001b[0mnp\u001b[0m\u001b[1;33m.\u001b[0m\u001b[0msum\u001b[0m\u001b[1;33m(\u001b[0m\u001b[0mnp\u001b[0m\u001b[1;33m.\u001b[0m\u001b[0mpower\u001b[0m\u001b[1;33m(\u001b[0m\u001b[0mrnew\u001b[0m\u001b[1;33m,\u001b[0m \u001b[1;36m2\u001b[0m\u001b[1;33m)\u001b[0m\u001b[1;33m)\u001b[0m \u001b[1;33m/\u001b[0m \u001b[1;36m2\u001b[0m\u001b[1;33m\u001b[0m\u001b[0m\n\u001b[0m\u001b[0;32m    126\u001b[0m         \u001b[0mHold\u001b[0m \u001b[1;33m=\u001b[0m \u001b[1;33m-\u001b[0m\u001b[0mloglike_beta\u001b[0m\u001b[1;33m(\u001b[0m\u001b[0mbetad\u001b[0m\u001b[1;33m,\u001b[0m \u001b[0malpha\u001b[0m\u001b[1;33m[\u001b[0m\u001b[0mj\u001b[0m\u001b[1;33m]\u001b[0m\u001b[1;33m,\u001b[0m \u001b[0mtau_inv\u001b[0m\u001b[1;33m,\u001b[0m \u001b[0my1\u001b[0m\u001b[1;33m,\u001b[0m \u001b[0my1_log\u001b[0m\u001b[1;33m,\u001b[0m \u001b[0mx1\u001b[0m\u001b[1;33m)\u001b[0m \u001b[1;33m+\u001b[0m \u001b[0mnp\u001b[0m\u001b[1;33m.\u001b[0m\u001b[0msum\u001b[0m\u001b[1;33m(\u001b[0m\u001b[0mnp\u001b[0m\u001b[1;33m.\u001b[0m\u001b[0mpower\u001b[0m\u001b[1;33m(\u001b[0m\u001b[0mrold\u001b[0m\u001b[1;33m,\u001b[0m \u001b[1;36m2\u001b[0m\u001b[1;33m)\u001b[0m\u001b[1;33m)\u001b[0m \u001b[1;33m/\u001b[0m \u001b[1;36m2\u001b[0m\u001b[1;33m\u001b[0m\u001b[0m\n\u001b[0;32m    127\u001b[0m \u001b[1;33m\u001b[0m\u001b[0m\n",
      "\u001b[1;32m<ipython-input-417-898fdbc35744>\u001b[0m in \u001b[0;36mloglike_beta\u001b[1;34m(beta, alpha, tau_inv, y, y_log, x)\u001b[0m\n\u001b[0;32m     18\u001b[0m     \u001b[0mmu\u001b[0m \u001b[1;33m=\u001b[0m \u001b[0mnp\u001b[0m\u001b[1;33m.\u001b[0m\u001b[0mdot\u001b[0m\u001b[1;33m(\u001b[0m\u001b[0mx\u001b[0m\u001b[1;33m,\u001b[0m \u001b[0mbeta\u001b[0m\u001b[1;33m)\u001b[0m\u001b[1;33m.\u001b[0m\u001b[0mreshape\u001b[0m\u001b[1;33m(\u001b[0m\u001b[1;33m-\u001b[0m\u001b[1;36m1\u001b[0m\u001b[1;33m)\u001b[0m\u001b[1;33m\u001b[0m\u001b[0m\n\u001b[0;32m     19\u001b[0m     \u001b[0mLambda\u001b[0m \u001b[1;33m=\u001b[0m \u001b[0mnp\u001b[0m\u001b[1;33m.\u001b[0m\u001b[0mexp\u001b[0m\u001b[1;33m(\u001b[0m\u001b[0mmu\u001b[0m\u001b[1;33m)\u001b[0m\u001b[1;33m\u001b[0m\u001b[0m\n\u001b[1;32m---> 20\u001b[1;33m     \u001b[0mLho\u001b[0m \u001b[1;33m=\u001b[0m \u001b[0mnp\u001b[0m\u001b[1;33m.\u001b[0m\u001b[0msum\u001b[0m\u001b[1;33m(\u001b[0m\u001b[0malpha\u001b[0m \u001b[1;33m*\u001b[0m \u001b[1;33m(\u001b[0m\u001b[1;33m-\u001b[0m\u001b[0my\u001b[0m\u001b[1;33m/\u001b[0m\u001b[0mLambda\u001b[0m \u001b[1;33m-\u001b[0m \u001b[0mmu\u001b[0m\u001b[1;33m)\u001b[0m \u001b[1;33m+\u001b[0m \u001b[0malpha\u001b[0m\u001b[1;33m*\u001b[0m\u001b[0mnp\u001b[0m\u001b[1;33m.\u001b[0m\u001b[0mlog\u001b[0m\u001b[1;33m(\u001b[0m\u001b[0malpha\u001b[0m\u001b[1;33m)\u001b[0m \u001b[1;33m-\u001b[0m \u001b[0mmath\u001b[0m\u001b[1;33m.\u001b[0m\u001b[0mlgamma\u001b[0m\u001b[1;33m(\u001b[0m\u001b[0malpha\u001b[0m\u001b[1;33m)\u001b[0m \u001b[1;33m+\u001b[0m \u001b[1;33m(\u001b[0m\u001b[0malpha\u001b[0m\u001b[1;33m-\u001b[0m\u001b[1;36m1\u001b[0m\u001b[1;33m)\u001b[0m\u001b[1;33m*\u001b[0m\u001b[0my_log\u001b[0m\u001b[1;33m)\u001b[0m\u001b[1;33m\u001b[0m\u001b[0m\n\u001b[0m\u001b[0;32m     21\u001b[0m \u001b[1;33m\u001b[0m\u001b[0m\n\u001b[0;32m     22\u001b[0m     \u001b[1;31m#多変量正規分布の対数事前分布\u001b[0m\u001b[1;33m\u001b[0m\u001b[1;33m\u001b[0m\u001b[0m\n",
      "\u001b[1;31mKeyboardInterrupt\u001b[0m: "
     ]
    }
   ],
   "source": [
    "####パラメータをサンプリング####\n",
    "for rp in range(R):\n",
    "\n",
    "    ##ユーザーの状態ごとの潜在変数を生成\n",
    "    #潜在変数ごとのガンマ回帰の尤度\n",
    "    Lho = np.zeros((hhpt, m0+m1))\n",
    "    for j in range(m0+m1):\n",
    "        Lho[:, j] = np.exp(loglike(beta[:, j], alpha[j], y, y_log, x)[1])\n",
    "    Lho_new = np.hstack((Lho[:, :m0], np.sum(Lho[:, m0:], axis=1)[:, np.newaxis]))\n",
    "\n",
    "    #HMMの混合率と推移確率\n",
    "    theta_dt01 = np.full((hhpt, m0), 1/m0); theta_dt02 = theta_dt01.copy()\n",
    "    theta_dt11 = np.full((hhpt, m0+1), 1/(m0+1)); theta_dt12 = theta_dt11.copy()\n",
    "    theta_dt01[index_t1, ] = np.full((hh, m0), omega0[:m0])\n",
    "    theta_dt01[index_t22, ] = theta0[:m0, :m0][s0_vec[index_t21], ]\n",
    "    theta_dt02[index_t21, ] = (theta0[:m0, :m0].T)[s0_vec[index_t22], ]\n",
    "    theta_dt11[index_t1, ] = np.full((hh, m0+1), omega1)\n",
    "    theta_dt11[index_t22, ] = theta1[s1_vec[index_t21], ]\n",
    "    theta_dt12[index_t21, ] = (theta1.T)[s1_vec[index_t22], ]\n",
    "\n",
    "    #潜在変数ごとの事後分布と期待値\n",
    "    Posterior0 = theta_dt01 * theta_dt02 * Lho_new[:, :m0]\n",
    "    Posterior1 = theta_dt11 * theta_dt12 * Lho_new\n",
    "    new_posterior0 = np.dot(Posterior0, np.repeat(1, m0))[:, np.newaxis]\n",
    "    new_posterior1 = np.dot(Posterior1, np.repeat(1, m0+1))[:, np.newaxis]\n",
    "\n",
    "    #ユーザーごとの潜在変数の事後分布\n",
    "    pi_vec = np.append(1-pi, pi)\n",
    "    new_posterior = np.zeros((hh, 2))\n",
    "    for i in range(hh):\n",
    "        index = user_list[i]\n",
    "        Posterior = np.sum(np.log(np.hstack((new_posterior0[index, ], new_posterior1[index, ]))), axis=0)\n",
    "        new_posterior[i, ] = pi_vec * np.exp(Posterior - np.max(Posterior))   #ユーザーごとの潜在変数の事後分布\n",
    "\n",
    "    #ベルヌーイ分布からユーザーの状態をサンプリング\n",
    "    z_rate = new_posterior / np.sum(new_posterior, axis=1)[:, np.newaxis]   #潜在変数の割当確率\n",
    "    Zi = np.random.binomial(1, z_rate[:, 1], hh)\n",
    "    index_z = np.array(np.where(Zi==1)[0], dtype=\"int\")\n",
    "    n = index_z.shape[0]\n",
    "\n",
    "    ##観測ごとの潜在状態をサンプリング\n",
    "    #潜在状態の割当確率\n",
    "    s_rate0 = Posterior0 / np.dot(Posterior0, np.repeat(1, m0))[:, np.newaxis]\n",
    "    s_rate1 = Posterior1 / np.dot(Posterior1, np.repeat(1, m0+1))[:, np.newaxis]\n",
    "\n",
    "    #多項分布から潜在状態をサンプリング\n",
    "    Si0 = np.array(rmnom(s_rate0, hhpt, m0, np.arange(hhpt)).todense())\n",
    "    Si1 = np.array(rmnom(s_rate1, hhpt, m0+1, np.arange(hhpt)).todense())\n",
    "    s0_vec = np.dot(Si0, np.arange(m0))\n",
    "    s1_vec = np.dot(Si1, np.arange(m0 + 1))\n",
    "\n",
    "    #ユーザーの状態に応じて潜在状態を割り当てる\n",
    "    Ai = np.repeat(0, hh)\n",
    "    Posterior_A = np.zeros((n, 2))\n",
    "    Si = np.hstack((Si0, np.repeat(0, hhpt)[:, np.newaxis]))\n",
    "    for i in range(n):\n",
    "        index = user_list[index_z[i]]\n",
    "        Si[index, ] = Si1[index, ]\n",
    "\n",
    "        #ユーザーの異常状態の事後分布\n",
    "        index_s = np.where(Si[index, m0]==1)[0]\n",
    "        Lho_new = np.sum(np.log(Lho[index, m0:][index_s, ]), axis=0)\n",
    "        Posterior_A[i, ] = np.append(1-delta, delta) * np.exp(Lho_new - np.max(Lho_new))\n",
    "\n",
    "    #潜在状態をベクトルに変換\n",
    "    s_vec = np.dot(Si, np.arange(m0+1))\n",
    "\n",
    "    #ベルヌーイ分布からユーザーの異常状態をサンプリング\n",
    "    A_rate = Posterior_A / np.sum(Posterior_A, axis=1)[:, np.newaxis]\n",
    "    ai = np.random.binomial(1, A_rate[:, 1], n) \n",
    "    Ai[index_z] = ai + 1\n",
    "\n",
    "    ##混合率とマルコフ推移行列をサンプリング\n",
    "    #ユーザー状態の混合率をサンプリング\n",
    "    a = n + a0\n",
    "    b = hh + b0\n",
    "    pi = np.random.beta(a, b, 1)\n",
    "\n",
    "    #異常状態のタイプの混合率をサンプリング\n",
    "    a = np.sum(ai) + a0\n",
    "    b = n + b0\n",
    "    delta = np.random.beta(a, b, 1)\n",
    "\n",
    "    #正常状態と異常状態の切換確率をサンプリング\n",
    "    rf = np.dot(Si[index_t21, ].T, Si[index_t22, ])\n",
    "    f = np.sum(pt[index_z]) - np.sum(rf[m0, ])\n",
    "    a = np.sum(rf[:m0, m0]) + a0\n",
    "    b = f - a + b0\n",
    "    theta_m1 = np.random.dirichlet(rf[m0, ] + alpha01, 1).reshape(-1)\n",
    "    gamma = np.append(np.random.beta(a, b, 1), theta_m1[m0])\n",
    "\n",
    "    #マルコフ推移状列をサンプリング\n",
    "    rf1 = np.sum(Si[index_t1, ], axis=0)[:m0] + alpha01\n",
    "    rf2 = rf[:m0, :m0] + alpha02\n",
    "    omega0 = np.append(np.random.dirichlet(rf1, 1).reshape(-1), 0)\n",
    "    omega1 = np.append((1-gamma[0])*omega0[:m0], gamma[0])\n",
    "    theta0 = np.zeros((m0+1, m0+1))\n",
    "    for j in range(m0):\n",
    "        theta0[j, :m0] = np.random.dirichlet(rf2[j, ], 1)\n",
    "    theta1 = np.vstack((np.hstack(((1-gamma[0])*theta0[:m0, :m0], np.repeat(gamma[0], m0)[:, np.newaxis])), theta_m1))\n",
    "\n",
    "    ##ガンマ回帰モデルのパラメータをサンプリング\n",
    "    #データの設定\n",
    "    new_Si = np.hstack((Si[:, :m0], Si[:, m0][:, np.newaxis] * np.array(np.eye(m1+1), dtype=\"int\")[Ai[user_id]][:, 1:]))\n",
    "    accept_prob1 = np.repeat(0.0, m0+m1)\n",
    "    \n",
    "    ##回帰パラメータをサンプリング\n",
    "    for j in range(m0+m1):\n",
    "        #潜在変数ごとのデータを抽出\n",
    "        index = np.array(np.where(new_Si[:, j]==1)[0], dtype=\"int\")\n",
    "        y1 = y[index]; x1 = x[index, ]\n",
    "        n = index.shape[0]\n",
    "\n",
    "        #HMCの新しいパラメータを生成\n",
    "        rold = np.random.normal(0, 1, col_x)\n",
    "        betad = beta[:, j]\n",
    "\n",
    "        #リープフロッグ法による1ステップ移動\n",
    "        y1_log = np.log(y1)\n",
    "        res = leapfrog_beta(rold, betad, dloglike_beta, np.min(np.array([e1, 1/(n/100)])), L, alpha[j], tau_inv, y1, y1_log, x1, n)\n",
    "        rnew = res[0]\n",
    "        betan = res[1]\n",
    "\n",
    "        #移動前と移動後のハミルトニアン\n",
    "        Hnew = -loglike_beta(betan, alpha[j], tau_inv, y1, y1_log, x1) + np.sum(np.power(rnew, 2)) / 2\n",
    "        Hold = -loglike_beta(betad, alpha[j], tau_inv, y1, y1_log, x1) + np.sum(np.power(rold, 2)) / 2\n",
    "\n",
    "        #新しいパラメータの採択を決定\n",
    "        rand = np.random.uniform(0, 1, 1)\n",
    "        accept_prob = np.min(np.append(1, np.exp(Hold - Hnew)))   #採択率\n",
    "        accept_prob1[j] = accept_prob\n",
    "\n",
    "        #採択率に基づきalphaを採択\n",
    "        if(accept_prob >= rand):\n",
    "            beta[:, j] = betan\n",
    "        else:\n",
    "            beta[:, j] = betad\n",
    "\n",
    "    ##サンプリング結果の格納と表示\n",
    "    if rp%keep==0:\n",
    "        mkeep = int(rp/keep)\n",
    "\n",
    "    if rp%disp==0:\n",
    "        #対数尤度を更新\n",
    "        LL = loglike_alpha(alpha, beta, y, y_log, x, new_si, new_Si, m0, m1)\n",
    "        \n",
    "        #サンプリング結果を表示\n",
    "        print(rp)\n",
    "        print(np.round([LL, LLbest], 1))\n",
    "        print(np.round(accept_prob1, 3))\n",
    "        print(np.round(accept_prob2, 3))"
   ]
  },
  {
   "cell_type": "code",
   "execution_count": 435,
   "metadata": {},
   "outputs": [
    {
     "data": {
      "text/plain": [
       "array([200703,  36553,   6078, 364738, 291627])"
      ]
     },
     "execution_count": 435,
     "metadata": {},
     "output_type": "execute_result"
    }
   ],
   "source": [
    "np.sum(np.hstack((Si[:, :m0], Si[:, m0][:, np.newaxis] * np.array(np.eye(m1+1), dtype=\"int\")[Ai[user_id]][:, 1:])), axis=0)"
   ]
  },
  {
   "cell_type": "code",
   "execution_count": 437,
   "metadata": {},
   "outputs": [
    {
     "data": {
      "text/plain": [
       "array([2, 2, 2, ..., 1, 1, 1])"
      ]
     },
     "execution_count": 437,
     "metadata": {},
     "output_type": "execute_result"
    }
   ],
   "source": []
  },
  {
   "cell_type": "code",
   "execution_count": 438,
   "metadata": {},
   "outputs": [
    {
     "data": {
      "text/plain": [
       "array([200703,  36553,   6078, 656365])"
      ]
     },
     "execution_count": 438,
     "metadata": {},
     "output_type": "execute_result"
    }
   ],
   "source": [
    "np.sum(Si, axis=0)"
   ]
  },
  {
   "cell_type": "code",
   "execution_count": 439,
   "metadata": {},
   "outputs": [
    {
     "data": {
      "text/plain": [
       "array([11.14840215,  1.27129625,  0.22933217,  2.66609739,  2.8632432 ])"
      ]
     },
     "execution_count": 439,
     "metadata": {},
     "output_type": "execute_result"
    }
   ],
   "source": [
    "np.sum(new_Si * np.exp(np.dot(x, beta)), axis=0) / np.sum(new_Si, axis=0)"
   ]
  },
  {
   "cell_type": "code",
   "execution_count": 386,
   "metadata": {},
   "outputs": [
    {
     "data": {
      "text/plain": [
       "array([177312, 331955, 383896,   2799,   3121])"
      ]
     },
     "execution_count": 386,
     "metadata": {},
     "output_type": "execute_result"
    }
   ],
   "source": [
    "np.sum(new_Si, axis=0)"
   ]
  },
  {
   "cell_type": "code",
   "execution_count": 395,
   "metadata": {},
   "outputs": [
    {
     "name": "stdout",
     "output_type": "stream",
     "text": [
      "[-0.73393919  0.12882148  0.0207376   0.13458205 -0.16859015 -0.27753421\n",
      "  0.0500827   0.2855864  -0.06200178 -0.33179329  0.20356051  0.72064516\n",
      " -0.05307735 -0.33202463 -0.30670984 -0.12779166 -0.43230234  0.44578529\n",
      "  0.10329185 -0.05554606  0.08082565 -0.07177835 -0.2869069   0.40890783\n",
      "  0.09088224 -0.68427565  0.24786343]\n",
      "[-0.52750493  0.26308286  0.14548734  0.19238606 -0.10113327 -0.16344032\n",
      "  0.05445167  0.34027242  0.01874557 -0.25349938  0.26181864  0.75032671\n",
      "  0.01488661 -0.20181866 -0.26935252 -0.0021948  -0.35109905  0.52256305\n",
      "  0.11087227  0.01899344  0.18409064  0.00233622 -0.1906237   0.45384194\n",
      "  0.20844289 -0.59919721  0.32434356]\n"
     ]
    }
   ],
   "source": [
    "j = 3\n",
    "print(beta[:, j])\n",
    "print(betat[:, j])"
   ]
  },
  {
   "cell_type": "code",
   "execution_count": 392,
   "metadata": {},
   "outputs": [
    {
     "data": {
      "text/plain": [
       "array([ 2.21512943, 10.20491501,  2.66743427,  1.86756473,  2.97852619])"
      ]
     },
     "execution_count": 392,
     "metadata": {},
     "output_type": "execute_result"
    }
   ],
   "source": [
    "\n",
    "    ##形状パラメータをサンプリング\n",
    "    #HMCの新しいパラメータを生成\n",
    "    rold = np.random.normal(0, 1, m0+m1)\n",
    "    alphad = alpha.copy()\n",
    "\n",
    "    #リープ・フロッグ法による1ステップ移動\n",
    "    res = leapfrog_alpha(rold, alphad, dloglike_alpha, e2, L, beta, y, y_log, x, new_si, new_Si, m0, m1)\n",
    "    rnew = res[0]\n",
    "    alphan = res[1]\n",
    "\n",
    "    #移動前と移動後のハミルトニアン\n",
    "    Hnew = -loglike_alpha(alphan, beta, y, y_log, x, new_si, new_Si, m0, m1)# + np.sum(np.power(rnew, 2))/2\n",
    "    Hold = -loglike_alpha(alphad, beta, y, y_log, x, new_si, new_Si, m0, m1)# + np.sum(np.power(rold, 2))/2\n",
    "\n",
    "    #新しいパラメータの採択を決定\n",
    "    rand = np.random.uniform(0, 1, 1)\n",
    "    accept_prob = np.min(np.append(1, np.exp(Hold - Hnew)))   #採択率\n",
    "    accept_prob2 = accept_prob.copy()\n",
    "\n",
    "    #採択率に基づきalphaを採択\n",
    "    if(accept_prob >= rand):\n",
    "        alpha = alphan\n",
    "    else:\n",
    "        alpha = alphad"
   ]
  },
  {
   "cell_type": "code",
   "execution_count": null,
   "metadata": {},
   "outputs": [],
   "source": []
  }
 ],
 "metadata": {
  "kernelspec": {
   "display_name": "Python 3",
   "language": "python",
   "name": "python3"
  },
  "language_info": {
   "codemirror_mode": {
    "name": "ipython",
    "version": 3
   },
   "file_extension": ".py",
   "mimetype": "text/x-python",
   "name": "python",
   "nbconvert_exporter": "python",
   "pygments_lexer": "ipython3",
   "version": "3.6.5"
  }
 },
 "nbformat": 4,
 "nbformat_minor": 2
}
