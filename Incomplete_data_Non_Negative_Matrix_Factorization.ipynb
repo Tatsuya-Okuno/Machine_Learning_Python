{
 "cells": [
  {
   "cell_type": "code",
   "execution_count": 5,
   "metadata": {},
   "outputs": [],
   "source": [
    "#####欠損値のある非負値行列因子分解#####\n",
    "import numpy as np\n",
    "import pandas as pd\n",
    "import matplotlib.pyplot  as plt\n",
    "import numpy.matlib\n",
    "import scipy\n",
    "import scipy.linalg\n",
    "import scipy.stats as ss\n",
    "import itertools\n",
    "from numpy.random import *\n",
    "from scipy import optimize\n",
    "from scipy.stats import norm\n",
    "from scipy import sparse"
   ]
  },
  {
   "cell_type": "code",
   "execution_count": 6,
   "metadata": {},
   "outputs": [],
   "source": [
    "####データの発生####\n",
    "##データの設定\n",
    "k = 10   #基底数\n",
    "hh = 5000   #ユーザー数\n",
    "item = 3000   #アイテム数\n",
    "hhpt = hh*item\n",
    "vec_k = np.repeat(1, k)"
   ]
  },
  {
   "cell_type": "code",
   "execution_count": 7,
   "metadata": {},
   "outputs": [],
   "source": [
    "##IDとインデックスの設定\n",
    "#IDの設定\n",
    "user_id0 = np.repeat(range(hh), item)\n",
    "item_id0 = np.matlib.repmat(range(item), 1, hh).reshape(-1)"
   ]
  },
  {
   "cell_type": "code",
   "execution_count": 8,
   "metadata": {},
   "outputs": [],
   "source": [
    "#インデックスの設定\n",
    "index = np.array(range(hhpt))\n",
    "user_index0 = [i for i in range(hh)]\n",
    "item_index0 = [j for j in range(item)]\n",
    "for i in range(hh):\n",
    "    user_index0[i]  = index[user_id0==i]\n",
    "for j in range(item):\n",
    "    item_index0[j] = index[item_id0==j]"
   ]
  },
  {
   "cell_type": "code",
   "execution_count": 9,
   "metadata": {},
   "outputs": [],
   "source": [
    "##非負値行列因子分解の仮定に基づきデータを生成\n",
    "#ガンマ分布よりパラメータを設定\n",
    "alpha01 = 0.35; beta01 = 1.0\n",
    "alpha02 = 0.25; beta02 = 0.85\n",
    "W = np.random.gamma(alpha01, 1/beta01, hh*k).reshape(hh, k)   #ユーザー特徴行列\n",
    "H = np.random.gamma(alpha02, 1/beta02, item*k).reshape(item, k)   #アイテム特徴行列\n",
    "WT = W; HT = H\n",
    "WH = np.dot(W, H.T).reshape(-1)\n",
    "\n",
    "#購買確率をベータ分布から生成\n",
    "alpha03 = 9.5; beta03 = 10.0\n",
    "alpha04 = 7.5; beta04 = 8.0\n",
    "beta1 = np.random.beta(alpha03, beta03, hh)   #ユーザー購買確率\n",
    "beta2 = np.random.beta(alpha04, beta04, item)   #アイテム購買確率\n",
    "\n",
    "#ポアソン分布よりデータを生成\n",
    "y_comp = np.random.poisson(WH, hhpt)"
   ]
  },
  {
   "cell_type": "code",
   "execution_count": 10,
   "metadata": {},
   "outputs": [],
   "source": [
    "##欠損のある購買データを生成\n",
    "#欠損ベクトルを生成\n",
    "z_vec0 = np.random.binomial(1, beta1[user_id0]*beta2[item_id0], hhpt)\n",
    "z_vec = z_vec0 * y_comp > 0\n",
    "\n",
    "#欠損インデックス\n",
    "index_z0 = index[z_vec0==0]\n",
    "index_z1 = index[(z_vec0==1) & (y_comp > 0)]\n",
    "N = index_z1.shape[0]\n",
    "\n",
    "#購買ベクトルに変換\n",
    "user_id = user_id0[index_z1]\n",
    "item_id = item_id0[index_z1]\n",
    "y_vec = y_comp[index_z1]\n",
    "y = y_comp[index_z1]   #観測されたデータ"
   ]
  },
  {
   "cell_type": "code",
   "execution_count": 11,
   "metadata": {
    "scrolled": true
   },
   "outputs": [],
   "source": [
    "#テストデータの作成\n",
    "user_id_test = user_id0[index_z0]\n",
    "item_id_test = item_id0[index_z0]\n",
    "y_test = y_comp[index_z0]"
   ]
  },
  {
   "cell_type": "code",
   "execution_count": 12,
   "metadata": {},
   "outputs": [],
   "source": [
    "####マルコフ連鎖モンテカルロ法でImcomplete data NMFを推定####\n",
    "##アルゴリズムの設定\n",
    "R = 2000\n",
    "keep = 2\n",
    "burnin = int(500/keep)\n",
    "iter = 0\n",
    "disp = 10"
   ]
  },
  {
   "cell_type": "code",
   "execution_count": 13,
   "metadata": {},
   "outputs": [],
   "source": [
    "##ユーザーおよびアイテムのインデックスを作成\n",
    "#インデックスを作成\n",
    "index = np.array(range(N))\n",
    "user_n = np.repeat(0, hh); item_n = np.repeat(0, item)\n",
    "user_index = [i for i in range(hh)]\n",
    "item_index = [j for j in range(item)]\n",
    "for i in range(hh):\n",
    "    user_index[i]  = index[user_id==i]\n",
    "    user_n[i] = user_index[i].shape[0]\n",
    "for j in range(item):\n",
    "    item_index[j] = index[item_id==j]\n",
    "    item_n[j] = item_index[j].shape[0]\n",
    "    \n",
    "#和を取るためのスパース行列\n",
    "user_dt = sparse.coo_matrix((np.repeat(1, N), (user_id, range(N))), shape=(hh, N)).tocsr()\n",
    "item_dt = sparse.coo_matrix((np.repeat(1, N), (item_id, range(N))), shape=(item, N)).tocsr()"
   ]
  },
  {
   "cell_type": "code",
   "execution_count": 14,
   "metadata": {},
   "outputs": [],
   "source": [
    "#事前分布の設定\n",
    "alpha1 = 0.1; beta1 = 1\n",
    "alpha2 = 0.1; beta2 = 1"
   ]
  },
  {
   "cell_type": "code",
   "execution_count": 15,
   "metadata": {},
   "outputs": [],
   "source": [
    "#パラメータの真値\n",
    "W = WT\n",
    "H = HT\n",
    "WH = np.dot(W[user_id, ] * H[item_id, ], vec_k)"
   ]
  },
  {
   "cell_type": "code",
   "execution_count": 16,
   "metadata": {},
   "outputs": [],
   "source": [
    "#初期値の設定\n",
    "W = np.random.gamma(0.1, 1/0.25, hh*k).reshape(hh, k)\n",
    "H = np.random.gamma(0.1, 1/0.25, item*k).reshape(item, k)\n",
    "WH = np.dot(W[user_id, ] * H[item_id, ], vec_k)"
   ]
  },
  {
   "cell_type": "code",
   "execution_count": 17,
   "metadata": {},
   "outputs": [],
   "source": [
    "#サンプリング結果の保存用配列\n",
    "W_array = np.zeros((hh, k, int(R/keep)))\n",
    "H_array = np.zeros((item, k, int(R/keep)))"
   ]
  },
  {
   "cell_type": "code",
   "execution_count": 18,
   "metadata": {},
   "outputs": [],
   "source": [
    "##対数尤度の基準値\n",
    "#1パラメータモデルの対数尤度\n",
    "z_st = np.random.binomial(1, 1-np.exp(-np.mean(y)), N)\n",
    "LLst = np.sum(scipy.stats.poisson.logpmf(z_st*y, np.mean(z_st*y)))\n",
    "LLst_test = np.sum(scipy.stats.poisson.logpmf(y_test, np.mean(y)))\n",
    "\n",
    "#真値の対数尤度\n",
    "z_best = np.random.binomial(1, 1-np.exp(-np.dot(WT[user_id, ] * HT[item_id, ], vec_k)), N)\n",
    "LLbest = np.sum(scipy.stats.poisson.logpmf(z_best*y, np.dot(WT[user_id, ] * HT[item_id, ], vec_k)))\n",
    "LLbest_test = np.sum(scipy.stats.poisson.logpmf(y_test, np.dot(WT[user_id_test, ] * HT[item_id_test, ], vec_k)))"
   ]
  },
  {
   "cell_type": "code",
   "execution_count": null,
   "metadata": {
    "scrolled": true
   },
   "outputs": [
    {
     "name": "stdout",
     "output_type": "stream",
     "text": [
      "0\n",
      "0.32622880772879687\n",
      "[-1530434.66 -3081144.8  -2283427.17]\n",
      "[-33608753.03 -23075687.94 -11931560.36]\n"
     ]
    }
   ],
   "source": [
    "####ギブスサンプリングでパラメータをサンプリング####\n",
    "for rp in range(R):\n",
    "    \n",
    "    ##潜在変数zをサンプリング\n",
    "    #応答変数の重み確率を設定\n",
    "    WH = np.dot(W[user_id, ] * H[item_id, ], vec_k)\n",
    "    Prob = 1 - np.exp(-WH)\n",
    "\n",
    "    #潜在変数zから新しい応答変数を設定\n",
    "    z = np.random.binomial(1, Prob, N)   #ベルヌーイ分布からzをサンプリング\n",
    "    y_new = z * y\n",
    "\n",
    "\n",
    "    ##ガンマ分布よりユーザー特徴行列Wをサンプリング\n",
    "    #補助変数lambdaを更新\n",
    "    W_vec = W[user_id, ]; H_vec = H[item_id, ]\n",
    "    WH_vec = W_vec * H_vec\n",
    "    WH = np.dot(WH_vec, vec_k)   #観測データのNMFの期待値\n",
    "    Lambda = WH_vec / WH.reshape(N, 1)\n",
    "\n",
    "    #ユーザーごとのガンマ分布のパラメータ\n",
    "    lambda_y = Lambda * y_new.reshape(N, 1)\n",
    "    lambda_h = H[item_id, ]\n",
    "    W1 = np.zeros((hh, k)); W2 = np.zeros((hh, k))\n",
    "    for i in range(hh):\n",
    "        W1[i, ] = np.sum(lambda_y[user_index[i], ], axis=0)\n",
    "        W2[i, ] = np.sum(lambda_h[user_index[i], ], axis=0)\n",
    "    W1 = W1 + alpha1; W2 = W2 + beta1\n",
    "\n",
    "    #パラメータをサンプリング\n",
    "    W = np.random.gamma(W1.reshape(-1), 1/W2.reshape(-1), hh*k).reshape(hh, k)\n",
    "\n",
    "    ##ガンマ分布よりアイテム特徴行列Hをサンプリング\n",
    "    #補助変数lambdaを更新\n",
    "    W_vec = W[user_id, ]; H_vec = H[item_id, ]\n",
    "    WH_vec = W_vec * H_vec\n",
    "    WH = np.dot(WH_vec, vec_k)   #観測データのNMFの期待値\n",
    "    Lambda = WH_vec / WH.reshape(N, 1)\n",
    "\n",
    "    #ユーザーごとのガンマ分布のパラメータ\n",
    "    lambda_y = Lambda * y_new.reshape(N, 1)\n",
    "    lambda_w = W[user_id, ]\n",
    "    H1 = np.zeros((item, k)); H2 = np.zeros((item, k))\n",
    "    for j in range(item):\n",
    "        H1[j, ] = np.sum(lambda_y[item_index[j], ], axis=0)\n",
    "        H2[j, ] = np.sum(lambda_w[item_index[j], ], axis=0)\n",
    "    H1 = H1 + alpha1; H2 = H2 + beta1\n",
    "\n",
    "    #パラメータをサンプリング\n",
    "    H = np.random.gamma(H1.reshape(-1), 1/H2.reshape(-1), item*k).reshape(item, k)\n",
    "\n",
    "\n",
    "    ##パラメータの格納とサンプリング結果の表示\n",
    "    #サンプリング結果の格納\n",
    "    if rp%keep==0:\n",
    "        mkeep = rp//keep\n",
    "        W_array[:, :, mkeep] = W\n",
    "        H_array[:, :, mkeep] = H\n",
    "\n",
    "    if rp%disp==0:\n",
    "        #対数尤度の更新\n",
    "        LL = np.sum(scipy.stats.poisson.logpmf(y_new, np.dot(W[user_id, ] * H[item_id, ], vec_k)))\n",
    "        LL_test = np.sum(scipy.stats.poisson.logpmf(y_test, np.dot(W[user_id_test, ] * H[item_id_test, ], vec_k)))\n",
    "\n",
    "        #サンプリング結果を確認\n",
    "        print(rp)\n",
    "        print(np.mean(z))\n",
    "        print(np.round(np.array([LL, LLst, LLbest]), 2))\n",
    "        print(np.round(np.array([LL_test, LLst_test, LLbest_test]), 2))        "
   ]
  },
  {
   "cell_type": "code",
   "execution_count": null,
   "metadata": {},
   "outputs": [],
   "source": []
  }
 ],
 "metadata": {
  "kernelspec": {
   "display_name": "Python 3",
   "language": "python",
   "name": "python3"
  },
  "language_info": {
   "codemirror_mode": {
    "name": "ipython",
    "version": 3
   },
   "file_extension": ".py",
   "mimetype": "text/x-python",
   "name": "python",
   "nbconvert_exporter": "python",
   "pygments_lexer": "ipython3",
   "version": "3.6.5"
  }
 },
 "nbformat": 4,
 "nbformat_minor": 2
}
