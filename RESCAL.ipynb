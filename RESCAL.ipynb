{
 "cells": [
  {
   "cell_type": "code",
   "execution_count": 28,
   "metadata": {},
   "outputs": [],
   "source": [
    "#####RESCAL#####\n",
    "import numpy as np\n",
    "import pandas as pd\n",
    "import matplotlib.pyplot  as plt\n",
    "import numpy.matlib\n",
    "import scipy.linalg\n",
    "import itertools\n",
    "import math\n",
    "from scipy import sparse\n",
    "from pandas.tools.plotting import scatter_matrix\n",
    "from numpy.random import *\n",
    "from scipy import optimize\n",
    "from scipy.stats import norm\n",
    "import seaborn as sns\n",
    "\n",
    "#np.random.seed(98537)"
   ]
  },
  {
   "cell_type": "code",
   "execution_count": 29,
   "metadata": {},
   "outputs": [],
   "source": [
    "####データの発生####\n",
    "##データの設定\n",
    "k = 10\n",
    "d = 5000\n",
    "m = 12\n",
    "no = np.arange(d)"
   ]
  },
  {
   "cell_type": "code",
   "execution_count": 30,
   "metadata": {},
   "outputs": [],
   "source": [
    "##ノードを生成\n",
    "#セグメントをリンク確率を生成\n",
    "g = 15\n",
    "Z = np.random.multinomial(1, np.random.dirichlet(np.repeat(2.0, g), 1).reshape(-1), d)\n",
    "z_vec = np.dot(Z, np.arange(g))\n",
    "beta = np.random.beta(0.75, 15.0, g*g).reshape(g, g)\n",
    "beta = np.triu(beta, k=1) + np.triu(beta).T\n",
    "\n",
    "#ノードの全パターンを作成\n",
    "target = np.triu(np.full((d, d), 1), k=1)\n",
    "D1 = np.triu(np.full((d, d), np.arange(d)).T, k=1)\n",
    "D2 = np.triu(np.full((d, d), np.arange(d)), k=1)\n",
    "d1 = D1[target==1]; d2 = D2[target==1]\n",
    "del target; D1, D2\n",
    "\n",
    "#ユーザーごとにノードを生成\n",
    "y = np.random.binomial(1, np.sum(beta[z_vec[d1], ] * Z[d2, ], axis=1), d1.shape[0])\n",
    "index_y = np.where(y==1)[0]\n",
    "d_id1 = d1[index_y]; d_id2 = d2[index_y]\n",
    "\n",
    "#インデックスを作成\n",
    "target = [i for i in range(d)]\n",
    "d_list = [i for i in range(d)]\n",
    "d_list1 = [i for i in range(d)]\n",
    "d_list2 = [i for i in range(d)]\n",
    "pt = np.repeat(0, d)\n",
    "for i in range(d):\n",
    "    d_list1[i] = np.array(np.where(d_id1==i)[0], dtype=\"int32\")\n",
    "    d_list2[i] = np.array(np.where(d_id2==i)[0], dtype=\"int32\")\n",
    "    d_list[i] = np.append(d_list1[i], d_list2[i])\n",
    "    target[i] = np.append(np.repeat(0, d_list1[i].shape[0]), np.repeat(1, d_list2[i].shape[0]))\n",
    "    pt[i] = target[i].shape[0]\n",
    "N = np.sum(pt)\n",
    "hhpt = d_id1.shape[0]"
   ]
  },
  {
   "cell_type": "code",
   "execution_count": 31,
   "metadata": {},
   "outputs": [],
   "source": [
    "##説明変数の生成\n",
    "#素性ベクトルを生成\n",
    "k1 = 4; k2 = 5; k3 = 4\n",
    "x1 = np.array(np.random.random(hhpt*k1)).reshape((hhpt, k1))\n",
    "x2 = np.zeros((hhpt, k2))\n",
    "for j in range(k2):\n",
    "    prob = np.random.uniform(0.25, 0.55, 1)\n",
    "    x2[:, j] = np.random.binomial(1, prob, hhpt)\n",
    "x3 = np.random.multinomial(1, np.random.dirichlet(np.repeat(3.0, k3), 1).reshape(k3), hhpt)\n",
    "x3 = np.delete(x3, np.argmin(np.sum(x3, axis=0)), axis=1)   #冗長な変数の削除\n",
    "x = np.concatenate((np.repeat(1, hhpt)[:, np.newaxis], x1, x2, x3), axis=1)\n",
    "x_col = x.shape[1]"
   ]
  },
  {
   "cell_type": "code",
   "execution_count": 32,
   "metadata": {
    "scrolled": true
   },
   "outputs": [
    {
     "name": "stdout",
     "output_type": "stream",
     "text": [
      "1\n"
     ]
    }
   ],
   "source": [
    "####応答変数を生成####\n",
    "rp = 0\n",
    "while True:\n",
    "    rp = rp + 1\n",
    "    print(rp)\n",
    "\n",
    "    #モデルパラメータを生成\n",
    "    beta = np.append(np.random.uniform(-1.25, -0.5, m), np.random.normal(0, 0.3, (x_col-1)*m)).reshape(x_col, m)\n",
    "    Cov = np.diag(np.repeat(0.5, k))\n",
    "    theta = np.random.multivariate_normal(np.repeat(0, k), Cov, d)\n",
    "    omega = np.zeros((k, k, m))\n",
    "    for j in range(m):\n",
    "        omega[:, :, j] = np.random.normal(0, 0.3, k*k).reshape(k, k)\n",
    "    betat = beta.copy(); thetat = theta.copy(); omegat = omega.copy()\n",
    "        \n",
    "    ##応答変数を生成\n",
    "    #期待値を設定\n",
    "    beta_mu = np.dot(x, beta)\n",
    "    mu = np.zeros((hhpt, m))\n",
    "    for j in range(m):\n",
    "        mu[:, j] = beta_mu[:, j] + np.dot(np.dot(theta, omega[:, :, j])[d_id1, ] * theta[d_id2, ], np.repeat(1, k))\n",
    "\n",
    "    #正規分布からバイナリー変数を生成\n",
    "    U = np.random.normal(mu, 1)\n",
    "    y = np.array(U > 0, dtype=\"int\")\n",
    "    UT = U.copy()\n",
    "    \n",
    "    #break条件\n",
    "    if (np.min(np.mean(y, axis=0)) > 0.1) & (np.max(np.mean(y, axis=0)) < 0.5):\n",
    "        break"
   ]
  },
  {
   "cell_type": "code",
   "execution_count": 33,
   "metadata": {},
   "outputs": [
    {
     "name": "stdout",
     "output_type": "stream",
     "text": [
      "[0.303 0.462 0.223 0.286 0.355 0.442 0.409 0.263 0.182 0.368 0.264 0.379]\n",
      "[156788 239255 115469 148262 183814 228794 211701 136168  94154 190639\n",
      " 136598 196069]\n"
     ]
    }
   ],
   "source": [
    "#生成したデータを確認\n",
    "print(np.round(np.mean(y, axis=0), 3))\n",
    "print(np.sum(y, axis=0))"
   ]
  },
  {
   "cell_type": "code",
   "execution_count": 34,
   "metadata": {},
   "outputs": [],
   "source": [
    "####RESCALのパラメータを推定####\n",
    "##パラメータ推定のための関数\n",
    "#切断正規分布の乱数を発生させる関数\n",
    "def rtnorm(mu, sigma, a, b, n, k):\n",
    "    FA = norm.cdf(a, mu, sigma)\n",
    "    FB = norm.cdf(b, mu, sigma)\n",
    "    if k==1:\n",
    "        res = norm.ppf(np.random.uniform(0, 1, n)*(FB-FA)+FA, mu, sigma)\n",
    "    else:\n",
    "        res = norm.ppf(np.random.uniform(0, 1, n*k).reshape(n, k)*(FB-FA)+FA, mu, sigma)\n",
    "    return res\n",
    "\n",
    "#対数尤度関数の和を計算する関数\n",
    "def loglike(omega, theta, theta_vec1, theta_vec2, Sigma, er, d_id1, d_id2, hhpt, k, m):\n",
    "    #期待値を設定\n",
    "    ARA = np.zeros((hhpt, m))\n",
    "    for j in range(m):\n",
    "        ARA[:, j] = np.dot(np.dot(theta, omega[:, :, j])[d_id1, ] * theta_vec2, np.repeat(1, k))    \n",
    "    mu = beta_mu + ARA\n",
    "\n",
    "    #対数尤度の和\n",
    "    LLi = scipy.stats.norm.logpdf(er, mu, Sigma)\n",
    "    LL = np.sum(LLi, axis=0)\n",
    "    return LL"
   ]
  },
  {
   "cell_type": "code",
   "execution_count": 35,
   "metadata": {},
   "outputs": [],
   "source": [
    "##アルゴリズムの設定\n",
    "LL1 = -100000000   #対数尤度の初期値\n",
    "R = 2000\n",
    "keep = 2  \n",
    "iter = 0\n",
    "burnin = 250/keep\n",
    "disp = 10\n",
    "e = 0.1\n",
    "L = 3"
   ]
  },
  {
   "cell_type": "code",
   "execution_count": 36,
   "metadata": {},
   "outputs": [],
   "source": [
    "#正則パラメータを設定\n",
    "Cov = np.diag(np.repeat(10, k))\n",
    "inv_Cov = np.linalg.inv(Cov)"
   ]
  },
  {
   "cell_type": "code",
   "execution_count": 37,
   "metadata": {},
   "outputs": [],
   "source": [
    "##データの設定\n",
    "#切断領域を定義\n",
    "a = (1-y)*(-100) + y*0\n",
    "b = y*100 + (1-y)*0\n",
    "\n",
    "#回帰モデルの定数を設定\n",
    "xx = np.dot(x.T, x)\n",
    "inv_xx = np.linalg.inv(xx)\n",
    "\n",
    "#インデックスを設定\n",
    "pt_m = pt*m\n",
    "allocation_list1 = [i for i in range(d)]\n",
    "for i in range(d):\n",
    "    allocation_list1[i] = np.arange(pt[i]*m).reshape(pt[i], m, order=\"F\")\n",
    "allocation_list2 = np.arange(k*k).reshape(k, k, order=\"F\")"
   ]
  },
  {
   "cell_type": "code",
   "execution_count": 52,
   "metadata": {},
   "outputs": [],
   "source": [
    "##パラメータの真値\n",
    "#モデルパラメータの真値\n",
    "Sigma = 1\n",
    "beta = betat.copy()\n",
    "theta = thetat.copy()\n",
    "omega = omegat.copy()\n",
    "\n",
    "#期待値の真値\n",
    "beta_mu = np.dot(x, beta)\n",
    "mu = np.zeros((hhpt, m))\n",
    "for j in range(m):\n",
    "    mu[:, j] = beta_mu[:, j] + np.dot(np.dot(theta, omega[:, :, j])[d_id1, ] * theta[d_id2, ], np.repeat(1, k))"
   ]
  },
  {
   "cell_type": "code",
   "execution_count": 24,
   "metadata": {},
   "outputs": [],
   "source": [
    "##パラメータの初期値\n",
    "#モデルパラメータの初期値\n",
    "Sigma = 1\n",
    "beta = np.append(np.random.uniform(-1.0, -0.5, m), np.random.normal(0, 0.1, (x_col-1)*m)).reshape(x_col, m)\n",
    "theta = np.random.multivariate_normal(np.repeat(0, k), np.diag(np.repeat(0.01, k)), d)\n",
    "omega = np.random.normal(0, 0.1, k*k*m).reshape(k, k, m)\n",
    "\n",
    "#期待値の初期値\n",
    "beta_mu = np.dot(x, beta)\n",
    "mu = np.zeros((hhpt, m))\n",
    "for j in range(m):\n",
    "    mu[:, j] = beta_mu[:, j] + np.dot(np.dot(theta, omega[:, :, j])[d_id1, ] * theta[d_id2, ], np.repeat(1, k))"
   ]
  },
  {
   "cell_type": "code",
   "execution_count": 39,
   "metadata": {},
   "outputs": [
    {
     "name": "stdout",
     "output_type": "stream",
     "text": [
      "-3828369.186995712\n",
      "-2189804.6230906798\n"
     ]
    }
   ],
   "source": [
    "##対数尤度の基準値\n",
    "#1パラメータでの対数尤度\n",
    "LLst1 = np.sum(y*np.full((hhpt, m), np.log(np.mean(y, axis=0))))\n",
    "LLst0 = np.sum((1-y)*np.full((hhpt, m), np.log(np.mean(1-y, axis=0))))\n",
    "LLst = LLst1 + LLst0\n",
    "print(LLst)\n",
    "\n",
    "#真値での対数尤度\n",
    "mu = np.zeros((hhpt, m))\n",
    "for j in range(m):\n",
    "    mu[:, j] = np.dot(x, betat[:, j]) + np.dot(np.dot(thetat, omegat[:, :, j])[d_id1, ] * thetat[d_id2, ], np.repeat(1, k))\n",
    "Prob = norm.cdf(mu, 0, Sigma)\n",
    "Prob[Prob==1.0] = 0.99999999999; Prob[Prob==0] = np.power(10.0, -100)\n",
    "LLbest = np.sum(y*np.log(Prob)) + np.sum((1-y)*np.log(1-Prob))\n",
    "print(LLbest)"
   ]
  },
  {
   "cell_type": "code",
   "execution_count": 63,
   "metadata": {},
   "outputs": [],
   "source": [
    "##切断正規分布から潜在変数をサンプリング\n",
    "#期待値の設定\n",
    "theta_vec1 = theta[d_id1, ]; theta_vec2 = theta[d_id2, ]\n",
    "beta_mu = np.dot(x, beta)\n",
    "ARA = np.zeros((hhpt, m))\n",
    "AR = [j for j in range(m)]; RA = [j for j in range(m)]\n",
    "for j in range(m):\n",
    "    AR[j] = np.dot(theta, omega[:, :, j])[d_id1, ]; RA[j] = np.dot(theta, omega[:, :, j].T)[d_id2, ]\n",
    "    ARA[:, j] = np.dot(AR[j] * theta_vec2, np.repeat(1, k))\n",
    "mu = beta_mu + ARA\n",
    "\n",
    "#切断領域に応じて潜在変数をサンプリング\n",
    "U = rtnorm(mu, Sigma, a, b, hhpt, m)"
   ]
  },
  {
   "cell_type": "code",
   "execution_count": null,
   "metadata": {},
   "outputs": [],
   "source": [
    "##モデルパラメータを更新\n",
    "#素性ベクトルの回帰ベクトルを更新\n",
    "er = U - ARA   #モデル誤差\n",
    "xy = np.dot(x.T, er)\n",
    "beta = np.dot(inv_xx, xy)"
   ]
  },
  {
   "cell_type": "code",
   "execution_count": 96,
   "metadata": {},
   "outputs": [
    {
     "data": {
      "text/plain": [
       "(10, 10)"
      ]
     },
     "execution_count": 96,
     "metadata": {},
     "output_type": "execute_result"
    }
   ],
   "source": [
    "##ノードごとに特徴ベクトルを更新\n",
    "#モデル誤差を設定\n",
    "er = U - beta_mu\n",
    "er_T = er.T\n",
    "\n",
    "for i in range(d):\n",
    "    #データの定義\n",
    "    v = np.zeros((pt_m[i], k))\n",
    "    for j in range(m):\n",
    "        index = allocation_list1[i]\n",
    "        v[index[:, j], ] = np.vstack((RA[j][d_list1[i], ], AR[j][d_list2[i], ]))\n",
    "\n",
    "    #特徴ベクトルを更新\n",
    "    vy = np.dot(v.T, er_T[:, d_list[i]].reshape(-1))\n",
    "    vv = np.dot(v.T, v) + inv_Cov\n",
    "    inv_vv = np.linalg.inv(vv)\n",
    "    theta[i, ] = np.dot(inv_vv, vy)"
   ]
  },
  {
   "cell_type": "code",
   "execution_count": null,
   "metadata": {},
   "outputs": [],
   "source": []
  },
  {
   "cell_type": "code",
   "execution_count": null,
   "metadata": {},
   "outputs": [],
   "source": [
    "##omegaをサンプリング\n",
    "#双線形回帰行列の入力変数を設定\n",
    "theta_vec1 = theta[d_id1, ]; theta_vec2 = theta[d_id2, ]\n",
    "w = np.zeros((hhpt, k*k))\n",
    "for j in range(k):\n",
    "    w[:, allocation_list2[:, j]] = theta_vec1[:, j][:, np.newaxis] * theta_vec2\n",
    "\n",
    "#多変量正規分布のパラメータ\n",
    "er = U - beta_mu   #モデル誤差\n",
    "wy = np.dot(w.T, er)\n",
    "wwv = np.dot(w.T, w) + inv_tau2\n",
    "inv_wwv = np.linalg.inv(wwv)\n",
    "omega_mu = np.dot(inv_wwv, wy)"
   ]
  },
  {
   "cell_type": "code",
   "execution_count": null,
   "metadata": {},
   "outputs": [],
   "source": []
  }
 ],
 "metadata": {
  "kernelspec": {
   "display_name": "Python 3",
   "language": "python",
   "name": "python3"
  },
  "language_info": {
   "codemirror_mode": {
    "name": "ipython",
    "version": 3
   },
   "file_extension": ".py",
   "mimetype": "text/x-python",
   "name": "python",
   "nbconvert_exporter": "python",
   "pygments_lexer": "ipython3",
   "version": "3.6.5"
  }
 },
 "nbformat": 4,
 "nbformat_minor": 2
}
