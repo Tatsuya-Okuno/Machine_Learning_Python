{
 "cells": [
  {
   "cell_type": "code",
   "execution_count": 1,
   "metadata": {},
   "outputs": [],
   "source": [
    "#####Hierarchical Tensor Factorization model#####\n",
    "import numpy as np\n",
    "import pandas as pd\n",
    "import matplotlib.pyplot  as plt\n",
    "import numpy.matlib\n",
    "import scipy\n",
    "import itertools\n",
    "import scipy.stats as ss\n",
    "from numpy.random import *\n",
    "from scipy import optimize\n",
    "from scipy.stats import norm\n",
    "from scipy import sparse"
   ]
  },
  {
   "cell_type": "code",
   "execution_count": 2,
   "metadata": {},
   "outputs": [],
   "source": [
    "####データの発生####\n",
    "##データの設定\n",
    "k = 10   #基底数\n",
    "hh = 10000   #ユーザー数\n",
    "item = 3000   #アイテム数\n",
    "context = 24   #コンテキスト数\n",
    "pt = np.random.poisson(np.random.gamma(25, 1/0.25, hh), hh)   #ユーザーあたりのレコード数\n",
    "hhpt = np.sum(pt)   #総レコード数\n",
    "vec_k = np.repeat(1, k)"
   ]
  },
  {
   "cell_type": "code",
   "execution_count": 3,
   "metadata": {},
   "outputs": [],
   "source": [
    "##IDとインデックスの設定\n",
    "#IDの設定\n",
    "user_id = np.repeat(range(hh), pt)\n",
    "pt_id = np.array(list(itertools.chain(*[np.array(range(pt[i]), dtype=\"int\") for i in range(hh)])))\n",
    "\n",
    "#インデックスの設定\n",
    "index = np.array(range(hhpt))\n",
    "user_list = [i for i in range(hh)]\n",
    "for i in range(hh):\n",
    "    user_list[i] = index[user_id==i]\n",
    "user_dt = sparse.coo_matrix((np.repeat(1, hhpt), (user_id, range(hhpt))), shape=(hh, hhpt)).tocsr()   #スパース行列の設定"
   ]
  },
  {
   "cell_type": "code",
   "execution_count": 4,
   "metadata": {},
   "outputs": [
    {
     "name": "stdout",
     "output_type": "stream",
     "text": [
      "0\n",
      "1000\n",
      "2000\n",
      "3000\n",
      "4000\n",
      "5000\n",
      "6000\n",
      "7000\n",
      "8000\n",
      "9000\n"
     ]
    }
   ],
   "source": [
    "##アイテムの割当を生成\n",
    "#トピック割当を生成\n",
    "topic = 25\n",
    "phi = np.random.dirichlet(np.repeat(0.5, item), topic)\n",
    "theta = np.random.dirichlet(np.repeat(0.5, topic), hh)\n",
    "z = np.dot(np.array([np.random.multinomial(1, theta[i, :], 1) for i in range(hh)]).reshape(hh, topic), range(topic))\n",
    "\n",
    "#多項分布からアイテムを生成\n",
    "item_id = np.zeros(hhpt, dtype='int')\n",
    "for i in range(hh):\n",
    "    if i%1000==0:\n",
    "        print(i)\n",
    "    item_id[user_list[i]] = np.dot(np.random.multinomial(1, phi[z[i], :], pt[i]), range(item))\n",
    "item_dt = sparse.coo_matrix((np.repeat(1, hhpt), (item_id, range(hhpt))), shape=(item, hhpt)).tocsr()   #スパース行列の設定\n",
    "item_n = np.array(np.sum(item_dt, axis=1)).reshape(-1)"
   ]
  },
  {
   "cell_type": "code",
   "execution_count": 5,
   "metadata": {},
   "outputs": [
    {
     "name": "stdout",
     "output_type": "stream",
     "text": [
      "0\n",
      "1000\n",
      "2000\n",
      "3000\n",
      "4000\n",
      "5000\n",
      "6000\n",
      "7000\n",
      "8000\n",
      "9000\n"
     ]
    }
   ],
   "source": [
    "##コンテキストの割当を生成\n",
    "#トピック割当を生成\n",
    "topic = 15\n",
    "phi = np.random.dirichlet(np.repeat(0.25, context), topic)\n",
    "theta = np.random.dirichlet(np.repeat(0.25, topic), hh)\n",
    "z = np.dot(np.array([np.random.multinomial(1, theta[i, :], 1) for i in range(hh)]).reshape(hh, topic), range(topic))\n",
    "\n",
    "#多項分布からアイテムを生成\n",
    "context_id = np.zeros(hhpt, dtype='int')\n",
    "for i in range(hh):\n",
    "    if i%1000==0:\n",
    "        print(i)\n",
    "    context_id[user_list[i]] = np.dot(np.random.multinomial(1, phi[z[i], :], pt[i]), range(context))\n",
    "context_dt = sparse.coo_matrix((np.repeat(1, hhpt), (context_id, range(hhpt))), shape=(context, hhpt)).tocsr()   #スパース行列の設定\n",
    "context_n = np.array(np.sum(context_dt, axis=1)).reshape(-1)"
   ]
  },
  {
   "cell_type": "code",
   "execution_count": 6,
   "metadata": {},
   "outputs": [],
   "source": [
    "#アイテムとコンテキストのインデックスを作成\n",
    "index = np.array(range(hhpt))\n",
    "item_list = [j for j in range(item)]\n",
    "context_list = [j for j in range(context)]\n",
    "for j in range(item):\n",
    "    item_list[j] = index[item_id==j]\n",
    "for j in range(context):\n",
    "    context_list[j] = index[context_id==j]"
   ]
  },
  {
   "cell_type": "code",
   "execution_count": 7,
   "metadata": {
    "scrolled": false
   },
   "outputs": [
    {
     "name": "stdout",
     "output_type": "stream",
     "text": [
      "1\n"
     ]
    }
   ],
   "source": [
    "####応答変数を生成####\n",
    "rp = 0\n",
    "while True:\n",
    "    rp = rp + 1\n",
    "    print(rp)\n",
    "\n",
    "    ##パラメータを生成\n",
    "    #階層モデルのパラメータを生成\n",
    "    alpha_u = 5.5; alpha_ut = alpha_u\n",
    "    tau_u = 0.75; tau_v = 1.0; tau_c = 0.5\n",
    "    tau_ut = tau_u; tau_vt = tau_v; tau_ct = tau_c\n",
    "    Cov_u = np.diag(np.repeat(0.5, k))\n",
    "    Cov_v = np.diag(np.repeat(0.5, k))\n",
    "    Cov_c = np.diag(np.repeat(0.5, k))\n",
    "    Cov_ut = Cov_u; Cov_vt = Cov_v; Cov_ct = Cov_c\n",
    "\n",
    "    #モデルパラメータを生成\n",
    "    Sigma = 0.4; Sigmat = Sigma\n",
    "    beta_u = np.random.normal(alpha_u, tau_u, hh)\n",
    "    beta_v = np.random.normal(0, tau_v, item)\n",
    "    beta_c = np.random.normal(0, tau_c, context)\n",
    "    beta_ut = beta_u; beta_vt = beta_v; beta_ct = beta_c\n",
    "    theta_u = np.random.multivariate_normal(np.repeat(0, k), Cov_u, hh)\n",
    "    theta_v = np.random.multivariate_normal(np.repeat(0, k), Cov_v, item)\n",
    "    theta_c = np.random.multivariate_normal(np.repeat(0, k), Cov_c, context)\n",
    "    theta_ut = theta_u; theta_vt = theta_v; theta_ct = theta_c\n",
    "    \n",
    "    #正規分布からスコアを生成\n",
    "    uvc = np.dot(theta_u[user_id, ] * theta_v[item_id, ] * theta_c[context_id, ], vec_k)\n",
    "    mu = beta_u[user_id] + beta_v[item_id] + beta_c[context_id] + uvc\n",
    "    y_vec = mu + np.random.normal(0, Sigma, hhpt)\n",
    "\n",
    "    #収束条件\n",
    "    if (np.mean(y_vec) < 6.0) & (np.mean(y_vec) > 4.5) & (np.std(y_vec) > 1.75) & (np.std(y_vec) < 2.25):\n",
    "        break"
   ]
  },
  {
   "cell_type": "code",
   "execution_count": 8,
   "metadata": {},
   "outputs": [
    {
     "name": "stdout",
     "output_type": "stream",
     "text": [
      "[5.55393973 5.55341902]\n",
      "[1.80237047 1.79241659]\n"
     ]
    },
    {
     "data": {
      "image/png": "[encoded data removed]",
      "text/plain": [
       "<Figure size 432x288 with 1 Axes>"
      ]
     },
     "metadata": {
      "needs_background": "light"
     },
     "output_type": "display_data"
    }
   ],
   "source": [
    "##応答変数をスコアに変換\n",
    "y = np.round(y_vec)\n",
    "y[y > 10] = 10; y[y < 1] = 1\n",
    "print(np.append(np.mean(y_vec), np.mean(y)))\n",
    "print(np.append(np.std(y_vec), np.std(y)))\n",
    "plt.hist(y, bins=25, color=\"grey\", histtype=\"barstacked\")\n",
    "plt.show()"
   ]
  },
  {
   "cell_type": "code",
   "execution_count": 9,
   "metadata": {},
   "outputs": [],
   "source": [
    "#####モンテカルロEMアルゴリズムでHierarchical Tensor Factorization modelを推定####\n",
    "##アルゴリズムの設定\n",
    "LL1 = -1000000000   #対数尤度の初期値\n",
    "tol = 2.5\n",
    "iter = 1\n",
    "dl = 100\n",
    "L = 500   #モンテカルロサンプリング数"
   ]
  },
  {
   "cell_type": "code",
   "execution_count": 10,
   "metadata": {},
   "outputs": [],
   "source": [
    "##インデックスの設定\n",
    "ui_id = [i for i in range(hh)]\n",
    "uc_id = [i for i in range(hh)]\n",
    "iu_id = [j for j in range(item)]\n",
    "ic_id = [j for j in range(item)]\n",
    "cu_id = [j for j in range(context)]\n",
    "cv_id = [j for j in range(context)]\n",
    "for i in range(hh):\n",
    "    ui_id[i] = item_id[user_list[i]]\n",
    "    uc_id[i] = context_id[user_list[i]]\n",
    "for j in range(item):\n",
    "    iu_id[j] = user_id[item_list[j]]\n",
    "    ic_id[j] = context_id[item_list[j]]\n",
    "for j in range(context):\n",
    "    cu_id[j] = user_id[context_list[j]]\n",
    "    cv_id[j] = item_id[context_list[j]]"
   ]
  },
  {
   "cell_type": "code",
   "execution_count": 11,
   "metadata": {},
   "outputs": [],
   "source": [
    "##パラメータの真値\n",
    "#階層モデルのパラメータ\n",
    "alpha_u = alpha_ut\n",
    "tau_u = tau_ut; tau_v = tau_vt; tau_c = tau_ct\n",
    "Cov_u = Cov_ut\n",
    "Cov_v = Cov_vt\n",
    "Cov_c = Cov_ct\n",
    "inv_Cov_u = np.linalg.inv(Cov_u)\n",
    "inv_Cov_v = np.linalg.inv(Cov_v)\n",
    "inv_Cov_c = np.linalg.inv(Cov_c)\n",
    "\n",
    "#モデルパラメータの生成\n",
    "Sigma = Sigmat\n",
    "beta_u = beta_ut\n",
    "beta_v = beta_vt\n",
    "beta_c = beta_ct\n",
    "theta_u = theta_ut\n",
    "theta_v = theta_vt\n",
    "theta_c = theta_ct"
   ]
  },
  {
   "cell_type": "code",
   "execution_count": 12,
   "metadata": {},
   "outputs": [],
   "source": [
    "##パラメータの初期値\n",
    "#階層モデルのパラメータ\n",
    "alpha_u = np.mean(y)\n",
    "tau_u = 0.3; tau_v = 0.3; tau_c = 0.5\n",
    "Cov_u = np.diag(np.repeat(0.25, k))\n",
    "Cov_v = np.diag(np.repeat(0.5, k))\n",
    "Cov_c = np.diag(np.repeat(0.5, k))\n",
    "inv_Cov_u = np.linalg.inv(Cov_u)\n",
    "inv_Cov_v = np.linalg.inv(Cov_v)\n",
    "inv_Cov_c = np.linalg.inv(Cov_c)\n",
    "\n",
    "#モデルパラメータの生成\n",
    "Sigma = 1.0\n",
    "beta_u = np.random.normal(alpha_u, tau_u, hh)\n",
    "beta_v = np.random.normal(0, tau_v, item)\n",
    "beta_c = np.random.normal(0, tau_c, context)\n",
    "theta_u = np.random.multivariate_normal(np.repeat(0, k), Cov_u, hh)\n",
    "theta_v = np.random.multivariate_normal(np.repeat(0, k), Cov_v, item)\n",
    "theta_c = np.random.multivariate_normal(np.repeat(0, k), Cov_c, context)"
   ]
  },
  {
   "cell_type": "code",
   "execution_count": 13,
   "metadata": {},
   "outputs": [],
   "source": [
    "##テンソルと期待値の初期値\n",
    "#変量効果とテンソルの設定\n",
    "dl = 100\n",
    "beta_u_vec = beta_u[user_id]\n",
    "beta_v_vec = beta_v[item_id]\n",
    "beta_c_vec = beta_c[context_id]\n",
    "uvc = np.dot(theta_u[user_id, ] * theta_v[item_id, ] * theta_c[context_id, ], vec_k)"
   ]
  },
  {
   "cell_type": "code",
   "execution_count": 14,
   "metadata": {},
   "outputs": [
    {
     "name": "stdout",
     "output_type": "stream",
     "text": [
      "[-3011516.24680611 -1997835.46000534  -800092.36495383]\n"
     ]
    }
   ],
   "source": [
    "##対数尤度の基準値と初期値\n",
    "#1パラメータモデルの対数尤度\n",
    "LLst = np.sum(scipy.stats.norm.logpdf(y, np.mean(y), np.std(y)))\n",
    "\n",
    "#真値での対数尤度\n",
    "uvc_t = np.dot(theta_ut[user_id, ] * theta_vt[item_id, ] * theta_ct[context_id, ], vec_k)\n",
    "mu = beta_ut[user_id] + beta_vt[item_id] + beta_ct[context_id] + uvc_t\n",
    "LLbest = np.sum(scipy.stats.norm.logpdf(y, mu, Sigmat))\n",
    "\n",
    "#対数尤度の初期値\n",
    "mu = beta_u_vec + beta_v_vec + beta_c_vec + uvc\n",
    "LL1 = np.sum(scipy.stats.norm.logpdf(y, mu, Sigma))\n",
    "print(np.array([LL1, LLst, LLbest]))"
   ]
  },
  {
   "cell_type": "code",
   "execution_count": 15,
   "metadata": {},
   "outputs": [
    {
     "name": "stdout",
     "output_type": "stream",
     "text": [
      "[-1534877.2 -1997835.5  -800092.4]\n",
      "[-1472289.7 -1997835.5  -800092.4]\n",
      "[-1446560.6 -1997835.5  -800092.4]\n",
      "[-1429883.3 -1997835.5  -800092.4]\n",
      "[-1414699.6 -1997835.5  -800092.4]\n",
      "[-1396220.  -1997835.5  -800092.4]\n",
      "[-1376100.4 -1997835.5  -800092.4]\n",
      "[-1360662.7 -1997835.5  -800092.4]\n",
      "[-1346998.7 -1997835.5  -800092.4]\n",
      "[-1328508.8 -1997835.5  -800092.4]\n",
      "[-1296109.7 -1997835.5  -800092.4]\n",
      "[-1245435.1 -1997835.5  -800092.4]\n",
      "[-1179517.8 -1997835.5  -800092.4]\n",
      "[-1111041.3 -1997835.5  -800092.4]\n",
      "[-1057389.9 -1997835.5  -800092.4]\n",
      "[-1011287.9 -1997835.5  -800092.4]\n",
      "[ -977320.8 -1997835.5  -800092.4]\n",
      "[ -957763.3 -1997835.5  -800092.4]\n",
      "[ -921486.7 -1997835.5  -800092.4]\n",
      "[ -870506.2 -1997835.5  -800092.4]\n",
      "[ -828162.4 -1997835.5  -800092.4]\n",
      "[ -820044.6 -1997835.5  -800092.4]\n",
      "[ -816966.3 -1997835.5  -800092.4]\n",
      "[ -815177.8 -1997835.5  -800092.4]\n",
      "[ -813847.9 -1997835.5  -800092.4]\n",
      "[ -812825.  -1997835.5  -800092.4]\n",
      "[ -811838.4 -1997835.5  -800092.4]\n",
      "[ -810214.3 -1997835.5  -800092.4]\n",
      "[ -805721.2 -1997835.5  -800092.4]\n",
      "[ -802399.5 -1997835.5  -800092.4]\n",
      "[ -801479.1 -1997835.5  -800092.4]\n",
      "[ -800986.2 -1997835.5  -800092.4]\n",
      "[ -800625.7 -1997835.5  -800092.4]\n",
      "[ -800340.2 -1997835.5  -800092.4]\n",
      "[ -800072.6 -1997835.5  -800092.4]\n",
      "[ -799827.3 -1997835.5  -800092.4]\n",
      "[ -799620.6 -1997835.5  -800092.4]\n",
      "[ -799456.7 -1997835.5  -800092.4]\n",
      "[ -799316.2 -1997835.5  -800092.4]\n",
      "[ -799196.2 -1997835.5  -800092.4]\n",
      "[ -799085.2 -1997835.5  -800092.4]\n",
      "[ -798998.1 -1997835.5  -800092.4]\n",
      "[ -798919.1 -1997835.5  -800092.4]\n",
      "[ -798848.6 -1997835.5  -800092.4]\n",
      "[ -798781.8 -1997835.5  -800092.4]\n",
      "[ -798725.2 -1997835.5  -800092.4]\n",
      "[ -798697.4 -1997835.5  -800092.4]\n",
      "[ -798695.5 -1997835.5  -800092.4]\n"
     ]
    }
   ],
   "source": [
    "####モンテカルロEMアルゴリズムでパラメータを推定####\n",
    "while (dl > tol):   #dlがtol以上なら繰り返す\n",
    "    \n",
    "    ##ユーザーのランダム効果をサンプリング\n",
    "    #データの設定\n",
    "    y_er = y - beta_v_vec - beta_c_vec - uvc\n",
    "\n",
    "    #事後分布のパラメータ\n",
    "    u_mu = (np.array(np.dot(user_dt, sparse.csr_matrix(y_er.reshape(hhpt, 1))).todense()).reshape(-1))/pt\n",
    "    weights = np.power(tau_u, 2) / (np.power(Sigma, 2)/pt + np.power(tau_u, 2))   #重み係数\n",
    "    mu_par = weights*u_mu + (1-weights)*alpha_u   #事後分布の平均\n",
    "\n",
    "    #正規分布から変量効果をサンプリング\n",
    "    beta_mc = np.zeros((hh, L))\n",
    "    for j in range(L):\n",
    "        beta_mc[:, j] = np.random.normal(mu_par, np.sqrt(1 / (1/np.power(tau_u, 2) + pt/np.power(Sigma, 2))), hh)\n",
    "    beta_u = np.mean(beta_mc, axis=1)   #モンテカルロ平均    \n",
    "    vars_u1 = np.var(beta_mc, axis=1)   #モンテカルロ誤差\n",
    "    beta_u_vec = beta_u[user_id]\n",
    "\n",
    "    ##アイテムのランダム効果をサンプリング\n",
    "    #データの設定\n",
    "    y_er = y - beta_u_vec - beta_c_vec - uvc\n",
    "\n",
    "    #事後分布のパラメータ\n",
    "    v_mu = np.repeat(0.0, item)\n",
    "    for j in range(item):\n",
    "        v_mu[j] = np.mean(y_er[item_list[j]])\n",
    "    weights = np.power(tau_v, 2) / (np.power(Sigma, 2)/item_n + np.power(tau_v, 2))   #重み係数\n",
    "    mu_par = weights*v_mu   #事後分布の平均\n",
    "\n",
    "    #正規分布から事後分布をサンプリング\n",
    "    beta_mc = np.zeros((item, L))\n",
    "    for j in range(L):\n",
    "        beta_mc[:, j] = np.random.normal(mu_par, np.sqrt(1 / (1/np.power(tau_v, 2) + item_n/np.power(Sigma, 2))), item)\n",
    "    beta_v = np.mean(beta_mc, axis=1)   #モンテカルロ平均    \n",
    "    vars_v1 = np.var(beta_mc, axis=1)   #モンテカルロ誤差\n",
    "    beta_v_vec = beta_v[item_id]\n",
    "\n",
    "    ##コンテキストのランダム効果をサンプリング\n",
    "    #データの設定\n",
    "    y_er = y - beta_u_vec - beta_v_vec - uvc\n",
    "\n",
    "    #事後分布のパラメータ\n",
    "    c_mu = np.repeat(0.0, context)\n",
    "    for j in range(context):\n",
    "        c_mu[j] = np.mean(y_er[context_list[j]])\n",
    "    weights = np.power(tau_c, 2) / (np.power(Sigma, 2)/context_n + np.power(tau_c, 2))   #重み係数\n",
    "    mu_par = weights*c_mu   #事後分布の平均\n",
    "\n",
    "    #正規分布から事後分布をサンプリング\n",
    "    beta_mc = np.zeros((context, L))\n",
    "    for j in range(L):\n",
    "        beta_mc[:, j] = np.random.normal(mu_par, np.sqrt(1 / (1/np.power(tau_c, 2) + context_n/np.power(Sigma, 2))), context)\n",
    "    beta_c = np.mean(beta_mc, axis=1)   #モンテカルロ平均    \n",
    "    vars_c1 = np.var(beta_mc, axis=1)   #モンテカルロ誤差\n",
    "    beta_c_vec = beta_c[context_id]\n",
    "    \n",
    "\n",
    "    ##ユーザーの特徴行列をサンプリング\n",
    "    #データの設定\n",
    "    y_er = y - beta_u_vec - beta_v_vec - beta_c_vec\n",
    "\n",
    "    #事後分布のパラメータ\n",
    "    vars_u2 = 0\n",
    "    for i in range(hh):\n",
    "        X = theta_v[ui_id[i], ] * theta_c[uc_id[i], ]\n",
    "        Xy = np.dot(X.T, y_er[user_list[i]])\n",
    "        inv_XXV = np.linalg.inv(np.dot(X.T, X) + inv_Cov_u)\n",
    "        mu_par = np.dot(inv_XXV, Xy)\n",
    "\n",
    "        #多変量正規分布から特徴行列をサンプリング\n",
    "        theta_mc = np.random.multivariate_normal(mu_par, np.power(Sigma, 2)*inv_XXV, L)\n",
    "        theta_u[i, ] = np.mean(theta_mc, axis=0)\n",
    "        vars_u2 += np.sum(np.diag(np.cov(theta_mc, rowvar=0)))\n",
    "\n",
    "    ##アイテムの特徴行列をサンプリング\n",
    "    #事後分布のパラメータ\n",
    "    vars_v2 = 0\n",
    "    for j in range(item):\n",
    "        X = theta_u[iu_id[j], ] * theta_c[ic_id[j], ]\n",
    "        Xy = np.dot(X.T, y_er[item_list[j]])\n",
    "        inv_XXV = np.linalg.inv(np.dot(X.T, X) + inv_Cov_v)\n",
    "        mu_par = np.dot(inv_XXV, Xy)\n",
    "\n",
    "        #多変量正規分布から特徴行列をサンプリング\n",
    "        theta_mc = np.random.multivariate_normal(mu_par, np.power(Sigma, 2)*inv_XXV, L)\n",
    "        theta_v[j, ] = np.mean(theta_mc, axis=0)\n",
    "        vars_v2 += np.sum(np.diag(np.cov(theta_mc, rowvar=0)))\n",
    "\n",
    "    ##コンテキストの特徴行列をサンプリング\n",
    "    #事後分布のパラメータ\n",
    "    vars_c2 = 0\n",
    "    for j in range(context):\n",
    "        X = theta_u[cu_id[j], ] * theta_v[cv_id[j], ]\n",
    "        Xy = np.dot(X.T, y_er[context_list[j]])\n",
    "        inv_XXV = np.linalg.inv(np.dot(X.T, X) + inv_Cov_c)\n",
    "        mu_par = np.dot(inv_XXV, Xy)\n",
    "\n",
    "        #多変量正規分布から特徴行列をサンプリング\n",
    "        theta_mc = np.random.multivariate_normal(mu_par, np.power(Sigma, 2)*inv_XXV, L)\n",
    "        theta_c[j, ] = np.mean(theta_mc, axis=0)\n",
    "        vars_c2 += np.sum(np.diag(np.cov(theta_mc, rowvar=0)))\n",
    "\n",
    "    #テンソルのパラメータを更新\n",
    "    uvc = np.dot(theta_u[user_id, ] * theta_v[item_id, ] * theta_c[context_id, ], vec_k)\n",
    "\n",
    "\n",
    "    ##Mステップでパラメータを更新\n",
    "    #観測モデルの誤差パラメータを更新\n",
    "    er = y - beta_u_vec - beta_v_vec - beta_c_vec - uvc   \n",
    "    Sigma = np.std(er)\n",
    "\n",
    "    #ユーザの階層モデルのパラメータを更新\n",
    "    alpha_u = np.mean(beta_u)\n",
    "    tau_u = np.sqrt((sum(vars_u1) + np.sum(np.power(beta_u - alpha_u, 2))) / hh)\n",
    "    theta_mu = np.repeat(np.mean(theta_u, axis=0), hh).reshape(hh, k, order=\"F\")\n",
    "    Cov_u = np.diag(np.repeat(np.sum(np.diag(vars_u2 + np.dot((theta_u - theta_mu).T, theta_u - theta_mu))) / (k*hh), k))\n",
    "    inv_Cov_u = np.linalg.inv(Cov_u)\n",
    "\n",
    "    #アイテムの階層モデルのパラメータを更新\n",
    "    tau_v = np.sqrt((sum(vars_v1) + np.sum(np.power(beta_v - np.mean(beta_v), 2))) / item)\n",
    "    theta_mu = np.repeat(np.mean(theta_v, axis=0), item).reshape(item, k, order=\"F\")\n",
    "    Cov_v = np.diag(np.repeat(np.sum(np.diag(vars_v2 + np.dot((theta_v - theta_mu).T, theta_v - theta_mu))) / (k*item), k))\n",
    "    inv_Cov_v = np.linalg.inv(Cov_v)\n",
    "\n",
    "    ##アルゴリズムの収束判定\n",
    "    mu = beta_u_vec + beta_v_vec + beta_c_vec + uvc   #完全データの期待値\n",
    "    LL = np.sum(scipy.stats.norm.logpdf(y, mu, Sigma))   #完全データの対数尤度を更新\n",
    "    iter = iter + 1\n",
    "    dl = LL - LL1\n",
    "    LL1 = LL\n",
    "    print(np.round([LL, LLst, LLbest], 1))"
   ]
  },
  {
   "cell_type": "code",
   "execution_count": 16,
   "metadata": {},
   "outputs": [
    {
     "data": {
      "text/plain": [
       "array([[8.79509235, 0.        , 0.        , 0.        , 0.        ,\n",
       "        0.        , 0.        , 0.        , 0.        , 0.        ],\n",
       "       [0.        , 8.79509235, 0.        , 0.        , 0.        ,\n",
       "        0.        , 0.        , 0.        , 0.        , 0.        ],\n",
       "       [0.        , 0.        , 8.79509235, 0.        , 0.        ,\n",
       "        0.        , 0.        , 0.        , 0.        , 0.        ],\n",
       "       [0.        , 0.        , 0.        , 8.79509235, 0.        ,\n",
       "        0.        , 0.        , 0.        , 0.        , 0.        ],\n",
       "       [0.        , 0.        , 0.        , 0.        , 8.79509235,\n",
       "        0.        , 0.        , 0.        , 0.        , 0.        ],\n",
       "       [0.        , 0.        , 0.        , 0.        , 0.        ,\n",
       "        8.79509235, 0.        , 0.        , 0.        , 0.        ],\n",
       "       [0.        , 0.        , 0.        , 0.        , 0.        ,\n",
       "        0.        , 8.79509235, 0.        , 0.        , 0.        ],\n",
       "       [0.        , 0.        , 0.        , 0.        , 0.        ,\n",
       "        0.        , 0.        , 8.79509235, 0.        , 0.        ],\n",
       "       [0.        , 0.        , 0.        , 0.        , 0.        ,\n",
       "        0.        , 0.        , 0.        , 8.79509235, 0.        ],\n",
       "       [0.        , 0.        , 0.        , 0.        , 0.        ,\n",
       "        0.        , 0.        , 0.        , 0.        , 8.79509235]])"
      ]
     },
     "execution_count": 16,
     "metadata": {},
     "output_type": "execute_result"
    }
   ],
   "source": [
    "Cov_v"
   ]
  },
  {
   "cell_type": "code",
   "execution_count": null,
   "metadata": {},
   "outputs": [],
   "source": []
  }
 ],
 "metadata": {
  "kernelspec": {
   "display_name": "Python 3",
   "language": "python",
   "name": "python3"
  },
  "language_info": {
   "codemirror_mode": {
    "name": "ipython",
    "version": 3
   },
   "file_extension": ".py",
   "mimetype": "text/x-python",
   "name": "python",
   "nbconvert_exporter": "python",
   "pygments_lexer": "ipython3",
   "version": "3.7.0"
  }
 },
 "nbformat": 4,
 "nbformat_minor": 2
}
