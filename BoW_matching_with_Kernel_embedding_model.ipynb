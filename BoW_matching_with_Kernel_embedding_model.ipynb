{
 "cells": [
  {
   "cell_type": "code",
   "execution_count": 1,
   "metadata": {},
   "outputs": [],
   "source": [
    "#####BoW matching with Kernel embedding model#####\n",
    "import numpy as np\n",
    "import pandas as pd\n",
    "import matplotlib.pyplot  as plt\n",
    "import numpy.matlib\n",
    "import scipy.linalg\n",
    "import itertools\n",
    "from scipy import sparse\n",
    "from pandas.tools.plotting import scatter_matrix\n",
    "from numpy.random import *\n",
    "from scipy import optimize\n",
    "from scipy.stats import norm\n",
    "import seaborn as sns\n",
    "\n",
    "#np.random.seed(98537)"
   ]
  },
  {
   "cell_type": "code",
   "execution_count": 2,
   "metadata": {},
   "outputs": [],
   "source": [
    "##多項分布の乱数を生成する関数\n",
    "def rmnom(pr, n, k, no):\n",
    "    z_id = np.argmax((np.cumsum(pr, axis=1) >= np.random.uniform(0, 1, n)[:, np.newaxis]), axis=1)\n",
    "    Z = sparse.coo_matrix((np.repeat(1, n), (no, np.array(z_id))), shape=(n, k))   #スパース行列の設定\n",
    "    return Z"
   ]
  },
  {
   "cell_type": "code",
   "execution_count": 3,
   "metadata": {},
   "outputs": [],
   "source": [
    "####データの発生####\n",
    "##データの設定\n",
    "k = 10\n",
    "n = 100\n",
    "d = np.random.poisson(np.random.gamma(5, 1/0.225, n)); d[d <= 1] = 1   #文書あたりの組み合わせ数\n",
    "D = np.sum(d)   #総文書数\n",
    "v = 1000   #語彙数\n",
    "w = np.random.poisson(np.random.gamma(20, 1/0.2, D), D)   #文書あたりの単語数\n",
    "f = np.sum(w)   #総単語数"
   ]
  },
  {
   "cell_type": "code",
   "execution_count": 4,
   "metadata": {},
   "outputs": [],
   "source": [
    "##文書IDの組み合わせとインデックスを生成\n",
    "#文書IDを作成\n",
    "w_id = np.repeat(np.arange(D), w)\n",
    "id_list = [i for i in range(D)]\n",
    "for i in range(D):\n",
    "    id_list[i] = np.array(np.where(w_id==i)[0], dtype=\"int\")\n",
    "\n",
    "#文書の組み合わせを生成\n",
    "id_list1 = [i for i in range(n)]\n",
    "id_list2 = [i for i in range(n)]\n",
    "max_id = 0\n",
    "for i in range(n):\n",
    "    d_matrix1 = np.triu(np.full((d[i], d[i]), np.arange(d[i]) + max_id).T, k=1)\n",
    "    d_matrix2 = np.triu(np.full((d[i], d[i]), np.arange(d[i]) + max_id), k=1)\n",
    "    target = np.triu(np.full((d[i], d[i]), 1), k=1)\n",
    "    id_list1[i] = d_matrix1[target==1] \n",
    "    id_list2[i] = d_matrix2[target==1] \n",
    "    max_id = np.max(np.append(id_list1[i], id_list2[i])) + 1\n",
    "    \n",
    "#リストをIDに変換\n",
    "d_id1 = np.array(list(itertools.chain(*[id_list1[i] for i in range(n)])))\n",
    "d_id2 = np.array(list(itertools.chain(*[id_list2[i] for i in range(n)])))\n",
    "N = d_id1.shape[0]\n",
    "\n",
    "#インデックスを作成\n",
    "target = [i for i in range(D)]\n",
    "d_list = [i for i in range(D)]\n",
    "d_list1 = [i for i in range(D)]\n",
    "d_list2 = [i for i in range(D)]\n",
    "pt = np.repeat(0, D)\n",
    "for i in range(D):\n",
    "    d_list1[i] = np.array(np.where(d_id1==i)[0], dtype=\"int32\")\n",
    "    d_list2[i] = np.array(np.where(d_id2==i)[0], dtype=\"int32\")\n",
    "    d_list[i] = np.append(d_list1[i], d_list2[i])\n",
    "    target[i] = np.append(np.repeat(0, d_list1[i].shape[0]), np.repeat(1, d_list2[i].shape[0]))\n",
    "    pt[i] = target[i].shape[0]"
   ]
  },
  {
   "cell_type": "code",
   "execution_count": 5,
   "metadata": {},
   "outputs": [
    {
     "data": {
      "text/plain": [
       "(array([6355., 2709., 1872., 1503., 1320., 1054.,  993.,  865.,  753.,\n",
       "         750.,  741.,  693.,  758.,  671.,  649.,  673.,  644.,  630.,\n",
       "         681.,  667.,  727.,  829.,  918., 1137., 2029.]),\n",
       " array([9.79435935e-06, 4.00091375e-02, 8.00084807e-02, 1.20007824e-01,\n",
       "        1.60007167e-01, 2.00006510e-01, 2.40005853e-01, 2.80005197e-01,\n",
       "        3.20004540e-01, 3.60003883e-01, 4.00003226e-01, 4.40002569e-01,\n",
       "        4.80001913e-01, 5.20001256e-01, 5.60000599e-01, 5.99999942e-01,\n",
       "        6.39999285e-01, 6.79998629e-01, 7.19997972e-01, 7.59997315e-01,\n",
       "        7.99996658e-01, 8.39996001e-01, 8.79995345e-01, 9.19994688e-01,\n",
       "        9.59994031e-01, 9.99993374e-01]),\n",
       " <a list of 25 Patch objects>)"
      ]
     },
     "execution_count": 5,
     "metadata": {},
     "output_type": "execute_result"
    },
    {
     "data": {
      "image/png": "[encoded data removed]",
      "text/plain": [
       "<Figure size 432x288 with 1 Axes>"
      ]
     },
     "metadata": {},
     "output_type": "display_data"
    }
   ],
   "source": [
    "##モデルパラメータを生成\n",
    "#単語の埋込ベクトルを生成\n",
    "m = 50\n",
    "mu = np.random.normal(-0.25, 1.5, m)\n",
    "theta = np.random.multivariate_normal(mu, np.diag(np.repeat(2.5, m)), v)\n",
    "beta = np.array([-1.0])\n",
    "betat = beta.copy(); thetat = theta.copy()\n",
    "\n",
    "#文書ごとの単語を生成\n",
    "gamma = np.random.dirichlet(np.repeat(0.1, m), D)\n",
    "phi = np.random.dirichlet(np.repeat(0.1, v), m)\n",
    "z = np.dot(np.array(rmnom(gamma[w_id, ], f, m, np.arange(f)).todense()), np.arange(m))\n",
    "wd_list = [i for i in range(D)]\n",
    "for i in range(D):\n",
    "    wd_list[i] = np.array(np.dot(rmnom(phi[z[id_list[i]], ], w[i], v, np.arange(w[i])).todense(), np.arange(v))).reshape(-1)\n",
    "wd = np.array(list(itertools.chain(*[wd_list[i] for i in range(D)])))\n",
    "\n",
    "##2文書間のマッチング有無を生成\n",
    "#2文書間の距離をカーネル関数で表現\n",
    "w_sq = np.repeat(0, N)\n",
    "distance = np.repeat(0.0, N)\n",
    "for i in range(N):    \n",
    "    id1 = d_id1[i]; id2 = d_id2[i]\n",
    "    theta_d1 = theta[wd_list[id1], ]\n",
    "    theta_d2 = theta[wd_list[id2], ]\n",
    "    w_sq[i] = w[id1]*w[id2]\n",
    "    distance[i] = np.sum(np.dot(theta_d1, theta_d2.T)) / (w[id1]*w[id2])\n",
    "    \n",
    "#ベルヌーイ分布から応答変数を生成\n",
    "logit = beta + (distance - np.mean(distance))\n",
    "Prob = np.exp(logit) / (1 + np.exp(logit))\n",
    "y = np.random.binomial(1, Prob, N)\n",
    "y_vec = y[:, np.newaxis]\n",
    "\n",
    "#生成した応答変数を確認\n",
    "np.mean(y)\n",
    "plt.hist(Prob, bins=25)"
   ]
  },
  {
   "cell_type": "code",
   "execution_count": 21,
   "metadata": {},
   "outputs": [
    {
     "data": {
      "text/plain": [
       "30621"
      ]
     },
     "execution_count": 21,
     "metadata": {},
     "output_type": "execute_result"
    }
   ],
   "source": [
    "####最尤法でパラメータを推定####\n",
    "##対数尤度関数\n"
   ]
  },
  {
   "cell_type": "code",
   "execution_count": null,
   "metadata": {},
   "outputs": [],
   "source": []
  }
 ],
 "metadata": {
  "kernelspec": {
   "display_name": "Python 3",
   "language": "python",
   "name": "python3"
  },
  "language_info": {
   "codemirror_mode": {
    "name": "ipython",
    "version": 3
   },
   "file_extension": ".py",
   "mimetype": "text/x-python",
   "name": "python",
   "nbconvert_exporter": "python",
   "pygments_lexer": "ipython3",
   "version": "3.6.5"
  }
 },
 "nbformat": 4,
 "nbformat_minor": 2
}
