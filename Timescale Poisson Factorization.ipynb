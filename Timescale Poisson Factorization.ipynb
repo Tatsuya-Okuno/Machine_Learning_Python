{
 "cells": [
  {
   "cell_type": "code",
   "execution_count": 139,
   "metadata": {},
   "outputs": [],
   "source": [
    "#####Timescale Poisson Factorization#####\n",
    "import numpy as np\n",
    "import pandas as pd\n",
    "import matplotlib.pyplot  as plt\n",
    "import numpy.matlib\n",
    "import scipy.linalg\n",
    "import itertools\n",
    "import math\n",
    "from scipy import sparse\n",
    "from pandas.tools.plotting import scatter_matrix\n",
    "from numpy.random import *\n",
    "from scipy import optimize\n",
    "import seaborn as sns\n",
    "import time\n",
    "\n",
    "#np.random.seed(98537)"
   ]
  },
  {
   "cell_type": "code",
   "execution_count": 140,
   "metadata": {},
   "outputs": [],
   "source": [
    "####データの発生####\n",
    "##データの設定\n",
    "k = 10   #基底数\n",
    "hh = 5000   #ユーザー数\n",
    "item = 3000   #アイテム数\n",
    "pt = np.random.poisson(np.random.gamma(22.5, 1/0.2, hh), hh)   #ユーザーあたりのレコード数\n",
    "hhpt = np.sum(pt)   #\n",
    "vec_k = np.repeat(1, k)"
   ]
  },
  {
   "cell_type": "code",
   "execution_count": 141,
   "metadata": {},
   "outputs": [],
   "source": [
    "##IDとインデックスを設定\n",
    "#IDを設定\n",
    "user_id = np.repeat(range(hh), pt)\n",
    "pt_id = np.array(list(itertools.chain(*[np.array(range(pt[i]), dtype=\"int\") for i in range(hh)])))\n",
    "\n",
    "#インデックスを設定\n",
    "index = np.arange(hhpt)\n",
    "user_list = [i for i in range(hh)]\n",
    "user_vec = [i for i in range(hh)]\n",
    "for i in range(hh):\n",
    "    user_list[i] = index[user_id==i]\n",
    "    user_vec[i] = np.repeat(1, pt[i])"
   ]
  },
  {
   "cell_type": "code",
   "execution_count": 142,
   "metadata": {},
   "outputs": [
    {
     "name": "stdout",
     "output_type": "stream",
     "text": [
      "0\n",
      "1000\n",
      "2000\n",
      "3000\n",
      "4000\n"
     ]
    }
   ],
   "source": [
    "##アイテムの割当を生成\n",
    "#セグメント割当を生成\n",
    "topic = 25\n",
    "phi = np.random.dirichlet(np.repeat(0.5, item), topic)\n",
    "theta = np.random.dirichlet(np.repeat(2.5, topic), hh)\n",
    "z = np.dot(np.array([np.random.multinomial(1, theta[i, :], 1) for i in range(hh)]).reshape(hh, topic), range(topic))\n",
    "\n",
    "#多項分布からアイテムを生成\n",
    "item_id = np.zeros(hhpt, dtype='int')\n",
    "for i in range(hh):\n",
    "    if i%1000==0:\n",
    "        print(i)\n",
    "    item_id[user_list[i]] = np.dot(np.random.multinomial(1, phi[z[i], :], pt[i]), range(item))\n",
    "    \n",
    "#インデックスの設定\n",
    "item_list = [j for j in range(item)]\n",
    "item_vec = [j for j in range(item)]\n",
    "item_n = np.repeat(0, item)\n",
    "for j in range(item):\n",
    "    item_list[j] = index[item_id==j]\n",
    "    item_vec[j] = np.repeat(1, len(item_list[j]))\n",
    "    item_n[j] = len(item_list[j])"
   ]
  },
  {
   "cell_type": "code",
   "execution_count": 143,
   "metadata": {},
   "outputs": [],
   "source": [
    "##階層モデルの説明変数を生成\n",
    "#ユーザーの説明変数を生成\n",
    "k1 = 3; k2 = 5; k3 = 5\n",
    "u1 = np.array(np.random.random(hh*k1)).reshape((hh, k1))\n",
    "u2 = np.zeros((hh, k2))\n",
    "for j in range(k2):\n",
    "    prob = np.random.uniform(0.25, 0.55, 1)\n",
    "    u2[:, j] = np.random.binomial(1, prob, hh)\n",
    "u3 = np.random.multinomial(1, np.random.dirichlet(np.repeat(3.0, k3), 1).reshape(k3), hh)\n",
    "u3 = np.delete(u3, np.argmin(np.sum(u3, axis=0)), axis=1)   #冗長な変数の削除\n",
    "u = np.concatenate((np.repeat(1, hh)[:, np.newaxis], u1, u2, u3), axis=1)\n",
    "col_u = u.shape[1]\n",
    "\n",
    "#アイテムの説明変数を生成\n",
    "k1 = 4; k2 = 5; k3 = 4\n",
    "v1 = np.array(np.random.random(item*k1)).reshape((item, k1))\n",
    "v2 = np.zeros((item, k2))\n",
    "for j in range(k2):\n",
    "    prob = np.random.uniform(0.25, 0.55, 1)\n",
    "    v2[:, j] = np.random.binomial(1, prob, item)\n",
    "v3 = np.random.multinomial(1, np.random.dirichlet(np.repeat(3.0, k3), 1).reshape(k3), item)\n",
    "v3 = np.delete(v3, np.argmin(np.sum(v3, axis=0)), axis=1)   #冗長な変数の削除\n",
    "v = np.concatenate((np.repeat(1, item)[:, np.newaxis], v1, v2, v3), axis=1)\n",
    "col_v = v.shape[1]"
   ]
  },
  {
   "cell_type": "code",
   "execution_count": 314,
   "metadata": {},
   "outputs": [
    {
     "name": "stdout",
     "output_type": "stream",
     "text": [
      "[  1 100 468]\n",
      "[   2  100 7386]\n",
      "[   3  100 3220]\n",
      "[    4    99 85512]\n"
     ]
    }
   ],
   "source": [
    "####応答変数を生成####\n",
    "rp = 0\n",
    "while True:\n",
    "    rp = rp + 1\n",
    "    \n",
    "    #ガンマ分布から継続時間を生成\n",
    "    alpha1 = 20.0\n",
    "    alpha2 = 0.15\n",
    "    period = np.array(np.random.gamma(alpha1, 1/alpha2, hh), dtype=\"int\")\n",
    "    period_vec = period[user_id].reshape(hhpt, 1)\n",
    "    \n",
    "    ##ランダム効果のパラメータを生成\n",
    "    #階層モデルのパラメータを生成\n",
    "    tau1 = 0.3; tau2 = 0.3\n",
    "    alpha1 = np.random.normal(0, 0.4, col_u)\n",
    "    alpha2 = np.random.normal(0, 0.4, col_v)\n",
    "    taut1 = tau1; taut2 = tau2\n",
    "    alphat1 = alpha1.copy(); alphat2 = alpha2.copy()\n",
    "    \n",
    "    #正規分布からランダム効果を生成\n",
    "    lambda1 = np.dot(u, alpha1)\n",
    "    lambda2 = np.dot(v, alpha2)\n",
    "    w1 = lambda1 + np.random.normal(0, tau1, hh)\n",
    "    w2 = lambda2 + np.random.normal(0, tau2, item)\n",
    "    wt1 = w1.copy(); wt2 = w2.copy()\n",
    "\n",
    "    ##NMFのパラメータを生成\n",
    "    #ガンマ分布の尺度パラメータを生成\n",
    "    alpha_u = np.random.normal(0, 0.4, k*col_u).reshape(col_u, k)\n",
    "    alpha_v = np.random.normal(0, 0.4, k*col_v).reshape(col_v, k)\n",
    "    alpha_ut = alpha_u; alpha_vt = alpha_v\n",
    "    lambda_u = np.exp(np.dot(u, alpha_u))\n",
    "    lambda_v = np.exp(np.dot(v, alpha_v))\n",
    "\n",
    "    #ガンマ分布の形状パラメータを生成\n",
    "    beta_u = np.abs(np.random.normal(1.0, 0.5, 1))\n",
    "    beta_v = np.abs(np.random.normal(1.0, 0.5, 1))\n",
    "    beta_ut = beta_u; beta_vt = beta_v\n",
    "\n",
    "    #ガンマ分布から行列分解のパラメータを生成\n",
    "    theta_u = np.random.gamma(lambda_u, 1/beta_u)\n",
    "    theta_v = np.random.gamma(lambda_v, 1/beta_v)\n",
    "    theta_ut = theta_u; theta_vt = theta_v\n",
    "\n",
    "    ##指数分布から応答変数を生成\n",
    "    dim = 100\n",
    "    WH = np.exp(w1[user_id] + w2[item_id]) + np.dot(theta_u[user_id, ] * theta_v[item_id, ], vec_k)\n",
    "    y_dt = np.zeros((hhpt, dim))\n",
    "    for j in range(dim):\n",
    "        y_dt[:, j] = np.random.exponential(WH, hhpt)\n",
    "    y = np.sum(np.cumsum(y_dt, axis=1) < period[user_id].reshape(hhpt, 1), axis=1)\n",
    "    y_vec = y.reshape(hhpt, 1)\n",
    "    \n",
    "    #break条件\n",
    "    print(np.array([rp, np.max(y), np.sum(y==0)]))\n",
    "    if (np.max(y) < 100) & (np.max(y) > 25) & (np.sum(y==0) > 75000) & (np.sum(y==0) < 200000):\n",
    "        break"
   ]
  },
  {
   "cell_type": "code",
   "execution_count": 315,
   "metadata": {},
   "outputs": [
    {
     "name": "stdout",
     "output_type": "stream",
     "text": [
      "1513524\n",
      "2.7101549965619984\n"
     ]
    },
    {
     "data": {
      "text/plain": [
       "(array([5.45974e+05, 1.19310e+04, 4.91000e+02, 5.20000e+01, 1.00000e+01,\n",
       "        5.00000e+00, 0.00000e+00, 0.00000e+00, 0.00000e+00, 1.00000e+00]),\n",
       " array([ 0. ,  9.9, 19.8, 29.7, 39.6, 49.5, 59.4, 69.3, 79.2, 89.1, 99. ]),\n",
       " <a list of 10 Patch objects>)"
      ]
     },
     "execution_count": 315,
     "metadata": {},
     "output_type": "execute_result"
    },
    {
     "data": {
      "image/png": "[encoded data removed]",
      "text/plain": [
       "<Figure size 432x288 with 1 Axes>"
      ]
     },
     "metadata": {},
     "output_type": "display_data"
    }
   ],
   "source": [
    "#生成した応答変数を確認\n",
    "print(np.sum(y))\n",
    "print(np.mean(y))\n",
    "plt.hist(y)"
   ]
  },
  {
   "cell_type": "code",
   "execution_count": 316,
   "metadata": {},
   "outputs": [],
   "source": [
    "####マルコフ連鎖モンテカルロ法でMixed effect Poisson Factorizationを推定####\n",
    "##HMCで尺度パラメータをサンプリングするための関数\n",
    "#対数事後分布を計算する関数\n",
    "def loglike_alpha(alpha, beta, tau_inv, d, d_log, x):\n",
    "\n",
    "    #ガンマ回帰モデルの対数尤度\n",
    "    mu = np.dot(x, alpha).reshape(-1)\n",
    "    Lambda = np.exp(mu)   \n",
    "    Lho = np.sum(beta * (-d/Lambda - mu) + beta*np.log(beta) - math.lgamma(beta) + (beta-1)*d_log)\n",
    "\n",
    "    #多変量正規分布の対数事前分布\n",
    "    log_mvn = -1/2 * np.dot(np.dot(alpha, tau_inv), alpha)\n",
    "\n",
    "    #対数事後分布の和\n",
    "    LL = Lho + log_mvn\n",
    "    return LL"
   ]
  },
  {
   "cell_type": "code",
   "execution_count": 317,
   "metadata": {},
   "outputs": [],
   "source": [
    "#ガンマ回帰の対数事後分布の微分関数\n",
    "def dloglike_alpha(alpha, beta, tau_inv, d, d_log, x, n):\n",
    "\n",
    "    #期待値の設定\n",
    "    mu = np.dot(x, alpha).reshape(-1)\n",
    "    Lambda = np.exp(mu)\n",
    "\n",
    "    #微分関数の設定\n",
    "    dlgamma = np.sum(((d-Lambda) / (np.power(Lambda, 2)/beta) * Lambda).reshape(n, 1) * x, axis=0)\n",
    "    dmvn = np.dot(-tau_inv, alpha)\n",
    "\n",
    "    #対数事後分布の微分関数の和\n",
    "    LLd = -(dlgamma + dmvn)\n",
    "    return LLd"
   ]
  },
  {
   "cell_type": "code",
   "execution_count": 318,
   "metadata": {},
   "outputs": [],
   "source": [
    "#リープフロッグ法を解く関数\n",
    "def leapfrog_alpha(r, z1, D, e, L, beta, tau_inv, d, d_log, x, n): \n",
    "    def leapfrog_step(r, z1, e):\n",
    "        r2 = r - e * D(z1, beta, tau_inv, d, d_log, x, n) / 2\n",
    "        z2 = z1 + e * r2\n",
    "        r2 = r2 - e * D(z2, beta, tau_inv, d, d_log, x, n) / 2\n",
    "        return [r2, z2]   #1回の移動後の運動量と座標\n",
    "    leapfrog_result = [r, z1]\n",
    "    for i in range(L):\n",
    "        leapfrog_result = leapfrog_step(leapfrog_result[0], leapfrog_result[1], e)\n",
    "    return leapfrog_result"
   ]
  },
  {
   "cell_type": "code",
   "execution_count": 319,
   "metadata": {},
   "outputs": [],
   "source": [
    "##HMCで形状パラメータをサンプリングするための関数\n",
    "#対数事後分布を計算する関数\n",
    "def loglike_beta(beta, alpha_u, alpha_v, d1, d2, d_log1, d_log2, u, v, hh, item, k):\n",
    "\n",
    "    #パラメータを設定\n",
    "    beta_u = beta[0]\n",
    "    beta_v = beta[1]\n",
    "    \n",
    "    #期待値の設定\n",
    "    mu_u = np.dot(u, alpha_u).reshape(-1)\n",
    "    mu_v = np.dot(v, alpha_v).reshape(-1)\n",
    "    Lambda_u = np.exp(mu_u)\n",
    "    Lambda_v = np.exp(mu_v)\n",
    "    \n",
    "    #ガンマ回帰モデルの対数尤度\n",
    "    Lho1 = np.sum(beta_u * (-d1/Lambda_u - mu_u) + beta_u*np.log(beta_u) - math.lgamma(beta_u) + (beta_u-1)*d_log1)\n",
    "    Lho2 = np.sum(beta_v * (-d2/Lambda_v - mu_v) + beta_v*np.log(beta_v) - math.lgamma(beta_v) + (beta_v-1)*d_log2)\n",
    "\n",
    "    #対数事後分布の和\n",
    "    LL = Lho1 + Lho2\n",
    "    return LL"
   ]
  },
  {
   "cell_type": "code",
   "execution_count": 320,
   "metadata": {},
   "outputs": [],
   "source": [
    "#形状パラメータの微分関数\n",
    "def dloglike_beta(beta, alpha_u, alpha_v, d1, d2, u, v, hh, item, k):\n",
    "    \n",
    "    #パラメータを設定\n",
    "    beta_u = beta[0]\n",
    "    beta_v = beta[1]\n",
    "    \n",
    "    #期待値の設定\n",
    "    mu_u = np.dot(u, alpha_u).reshape(-1)\n",
    "    mu_v = np.dot(v, alpha_v).reshape(-1)\n",
    "    Lambda_u = np.exp(mu_u)\n",
    "    Lambda_v = np.exp(mu_v)\n",
    "    \n",
    "    #微分関数の和\n",
    "    dlgamma_u = (hh*k)*(np.log(beta_u) - scipy.special.digamma(beta_u)) + np.sum(1 - d1/Lambda_u + np.log(d1/Lambda_u))\n",
    "    dlgamma_v = (item*k)*(np.log(beta_v) - scipy.special.digamma(beta_v)) + np.sum(1 - d2/Lambda_v + np.log(d2/Lambda_v))\n",
    "    dlgamma = -np.append(dlgamma_u, dlgamma_v)\n",
    "    return dlgamma"
   ]
  },
  {
   "cell_type": "code",
   "execution_count": 321,
   "metadata": {},
   "outputs": [],
   "source": [
    "#リープフロッグ法を解く関数\n",
    "def leapfrog_beta(r, z1, D, e, L, alpha_u, alpha_v, d1, d2, u, v, hh, item, k): \n",
    "    def leapfrog_step(r, z1, e):\n",
    "        r2 = r - e * D(z1, alpha_u, alpha_v, d1, d2, u, v, hh, item, k) / 2\n",
    "        z2 = z1 + e * r2\n",
    "        r2 = r2 - e * D(z2, alpha_u, alpha_v, d1, d2, u, v, hh, item, k) / 2\n",
    "        return [r2, z2]   #1回の移動後の運動量と座標\n",
    "    leapfrog_result = [r, z1]\n",
    "    for i in range(L):\n",
    "        leapfrog_result = leapfrog_step(leapfrog_result[0], leapfrog_result[1], e)\n",
    "    return leapfrog_result"
   ]
  },
  {
   "cell_type": "code",
   "execution_count": 322,
   "metadata": {},
   "outputs": [],
   "source": [
    "##アルゴリズムの設定\n",
    "R = 2000\n",
    "keep = 4\n",
    "burnin = int(500/keep)\n",
    "iter = 0\n",
    "disp = 10\n",
    "e1 = 0.001\n",
    "e2 = 0.0025\n",
    "L = 3"
   ]
  },
  {
   "cell_type": "code",
   "execution_count": 323,
   "metadata": {},
   "outputs": [],
   "source": [
    "##事前分布の設定\n",
    "#モデルパラメータの事前分布\n",
    "gamma_u = np.repeat(0, col_u)\n",
    "gamma_v = np.repeat(0, col_v)\n",
    "tau_inv1 = np.linalg.inv(np.diag(np.repeat(100, col_u)))\n",
    "tau_inv2 = np.linalg.inv(np.diag(np.repeat(100, col_v)))\n",
    "tau_inv = np.linalg.inv(np.diag(np.repeat(100, k)))\n",
    "\n",
    "#ハイパーパラメータの設定\n",
    "par = 200\n",
    "omega1 = par/pt.reshape(hh, 1); omega1[omega1 < 1, ] = 1\n",
    "omega2 = par/item_n.reshape(item, 1); omega2[omega2 < 1] = 1"
   ]
  },
  {
   "cell_type": "code",
   "execution_count": 389,
   "metadata": {},
   "outputs": [],
   "source": [
    "##パラメータの真値\n",
    "#ランダム効果の真値\n",
    "alpha1 = alphat1; alpha2 = alphat2\n",
    "tau1 = taut1; tau2 = taut2\n",
    "w1 = wt1; w2 = wt2\n",
    "\n",
    "#ガンマ分布の尺度パラメータの真値\n",
    "alpha_u = alpha_ut; alpha_v = alpha_vt\n",
    "lambda_u = np.exp(np.dot(u, alpha_u))\n",
    "lambda_v = np.exp(np.dot(v, alpha_v))\n",
    "\n",
    "#ガンマ分布の形状パラメータの真値\n",
    "beta_u = beta_ut\n",
    "beta_v = beta_vt\n",
    "\n",
    "#行列分解のパラメータの真値\n",
    "theta_u = theta_ut\n",
    "theta_v = theta_vt\n",
    "WH = np.dot(theta_u[user_id, ] * theta_v[item_id, ], vec_k)   #期待値"
   ]
  },
  {
   "cell_type": "code",
   "execution_count": 390,
   "metadata": {},
   "outputs": [],
   "source": [
    "####MCMCでパラメータをサンプリング####\n",
    "\n",
    "##ユーザー特徴行列をサンプリング\n",
    "#補助変数gammaを更新\n",
    "theta_vec2 = theta_v[item_id, ]\n",
    "gamma = (theta_u[user_id, ] * theta_vec2) / WH.reshape(hhpt, 1)\n",
    "\n",
    "#ユーザーごとのガンマ分布のパラメータを設定\n",
    "gamma_y = gamma * y_vec   #要素ごとの期待値\n",
    "gamma_x = gamma * np.exp(w1[user_id] + w2[item_id]).reshape(hhpt, 1)\n",
    "W1 = np.zeros((hh, k)); W2 = np.zeros((hh, k))\n",
    "for i in range(hh):\n",
    "    W1[i, ] = np.dot(gamma_y[user_list[i], ].T, user_vec[i]) \n",
    "    W2[i, ] = np.dot(((gamma_x[user_list[i], ] + theta_vec2[user_list[i], ]) / (period_vec[user_list[i], ])).T, user_vec[i])\n",
    "    #W2[i, ] = np.dot(theta_vec2[user_list[i], ].T, user_vec[i])"
   ]
  },
  {
   "cell_type": "code",
   "execution_count": 391,
   "metadata": {},
   "outputs": [],
   "source": [
    "#ガンマ分布よりパラメータをサンプリング\n",
    "theta_u = np.random.gamma(W1, 1 / W2)"
   ]
  },
  {
   "cell_type": "code",
   "execution_count": 392,
   "metadata": {},
   "outputs": [
    {
     "name": "stdout",
     "output_type": "stream",
     "text": [
      "[ 3.07   5.077 10.073  6.478  4.308  4.449 16.708 18.421  6.628  8.969]\n",
      "[0.559 1.962 3.312 1.463 1.447 0.617 7.12  5.282 2.637 2.009]\n"
     ]
    }
   ],
   "source": [
    "i = 3\n",
    "print(np.round(theta_u[i, ], 3))\n",
    "print(np.round(theta_ut[i, ], 3))"
   ]
  },
  {
   "cell_type": "code",
   "execution_count": 296,
   "metadata": {},
   "outputs": [
    {
     "name": "stdout",
     "output_type": "stream",
     "text": [
      "[0.668 1.563 1.108 0.453 0.267 0.286 0.199 0.709 1.94  0.78 ]\n",
      "[0.995 0.016 3.522 0.24  0.08  3.137 1.359 1.957 0.345 0.498]\n"
     ]
    }
   ],
   "source": [
    "i = 3\n",
    "print(np.round(theta_u[i, ], 3))\n",
    "print(np.round(theta_ut[i, ], 3))"
   ]
  },
  {
   "cell_type": "code",
   "execution_count": 427,
   "metadata": {},
   "outputs": [
    {
     "name": "stdout",
     "output_type": "stream",
     "text": [
      "64.87512748772312\n",
      "1\n",
      "88\n",
      "0.01541422789788334\n",
      "0.011363636363636364\n",
      "88.0\n"
     ]
    }
   ],
   "source": [
    "i  = 1112\n",
    "50\n",
    "print((np.exp(wt1[user_id] + wt2[item_id]) + np.dot(theta_ut[user_id, ] * theta_vt[item_id, ], vec_k))[i])\n",
    "print(y[i])\n",
    "print(period[user_id][i])\n",
    "print(1 / (np.exp(wt1[user_id] + wt2[item_id]) + np.dot(theta_ut[user_id, ] * theta_vt[item_id, ], vec_k))[i])\n",
    "print(y[i] / period[user_id][i])\n",
    "print(period[user_id][i] / y[i])"
   ]
  },
  {
   "cell_type": "code",
   "execution_count": 393,
   "metadata": {},
   "outputs": [
    {
     "name": "stderr",
     "output_type": "stream",
     "text": [
      "C:\\Users\\sana\\Anaconda3\\lib\\site-packages\\ipykernel_launcher.py:1: RuntimeWarning: divide by zero encountered in true_divide\n",
      "  \"\"\"Entry point for launching an IPython kernel.\n"
     ]
    },
    {
     "data": {
      "text/plain": [
       "array([inf, inf, inf, ..., inf, inf, inf])"
      ]
     },
     "execution_count": 393,
     "metadata": {},
     "output_type": "execute_result"
    }
   ],
   "source": []
  },
  {
   "cell_type": "code",
   "execution_count": null,
   "metadata": {},
   "outputs": [],
   "source": []
  },
  {
   "cell_type": "code",
   "execution_count": null,
   "metadata": {},
   "outputs": [],
   "source": []
  }
 ],
 "metadata": {
  "kernelspec": {
   "display_name": "Python 3",
   "language": "python",
   "name": "python3"
  },
  "language_info": {
   "codemirror_mode": {
    "name": "ipython",
    "version": 3
   },
   "file_extension": ".py",
   "mimetype": "text/x-python",
   "name": "python",
   "nbconvert_exporter": "python",
   "pygments_lexer": "ipython3",
   "version": "3.6.5"
  }
 },
 "nbformat": 4,
 "nbformat_minor": 2
}
