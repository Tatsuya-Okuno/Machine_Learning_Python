{
 "cells": [
  {
   "cell_type": "code",
   "execution_count": 122,
   "metadata": {},
   "outputs": [],
   "source": [
    "#####Bi-level model for Rare temporal pattern detection####\n",
    "import numpy as np\n",
    "import pandas as pd\n",
    "import matplotlib.pyplot  as plt\n",
    "import numpy.matlib\n",
    "import scipy.linalg\n",
    "import itertools\n",
    "import math\n",
    "from scipy import sparse\n",
    "from pandas.tools.plotting import scatter_matrix\n",
    "from numpy.random import *\n",
    "from scipy import optimize\n",
    "import seaborn as sns\n",
    "import time\n",
    "\n",
    "#np.random.seed(98537)"
   ]
  },
  {
   "cell_type": "code",
   "execution_count": 123,
   "metadata": {},
   "outputs": [],
   "source": [
    "##多項分布の乱数を生成する関数\n",
    "def rmnom(pr, n, k, no):\n",
    "    z_id = np.argmax((np.cumsum(pr, axis=1) >= np.random.uniform(0, 1, n)[:, np.newaxis]), axis=1)\n",
    "    Z = sparse.coo_matrix((np.repeat(1, n), (no, np.array(z_id))), shape=(n, k))   #スパース行列の設定\n",
    "    return Z"
   ]
  },
  {
   "cell_type": "code",
   "execution_count": 124,
   "metadata": {},
   "outputs": [],
   "source": [
    "####データの発生####\n",
    "##データの設定\n",
    "k = 2   #混合数\n",
    "m0 = 3   #正常状態での潜在変数数\n",
    "m1 = 2   #異常状態での潜在変数数\n",
    "hh = 5000   #ユーザー数\n",
    "pt = np.random.poisson(np.random.gamma(50, 1/0.2, hh), hh)   #系列数\n",
    "hhpt = np.sum(pt)   #総レコード数"
   ]
  },
  {
   "cell_type": "code",
   "execution_count": 125,
   "metadata": {},
   "outputs": [],
   "source": [
    "##IDとインデックスを設定\n",
    "#IDを設定\n",
    "user_id = np.repeat(range(hh), pt)\n",
    "pt_id = np.array(list(itertools.chain(*[np.array(range(pt[i]), dtype=\"int\") for i in range(hh)])))\n",
    "\n",
    "#インデックスを設定\n",
    "index = np.arange(hhpt)\n",
    "user_list = [i for i in range(hh)]\n",
    "user_vec = [i for i in range(hh)]\n",
    "for i in range(hh):\n",
    "    user_list[i] = index[user_id==i]\n",
    "    user_vec[i] = np.repeat(1, pt[i])"
   ]
  },
  {
   "cell_type": "code",
   "execution_count": 126,
   "metadata": {},
   "outputs": [],
   "source": [
    "##潜在パラメータとユーザーの異常状態を生成\n",
    "#潜在変数のパラメータ\n",
    "alpha = np.repeat(1.0, m0*m0).reshape(m0, m0) + np.diag(np.repeat(1.5, m0))\n",
    "pi = np.array([0.03])   #ユーザーの混合率\n",
    "gamma = np.array([0.075, 0.6])   #正常状態と異常状態の切換率\n",
    "delta = np.array([0.5])   #異常状態の混合率\n",
    "omega0 = np.append(np.random.dirichlet(np.repeat(2.5, m0), 1).reshape(-1), 0) \n",
    "omega1 = np.append((1-gamma[0])*omega0[:m0], gamma[0])\n",
    "theta0 = np.zeros((m0+1, m0+1))\n",
    "for j in range(m0):\n",
    "    theta0[j, :m0] = np.random.dirichlet(alpha[j, ], 1)\n",
    "theta1 = np.hstack(((1-gamma[0])*theta0[:m0, :m0], np.repeat(gamma[0], m0)[:, np.newaxis]))\n",
    "theta1 = np.vstack((theta1, np.append(((1-gamma[1])*np.random.dirichlet(np.repeat(1.0, m0))), gamma[1])))\n",
    "pit = pi.copy(); gammat = gamma.copy(); deltat = delta.copy()\n",
    "omegat0 = omega0.copy(); omegat1 = omega1.copy(); thetat0 = theta0.copy(); thetat1 = theta1.copy()\n",
    "    \n",
    "#ユーザーの潜在変数を生成\n",
    "Z = np.random.binomial(1, pi, hh)\n",
    "index_z = np.array(np.where(Z==1)[0], dtype=\"int\")\n",
    "n = index_z.shape[0]\n",
    "\n",
    "#異常状態の潜在変数を生成\n",
    "A = np.repeat(0, hh)\n",
    "A[index_z] = np.random.binomial(1, delta, n) + 1"
   ]
  },
  {
   "cell_type": "code",
   "execution_count": 127,
   "metadata": {},
   "outputs": [],
   "source": [
    "##ユーザーごとに系列の異常状態を生成\n",
    "#データの格納用リスト\n",
    "S_list = [i for i in range(hh)]\n",
    "s_list = [i for i in range(hh)]\n",
    "\n",
    "for i in range(hh):\n",
    "    #系列の格納用配列\n",
    "    S = np.array(np.zeros((pt[i], m0+1)), dtype=\"int\")\n",
    "    s = np.repeat(0, pt[i])\n",
    "\n",
    "    #正常ユーザーの潜在変数を生成\n",
    "    if Z[i]==0:\n",
    "        for j in range(pt[i]):\n",
    "            if j==0:\n",
    "                S[j, ] = np.random.multinomial(1, omega0, 1)\n",
    "            else:\n",
    "                index = np.argmax(S[j-1, ])\n",
    "                S[j, ] = np.random.multinomial(1, theta0[index, ])\n",
    "\n",
    "    #異常ユーザーの潜在変数を生成\n",
    "    else:\n",
    "        for j in range(pt[i]):\n",
    "            if j==0:\n",
    "                S[j, ] = np.random.multinomial(1, omega1, 1)\n",
    "                if S[j, m0]==1:\n",
    "                    s[j, ] = 1\n",
    "            else:\n",
    "                index = np.argmax(S[j-1, ]) \n",
    "                S[j, ] = np.random.multinomial(1, theta1[index, ], 1)\n",
    "                if S[j, m0]==1:\n",
    "                    s[j] = 1\n",
    "                    \n",
    "    #生成したデータの格納\n",
    "    S_list[i] = S\n",
    "    s_list[i] = s"
   ]
  },
  {
   "cell_type": "code",
   "execution_count": 128,
   "metadata": {},
   "outputs": [
    {
     "name": "stdout",
     "output_type": "stream",
     "text": [
      "[ 26657 386330 835253   5281]\n"
     ]
    }
   ],
   "source": [
    "#リストを変換\n",
    "S = np.array(list(itertools.chain(*[S_list[i] for i in range(hh)])))\n",
    "s = np.array(list(itertools.chain(*[s_list[i] for i in range(hh)])))\n",
    "s_vec = np.dot(S, np.arange(m0 + 1))\n",
    "print(np.sum(S, axis=0))"
   ]
  },
  {
   "cell_type": "code",
   "execution_count": 129,
   "metadata": {
    "scrolled": true
   },
   "outputs": [
    {
     "name": "stdout",
     "output_type": "stream",
     "text": [
      "1\n"
     ]
    }
   ],
   "source": [
    "##潜在変数からデータを生成\n",
    "#妥当な数値が生成されるまで繰り返す\n",
    "rp = 0\n",
    "while True:\n",
    "    rp = rp + 1\n",
    "    print(rp)\n",
    "    \n",
    "    #ユーザーの入力変数を生成\n",
    "    k1 = 4; k2 = 4; k3 = 5\n",
    "    u1 = np.array(np.random.random(hh*k1)).reshape((hh, k1))\n",
    "    u2 = np.zeros((hh, k2))\n",
    "    for j in range(k2):\n",
    "        prob = np.random.uniform(0.25, 0.55, 1)\n",
    "        u2[:, j] = np.random.binomial(1, prob, hh)\n",
    "    u3 = np.random.multinomial(1, np.random.dirichlet(np.repeat(3.0, k3), 1).reshape(k3), hh)\n",
    "    u3 = np.delete(u3, np.argmin(np.sum(u3, axis=0)), axis=1)   #冗長な変数の削除\n",
    "    x1 = np.concatenate((np.repeat(1, hh)[:, np.newaxis], u1, u2, u3), axis=1)\n",
    "\n",
    "    #素性ベクトルを生成\n",
    "    k1 = 5; k2 = 6; k3 = 4\n",
    "    u1 = np.array(np.random.random(hhpt*k1)).reshape((hhpt, k1))\n",
    "    u2 = np.zeros((hhpt, k2))\n",
    "    for j in range(k2):\n",
    "        prob = np.random.uniform(0.25, 0.55, 1)\n",
    "        u2[:, j] = np.random.binomial(1, prob, hhpt)\n",
    "    u3 = np.random.multinomial(1, np.random.dirichlet(np.repeat(3.0, k3), 1).reshape(k3), hhpt)\n",
    "    u3 = np.delete(u3, np.argmin(np.sum(u3, axis=0)), axis=1)   #冗長な変数の削除\n",
    "    x2 = np.concatenate((u1, u2, u3), axis=1)\n",
    "    x = np.hstack((x1[user_id, ], x2))\n",
    "    col_x = x.shape[1]\n",
    "    \n",
    "    #モデルパラメータを生成\n",
    "    alpha0 = np.random.uniform(2.0, 2.5, m0)\n",
    "    alpha1 = np.random.uniform(2.0, 2.5, m0)\n",
    "    beta0 = np.append(np.random.uniform(0.5, 2.2, m0), np.random.normal(0, 0.4, (col_x-1)*m0)).reshape(col_x, m0)\n",
    "    beta1 = np.append(np.array([np.random.uniform(-1.0, -0.2, 1), np.random.uniform(2.4, 3.0, 1)]).reshape(-1), \n",
    "                      np.random.normal(0, 0.4, (col_x-1)*m1)).reshape(col_x, m1)\n",
    "    alphat0 = alpha0.copy(); alphat1 = alpha1.copy()\n",
    "    betat0 = beta0.copy(); betat1 = beta1.copy()\n",
    "\n",
    "    \n",
    "    #正常値のデータを生成\n",
    "    s_allocation = np.repeat(0, hhpt)\n",
    "    s0_vec = np.dot(S[:, :m0], np.arange(m0))\n",
    "    y = np.repeat(0.0, hhpt)\n",
    "    index_s0 = np.array(np.where(s!=1)[0], dtype=\"int\")\n",
    "    N0 = index_s0.shape[0]\n",
    "    mu = np.exp(np.sum(np.dot(x[index_s0, ], beta0) * S[index_s0, :m0], axis=1))\n",
    "    y[index_s0] = np.random.gamma(mu, 1/alpha0[s0_vec[index_s0]], N0)\n",
    "\n",
    "    #異常値のデータを生成\n",
    "    index_s1 = np.array(np.where(s==1)[0], dtype=\"int\")\n",
    "    N1 = index_s1.shape[0]\n",
    "    mu = np.exp(np.sum(np.dot(x[index_s1, ], beta1) * np.eye(m1)[A[user_id[index_s1]]-1], axis=1))\n",
    "    y[index_s1] = np.random.gamma(mu, 1/alpha1[A[user_id[index_s1]]-1], N1)\n",
    "\n",
    "    #応答変数の集計\n",
    "    s_allocation = s_vec.copy()\n",
    "    s_allocation[index_s1] = A[user_id[index_s1]] + m0 - 1\n",
    "    y_mean = np.repeat(0.0, m0+m1)\n",
    "    y_sd = np.repeat(0.0, m0+m1)\n",
    "    for j in np.unique(s_allocation):\n",
    "        index = np.where(s_allocation==j)[0]\n",
    "        y_mean[j] = np.mean(y[index])\n",
    "        y_sd[j] = np.std(y[index])\n",
    "\n",
    "    #break条件\n",
    "    if (np.min(y_mean[:m0]) > 1.5) & (np.max(y_mean[:m0]) < 10.0) & (y_mean[m0] < 1.0) & (y_mean[m0+1] > 10.0) & (y_mean[m0+1] < 17.5):\n",
    "        break"
   ]
  },
  {
   "cell_type": "code",
   "execution_count": 130,
   "metadata": {},
   "outputs": [
    {
     "name": "stdout",
     "output_type": "stream",
     "text": [
      "[ 1.853  2.086  1.969  0.546 14.243]\n",
      "[ 2.36   2.138  2.031  0.648 14.531]\n"
     ]
    },
    {
     "data": {
      "image/png": "[encoded data removed]",
      "text/plain": [
       "<Figure size 432x288 with 5 Axes>"
      ]
     },
     "metadata": {},
     "output_type": "display_data"
    }
   ],
   "source": [
    "#生成したデータの確認\n",
    "log_y = np.log(y)\n",
    "print(np.round(y_mean, 3))\n",
    "print(np.round(y_sd, 3))\n",
    "\n",
    "#潜在変数ごとのヒストグラム\n",
    "colorlist = [\"r\", \"g\", \"b\", \"c\", \"m\", \"y\", \"k\", \"w\"]\n",
    "fig = plt.figure()\n",
    "for j in range(m0+m1):\n",
    "    ax = fig.add_subplot(3, 3, j+1)\n",
    "    ax.hist(y[s_allocation==j],  bins=25, range=(0, 50), color=colorlist[j])\n",
    "fig.tight_layout()\n",
    "plt.show()"
   ]
  },
  {
   "cell_type": "code",
   "execution_count": 131,
   "metadata": {},
   "outputs": [],
   "source": [
    "####マルコフ連鎖モンテカルロ法でパラメータを推定####\n",
    "##ガンマ回帰の対数尤度\n",
    "def loglike(alpha, beta, d, d_log, x):\n",
    "    #対数尤度を設定\n",
    "    mu = np.dot(x, alpha).reshape(-1)\n",
    "    Lambda = np.exp(mu)   \n",
    "    Lho = beta * (-d/Lambda - mu) + beta*np.log(beta) - math.lgamma(beta) + (beta-1)*d_log\n",
    "    \n",
    "    #対数尤度の和\n",
    "    LL = np.sum(Lho)\n",
    "    return LL, Lho \n",
    "    \n",
    "##HMCで尺度パラメータをサンプリングするための関数\n",
    "#対数事後分布を計算する関数\n",
    "def loglike_alpha(alpha, beta, tau_inv, d, d_log, x):\n",
    "\n",
    "    #ガンマ回帰モデルの対数尤度\n",
    "    mu = np.dot(x, alpha).reshape(-1)\n",
    "    Lambda = np.exp(mu)   \n",
    "    Lho = np.sum(beta * (-d/Lambda - mu) + beta*np.log(beta) - math.lgamma(beta) + (beta-1)*d_log)\n",
    "\n",
    "    #多変量正規分布の対数事前分布\n",
    "    log_mvn = -1/2 * np.dot(np.dot(alpha, tau_inv), alpha)\n",
    "\n",
    "    #対数事後分布の和\n",
    "    LL = Lho + log_mvn\n",
    "    return LL\n",
    "\n",
    "#ガンマ回帰の対数事後分布の微分関数\n",
    "def dloglike_alpha(alpha, beta, tau_inv, d, d_log, x, n):\n",
    "\n",
    "    #期待値の設定\n",
    "    mu = np.dot(x, alpha).reshape(-1)\n",
    "    Lambda = np.exp(mu)\n",
    "\n",
    "    #微分関数の設定\n",
    "    dlgamma = np.sum(((d-Lambda) / (np.power(Lambda, 2)/beta) * Lambda).reshape(n, 1) * x, axis=0)\n",
    "    dmvn = np.dot(-tau_inv, alpha)\n",
    "\n",
    "    #対数事後分布の微分関数の和\n",
    "    LLd = -(dlgamma + dmvn)\n",
    "    return LLd\n",
    "\n",
    "#リープフロッグ法を解く関数\n",
    "def leapfrog_alpha(r, z1, D, e, L, beta, tau_inv, d, d_log, x, n): \n",
    "    def leapfrog_step(r, z1, e):\n",
    "        r2 = r - e * D(z1, beta, tau_inv, d, d_log, x, n) / 2\n",
    "        z2 = z1 + e * r2\n",
    "        r2 = r2 - e * D(z2, beta, tau_inv, d, d_log, x, n) / 2\n",
    "        return [r2, z2]   #1回の移動後の運動量と座標\n",
    "    leapfrog_result = [r, z1]\n",
    "    for i in range(L):\n",
    "        leapfrog_result = leapfrog_step(leapfrog_result[0], leapfrog_result[1], e)\n",
    "    return leapfrog_result"
   ]
  },
  {
   "cell_type": "code",
   "execution_count": 132,
   "metadata": {},
   "outputs": [],
   "source": [
    "##HMCで形状パラメータをサンプリングするための関数\n",
    "#対数事後分布を計算する関数\n",
    "def loglike_beta(beta, alpha_u, alpha_v, d1, d2, d_log1, d_log2, u, v, hh, item, k):\n",
    "\n",
    "    #パラメータを設定\n",
    "    beta_u = beta[0]\n",
    "    beta_v = beta[1]\n",
    "    \n",
    "    #期待値の設定\n",
    "    mu_u = np.dot(u, alpha_u).reshape(-1)\n",
    "    mu_v = np.dot(v, alpha_v).reshape(-1)\n",
    "    Lambda_u = np.exp(mu_u)\n",
    "    Lambda_v = np.exp(mu_v)\n",
    "    \n",
    "    #ガンマ回帰モデルの対数尤度\n",
    "    Lho1 = np.sum(beta_u * (-d1/Lambda_u - mu_u) + beta_u*np.log(beta_u) - math.lgamma(beta_u) + (beta_u-1)*d_log1)\n",
    "    Lho2 = np.sum(beta_v * (-d2/Lambda_v - mu_v) + beta_v*np.log(beta_v) - math.lgamma(beta_v) + (beta_v-1)*d_log2)\n",
    "\n",
    "    #対数事後分布の和\n",
    "    LL = Lho1 + Lho2\n",
    "    return LL\n",
    "\n",
    "#形状パラメータの微分関数\n",
    "def dloglike_beta(beta, alpha_u, alpha_v, d1, d2, u, v, hh, item, k):\n",
    "    \n",
    "    #パラメータを設定\n",
    "    beta_u = beta[0]\n",
    "    beta_v = beta[1]\n",
    "    \n",
    "    #期待値の設定\n",
    "    mu_u = np.dot(u, alpha_u).reshape(-1)\n",
    "    mu_v = np.dot(v, alpha_v).reshape(-1)\n",
    "    Lambda_u = np.exp(mu_u)\n",
    "    Lambda_v = np.exp(mu_v)\n",
    "    \n",
    "    #微分関数の和\n",
    "    dlgamma_u = (hh*k)*(np.log(beta_u) - scipy.special.digamma(beta_u)) + np.sum(1 - d1/Lambda_u + np.log(d1/Lambda_u))\n",
    "    dlgamma_v = (item*k)*(np.log(beta_v) - scipy.special.digamma(beta_v)) + np.sum(1 - d2/Lambda_v + np.log(d2/Lambda_v))\n",
    "    dlgamma = -np.append(dlgamma_u, dlgamma_v)\n",
    "    return dlgamma\n",
    "\n",
    "#リープフロッグ法を解く関数\n",
    "def leapfrog_beta(r, z1, D, e, L, alpha_u, alpha_v, d1, d2, u, v, hh, item, k): \n",
    "    def leapfrog_step(r, z1, e):\n",
    "        r2 = r - e * D(z1, alpha_u, alpha_v, d1, d2, u, v, hh, item, k) / 2\n",
    "        z2 = z1 + e * r2\n",
    "        r2 = r2 - e * D(z2, alpha_u, alpha_v, d1, d2, u, v, hh, item, k) / 2\n",
    "        return [r2, z2]   #1回の移動後の運動量と座標\n",
    "    leapfrog_result = [r, z1]\n",
    "    for i in range(L):\n",
    "        leapfrog_result = leapfrog_step(leapfrog_result[0], leapfrog_result[1], e)\n",
    "    return leapfrog_result"
   ]
  },
  {
   "cell_type": "code",
   "execution_count": 133,
   "metadata": {},
   "outputs": [],
   "source": [
    "##アルゴリズムの設定\n",
    "R = 3000\n",
    "keep = 2\n",
    "burnin = int(500/keep)\n",
    "iter = 0\n",
    "disp = 10\n",
    "e1 = 0.0025\n",
    "e2 = 0.01\n",
    "L = 3"
   ]
  },
  {
   "cell_type": "code",
   "execution_count": 134,
   "metadata": {},
   "outputs": [],
   "source": [
    "##インデックスの設定\n",
    "#先頭と後尾のインデックスを作成\n",
    "max_pt = np.max(pt_id) + 1\n",
    "index_t1 = np.array(np.where(pt_id==0)[0], dtype=\"int\")\n",
    "index_t12 = np.repeat(0, hh)\n",
    "for i in range(hh):\n",
    "    index_t12[i] = np.max(user_list[i])\n",
    "    \n",
    "#中間のインデックスを作成\n",
    "index_list_t21 = [j for j in range(max_pt-1)]\n",
    "index_list_t22 = [j for j in range(max_pt-1)]\n",
    "for j in range(1, max_pt):\n",
    "    index_list_t21[j-1] = np.array(np.where(pt_id==j)[0], dtype=\"int\") - 1\n",
    "    index_list_t22[j-1] = np.array(np.where(pt_id==j)[0], dtype=\"int\")\n",
    "index_t21 = np.sort(np.array(list(itertools.chain(*[index_list_t21[j] for j in range(max_pt-1)]))))\n",
    "index_t22 = np.sort(np.array(list(itertools.chain(*[index_list_t22[j] for j in range(max_pt-1)]))))"
   ]
  },
  {
   "cell_type": "code",
   "execution_count": 168,
   "metadata": {},
   "outputs": [],
   "source": [
    "##パラメータの真値\n",
    "#潜在変数の割当率のパラメータの真値\n",
    "pi = pit.copy()  \n",
    "gamma = gammat.copy()\n",
    "delta = deltat.copy()\n",
    "omega0 = omegat0.copy()\n",
    "omega1 = omegat1.copy()\n",
    "theta0 = thetat0.copy()\n",
    "theta1 = thetat1.copy()\n",
    "\n",
    "#潜在変数の真値\n",
    "Zi = Z\n",
    "Ai = A\n",
    "si = s\n",
    "Si = S.copy()\n",
    "Si0 = Si[:, :m0].copy()\n",
    "Si0[np.where(Si[:, m0]==1)[0], ] = np.random.multinomial(1, omega0[:m0], np.sum(Si[:, m0]))\n",
    "s0_vec = np.dot(Si0, np.arange(m0))\n",
    "s1_vec = np.dot(Si, np.arange(m0+1))\n",
    "\n",
    "#モデルパラメータの真値\n",
    "alpha0 = alphat0\n",
    "alpha1 = alphat1\n",
    "alpha = np.append(alpha0, alpha1)\n",
    "beta0 = betat0\n",
    "beta1 = betat1\n",
    "beta = np.hstack((beta0, beta1))"
   ]
  },
  {
   "cell_type": "code",
   "execution_count": 169,
   "metadata": {},
   "outputs": [],
   "source": [
    "##ユーザーの状態ごとの潜在変数を生成\n",
    "#潜在変数ごとのガンマ回帰の尤度\n",
    "Lho = np.zeros((hhpt, m0+m1))\n",
    "for j in range(m0+m1):\n",
    "    Lho[:, j] = np.exp(loglike(beta[:, j], alpha[j], y, log_y, x)[1])\n",
    "Lho_new = np.hstack((Lho[:, :m0], np.sum(Lho[:, m0:], axis=1)[:, np.newaxis]))"
   ]
  },
  {
   "cell_type": "code",
   "execution_count": 170,
   "metadata": {},
   "outputs": [],
   "source": [
    "#HMMの混合率と推移確率\n",
    "theta_dt01 = np.full((hhpt, m0), 1/m0); theta_dt02 = theta_dt01.copy()\n",
    "theta_dt11 = np.full((hhpt, m0+1), 1/(m0+1)); theta_dt12 = theta_dt11.copy()\n",
    "theta_dt01[index_t1, ] = np.full((hh, m0), omega0[:m0])\n",
    "theta_dt01[index_t22, ] = theta0[:m0, :m0][s0_vec[index_t21], ]\n",
    "theta_dt02[index_t21, ] = (theta0[:m0, :m0].T)[s0_vec[index_t22], ]\n",
    "theta_dt11[index_t1, ] = np.full((hh, m0+1), omega1)\n",
    "theta_dt11[index_t22, ] = theta1[s1_vec[index_t21], ]\n",
    "theta_dt12[index_t21, ] = (theta1.T)[s1_vec[index_t22], ]"
   ]
  },
  {
   "cell_type": "code",
   "execution_count": 171,
   "metadata": {},
   "outputs": [],
   "source": [
    "#潜在変数ごとの事後分布と期待値\n",
    "Posterior0 = theta_dt01 * theta_dt02 * Lho_new[:, :m0]\n",
    "Posterior1 = theta_dt11 * theta_dt12 * Lho_new\n",
    "new_posterior0 = np.dot(Posterior0, np.repeat(1, m0))[:, np.newaxis]\n",
    "new_posterior1 = np.dot(Posterior1, np.repeat(1, m0+1))[:, np.newaxis]"
   ]
  },
  {
   "cell_type": "code",
   "execution_count": 172,
   "metadata": {},
   "outputs": [],
   "source": [
    "#ユーザーごとの潜在変数の事後分布\n",
    "pi_vec = np.append(1-pi, pi)\n",
    "new_posterior = np.zeros((hh, 2))\n",
    "for i in range(hh):\n",
    "    index = user_list[i]\n",
    "    Posterior = np.sum(np.log(np.hstack((new_posterior0[index, ], new_posterior1[index, ]))), axis=0)\n",
    "    new_posterior[i, ] = pi_vec * np.exp(Posterior - np.max(Posterior))   #ユーザーごとの潜在変数の事後分布\n",
    "\n",
    "#ベルヌーイ分布からユーザーの状態をサンプリング\n",
    "z_rate = new_posterior / np.sum(new_posterior, axis=1)[:, np.newaxis]   #潜在変数の割当確率\n",
    "Zi = np.random.binomial(1, z_rate[:, 1], hh)\n",
    "index_z = np.array(np.where(Zi==1)[0], dtype=\"int\")\n",
    "n = index_z.shape[0]"
   ]
  },
  {
   "cell_type": "code",
   "execution_count": 187,
   "metadata": {},
   "outputs": [
    {
     "data": {
      "text/plain": [
       "array([-788.9586195 , -598.51463853, -661.4655022 , -585.10845111,\n",
       "       -966.17538742])"
      ]
     },
     "execution_count": 187,
     "metadata": {},
     "output_type": "execute_result"
    }
   ],
   "source": [
    "i = 5\n",
    "index = index_z[i]\n",
    "np.sum(np.log(Lho[user_list[index], m0:]), axis=0)\n",
    "np.sum(np.log(Lho[user_list[index], ]), axis=0)"
   ]
  },
  {
   "cell_type": "code",
   "execution_count": 188,
   "metadata": {},
   "outputs": [
    {
     "data": {
      "text/plain": [
       "array([[1.64141696e-04, 9.54201201e-03, 3.18453999e-02, 4.72445391e-04],\n",
       "       [1.43156982e-07, 3.06270451e-02, 9.96869395e-02, 9.41095247e-04],\n",
       "       [7.11986613e-08, 1.47965234e-02, 8.21698388e-02, 1.12754738e-04],\n",
       "       ...,\n",
       "       [1.03835244e-05, 3.69158659e-02, 3.67787612e-02, 7.29293510e-05],\n",
       "       [4.00729366e-07, 1.07942453e-02, 9.97322487e-02, 2.42909923e-04],\n",
       "       [5.84778110e-05, 2.79017848e-02, 1.37458649e-01, 9.54413124e-03]])"
      ]
     },
     "execution_count": 188,
     "metadata": {},
     "output_type": "execute_result"
    }
   ],
   "source": [
    "Posterior1"
   ]
  },
  {
   "cell_type": "code",
   "execution_count": 167,
   "metadata": {},
   "outputs": [
    {
     "data": {
      "text/plain": [
       "134"
      ]
     },
     "execution_count": 167,
     "metadata": {},
     "output_type": "execute_result"
    }
   ],
   "source": [
    "np.sum(Z)\n",
    "n"
   ]
  },
  {
   "cell_type": "code",
   "execution_count": 417,
   "metadata": {},
   "outputs": [],
   "source": [
    "#ユーザーごとの潜在変数の事後分布を設定\n",
    "new_posterior0 = np.sum(Posterior0, axis=1)\n",
    "new_posterior1 = np.sum(Posterior1, axis=1)\n",
    "new_posterior = np.zeros((hh, 2))\n",
    "for i in range(hh):\n",
    "    Posterior = np.append(np.sum(np.log(new_posterior0[user_list[i]])), np.sum(np.log(new_posterior1[user_list[i]])))\n",
    "    new_posterior[i, ] = np.array([pi, 1-pi]) * np.exp(Posterior - np.max(Posterior))"
   ]
  },
  {
   "cell_type": "code",
   "execution_count": 419,
   "metadata": {},
   "outputs": [],
   "source": [
    "z_rate = new_posterior / np.sum(new_posterior, axis=1)[:, np.newaxis]\n"
   ]
  },
  {
   "cell_type": "code",
   "execution_count": 429,
   "metadata": {},
   "outputs": [
    {
     "name": "stdout",
     "output_type": "stream",
     "text": [
      "[9.19639226e-11 1.00000000e+00]\n"
     ]
    }
   ],
   "source": [
    "i = 1000\n",
    "print(z_rate[i, ])\n"
   ]
  },
  {
   "cell_type": "code",
   "execution_count": 422,
   "metadata": {},
   "outputs": [
    {
     "data": {
      "text/plain": [
       "array([  17,   23,   33,  130,  140,  153,  159,  177,  181,  214,  263,\n",
       "        288,  328,  337,  374,  375,  403,  450,  496,  534,  582,  583,\n",
       "        609,  658,  685,  746,  773,  810,  814,  859,  911,  942,  970,\n",
       "        992, 1004, 1012, 1044, 1062, 1087, 1124, 1146, 1207, 1221, 1311,\n",
       "       1366, 1399, 1409, 1431, 1439, 1487, 1512, 1526, 1557, 1627, 1672,\n",
       "       1680, 1695, 1702, 1721, 1722, 1746, 1770, 1775, 1777, 1888, 1893,\n",
       "       1923, 1932, 1943, 1957, 1966, 1976, 1997, 2014, 2037, 2080, 2138,\n",
       "       2212, 2217, 2352, 2373, 2403, 2417, 2475, 2478, 2480, 2490, 2547,\n",
       "       2600, 2661, 2683, 2750, 2758, 2762, 2802, 2844, 2860, 2880, 2939,\n",
       "       3006, 3009, 3036, 3047, 3074, 3103, 3120, 3179, 3209, 3253, 3293,\n",
       "       3354, 3394, 3406, 3431, 3450, 3523, 3545, 3568, 3586, 3624, 3694,\n",
       "       3754, 3797, 3821, 3859, 3911, 3918, 3956, 3978, 3982, 4040, 4047,\n",
       "       4075, 4109, 4112, 4116, 4203, 4214, 4305, 4341, 4385, 4398, 4403,\n",
       "       4423, 4451, 4465, 4499, 4503, 4510, 4514, 4546, 4599, 4656, 4690,\n",
       "       4741, 4857, 4931, 4961, 4974])"
      ]
     },
     "execution_count": 422,
     "metadata": {},
     "output_type": "execute_result"
    }
   ],
   "source": [
    "index_z"
   ]
  },
  {
   "cell_type": "code",
   "execution_count": 98,
   "metadata": {},
   "outputs": [
    {
     "data": {
      "text/plain": [
       "array([[0.13016774, 0.05378805, 0.37184295, 0.05567064]])"
      ]
     },
     "execution_count": 98,
     "metadata": {},
     "output_type": "execute_result"
    }
   ],
   "source": [
    "Posterior"
   ]
  },
  {
   "cell_type": "code",
   "execution_count": 113,
   "metadata": {},
   "outputs": [
    {
     "data": {
      "text/plain": [
       "1204.5"
      ]
     },
     "execution_count": 113,
     "metadata": {},
     "output_type": "execute_result"
    }
   ],
   "source": [
    "(2409*10)*0.05"
   ]
  },
  {
   "cell_type": "code",
   "execution_count": 75,
   "metadata": {},
   "outputs": [
    {
     "data": {
      "text/plain": [
       "array([0, 1, 2, 3])"
      ]
     },
     "execution_count": 75,
     "metadata": {},
     "output_type": "execute_result"
    }
   ],
   "source": [
    "np.anp.arange(m0)"
   ]
  },
  {
   "cell_type": "code",
   "execution_count": 117,
   "metadata": {},
   "outputs": [],
   "source": []
  },
  {
   "cell_type": "code",
   "execution_count": 116,
   "metadata": {},
   "outputs": [
    {
     "data": {
      "text/plain": [
       "array([0.05, 0.05, 0.05, 0.05, 0.05, 0.6 ])"
      ]
     },
     "execution_count": 116,
     "metadata": {},
     "output_type": "execute_result"
    }
   ],
   "source": [
    "\n"
   ]
  },
  {
   "cell_type": "code",
   "execution_count": null,
   "metadata": {},
   "outputs": [],
   "source": []
  }
 ],
 "metadata": {
  "kernelspec": {
   "display_name": "Python 3",
   "language": "python",
   "name": "python3"
  },
  "language_info": {
   "codemirror_mode": {
    "name": "ipython",
    "version": 3
   },
   "file_extension": ".py",
   "mimetype": "text/x-python",
   "name": "python",
   "nbconvert_exporter": "python",
   "pygments_lexer": "ipython3",
   "version": "3.6.5"
  }
 },
 "nbformat": 4,
 "nbformat_minor": 2
}
