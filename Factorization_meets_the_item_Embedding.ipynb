{
 "cells": [
  {
   "cell_type": "code",
   "execution_count": 115,
   "metadata": {},
   "outputs": [],
   "source": [
    "#####Factorization meets the item Embedding#####\n",
    "import numpy as np\n",
    "import pandas as pd\n",
    "import matplotlib.pyplot  as plt\n",
    "import numpy.matlib\n",
    "import scipy.linalg\n",
    "import itertools\n",
    "from scipy import sparse\n",
    "from scipy.stats import norm\n",
    "from pandas.tools.plotting import scatter_matrix\n",
    "from numpy.random import *\n",
    "from scipy import optimize\n",
    "import seaborn as sns\n",
    "\n",
    "#np.random.seed(98537)"
   ]
  },
  {
   "cell_type": "code",
   "execution_count": 116,
   "metadata": {},
   "outputs": [
    {
     "data": {
      "text/plain": [
       "(array([  4.,   8.,  76., 192., 320., 504., 583., 628., 641., 559., 424.,\n",
       "        323., 249., 152., 120.,  78.,  61.,  32.,  20.,   6.,   9.,   4.,\n",
       "          5.,   1.,   1.]),\n",
       " array([ 13.  ,  23.12,  33.24,  43.36,  53.48,  63.6 ,  73.72,  83.84,\n",
       "         93.96, 104.08, 114.2 , 124.32, 134.44, 144.56, 154.68, 164.8 ,\n",
       "        174.92, 185.04, 195.16, 205.28, 215.4 , 225.52, 235.64, 245.76,\n",
       "        255.88, 266.  ]),\n",
       " <a list of 25 Patch objects>)"
      ]
     },
     "execution_count": 116,
     "metadata": {},
     "output_type": "execute_result"
    },
    {
     "data": {
      "image/png": "[encoded data removed]",
      "text/plain": [
       "<Figure size 432x288 with 1 Axes>"
      ]
     },
     "metadata": {},
     "output_type": "display_data"
    }
   ],
   "source": [
    "####データの生成####\n",
    "##データの設定\n",
    "s = 2\n",
    "k = 10\n",
    "k_vec = np.repeat(1, k)\n",
    "hh = 5000\n",
    "item = 3000\n",
    "pt = np.random.poisson(np.random.gamma(10.0, 1/0.1, hh), hh)\n",
    "hhpt = np.sum(pt)\n",
    "plt.hist(pt, bins=25)"
   ]
  },
  {
   "cell_type": "code",
   "execution_count": 117,
   "metadata": {},
   "outputs": [],
   "source": [
    "##IDとインデックスの設定\n",
    "#IDの設定\n",
    "d_id = np.repeat(np.arange(hh), pt)\n",
    "pt_id = np.array(list(itertools.chain(*[np.array(range(pt[i]), dtype=\"int\") for i in range(hh)])))\n",
    "\n",
    "#インデックスの設定\n",
    "index = np.array(range(hhpt))\n",
    "d_list = [i for i in range(hh)]\n",
    "for i in range(hh):\n",
    "    d_list[i] = index[d_id==i]\n",
    "d_dt = sparse.coo_matrix((np.repeat(1, hhpt), (d_id, range(hhpt))), shape=(hh, hhpt)).tocsr()   #スパース行列の設定"
   ]
  },
  {
   "cell_type": "code",
   "execution_count": 118,
   "metadata": {},
   "outputs": [],
   "source": [
    "#素性ベクトルを生成\n",
    "k1 = 5; k2 = 6; k3 = 5\n",
    "x1 = np.abs(np.array(np.random.random(hhpt*k1)).reshape((hhpt, k1)))\n",
    "x2 = np.zeros((hhpt, k2))\n",
    "for j in range(k2):\n",
    "    prob = np.random.uniform(0.25, 0.55, 1)\n",
    "    x2[:, j] = np.random.binomial(1, prob, hhpt)\n",
    "x3 = np.random.multinomial(1, np.random.dirichlet(np.repeat(3.0, k3), 1).reshape(k3), hhpt)\n",
    "x3 = np.delete(x3, np.argmin(np.sum(x3, axis=0)), axis=1)   #冗長な変数の削除\n",
    "x = np.concatenate((np.repeat(1, hhpt)[:, np.newaxis], x1, x2, x3), axis=1)   #すべての説明変数を結合\n",
    "x_col = x.shape[1]"
   ]
  },
  {
   "cell_type": "code",
   "execution_count": 119,
   "metadata": {},
   "outputs": [
    {
     "name": "stdout",
     "output_type": "stream",
     "text": [
      "0\n",
      "1000\n",
      "2000\n",
      "3000\n",
      "4000\n"
     ]
    }
   ],
   "source": [
    "##アイテムの割当を生成\n",
    "#トピック割当を生成\n",
    "topic = 25\n",
    "phi = np.random.dirichlet(np.repeat(0.225, item), topic)\n",
    "theta = np.random.dirichlet(np.repeat(0.5, topic), hh)\n",
    "z = np.dot(np.array([np.random.multinomial(1, theta[i, :], 1) for i in range(hh)]).reshape(hh, topic), range(topic))\n",
    "\n",
    "#多項分布からアイテムを生成\n",
    "item_id = np.zeros(hhpt, dtype='int')\n",
    "for i in range(hh):\n",
    "    if i%1000==0:\n",
    "        print(i)\n",
    "    item_id[d_list[i]] = np.dot(np.random.multinomial(1, phi[z[i], :], pt[i]), range(item))\n",
    "item_dt = sparse.coo_matrix((np.repeat(1, hhpt), (item_id, range(hhpt))), shape=(item, hhpt)).tocsr()   #スパース行列の設定\n",
    "item_n = np.array(np.sum(item_dt, axis=1)).reshape(-1)\n",
    "\n",
    "#アイテムのインデックスを作成\n",
    "item_list = [j for j in range(item)]\n",
    "for j in range(item):\n",
    "    item_list[j] = np.array(np.where(item_id==j)[0], dtype=\"int\")"
   ]
  },
  {
   "cell_type": "code",
   "execution_count": 120,
   "metadata": {},
   "outputs": [
    {
     "name": "stdout",
     "output_type": "stream",
     "text": [
      "0.19758877291115218\n",
      "0.020098886280777106\n",
      "0.09543824601708036\n",
      "0.14574439394696098\n",
      "0.2712240922938621\n"
     ]
    }
   ],
   "source": [
    "##応答変数を生成\n",
    "rp = 0\n",
    "while True:\n",
    "    rp = 0\n",
    "\n",
    "    ##モデルパラメータを生成\n",
    "    #事前分布のパラメータ\n",
    "    alpha_u = np.repeat(0, k)\n",
    "    alpha_v = np.repeat(0, k)\n",
    "    tau = np.array([1.5])\n",
    "    Cov_u = np.diag(np.repeat(0.5, k))\n",
    "    Cov_v1 = np.diag(np.repeat(0.5, k))\n",
    "    Cov_v2 = np.diag(np.repeat(0.5, k))\n",
    "    alpha_ut = alpha_u.copy(); alpha_vt = alpha_v.copy()\n",
    "    taut = tau.copy(); Cov_ut = Cov_u.copy(); Cov_vt1 = Cov_v1.copy(); Cov_vt2 = Cov_v2.copy()\n",
    "    \n",
    "    #MFのパラメータを生成\n",
    "    beta = np.append(-1.0, np.random.normal(0, 0.7, x_col-1))\n",
    "    theta = np.random.multivariate_normal(alpha_u, Cov_u, hh)\n",
    "    Sigma = np.array([1.0])\n",
    "    betat = beta.copy(); thetat = theta.copy(); Sigmat = Sigma.copy()\n",
    "\n",
    "    #item embeddingのパラメータ\n",
    "    alpha = np.random.normal(-0.3, tau, item)\n",
    "    gamma = np.random.multivariate_normal(np.repeat(0, k), Cov_v1, hh)\n",
    "    omega = np.random.multivariate_normal(np.repeat(0, k), Cov_v2, hh)\n",
    "    alphat = alpha.copy(); gammat = gamma.copy(); omegat = omega.copy()\n",
    "\n",
    "    ##アイテム購買応答変数を生成\n",
    "    #期待値を設定\n",
    "    mu1 = np.dot(x, beta) + np.sum(theta[d_id, ] * gamma[item_id, ], axis=1)\n",
    "\n",
    "    #正規分布からバイナリー変数を生成\n",
    "    u1 = np.random.normal(mu1, Sigma, hhpt)\n",
    "    y1 = np.array(u1 > 0, dtype=\"int\")\n",
    "    y_vec1 = y1[:, np.newaxis]\n",
    "    \n",
    "    #break条件\n",
    "    print(np.mean(y1))\n",
    "    if (np.mean(y1) > 0.2) & (np.mean(y1) < 0.4):\n",
    "        break"
   ]
  },
  {
   "cell_type": "code",
   "execution_count": 121,
   "metadata": {},
   "outputs": [
    {
     "name": "stdout",
     "output_type": "stream",
     "text": [
      "0\n",
      "1000\n",
      "2000\n"
     ]
    }
   ],
   "source": [
    "##item Embeddingの応答変数を生成\n",
    "#データの設定\n",
    "n = 5\n",
    "no = np.arange(item)\n",
    "rate = item_n / np.sum(item_n)\n",
    "y2_list = [j for j in range(item)]\n",
    "Embedding_id_list1 = [j for j in range(item)]\n",
    "Embedding_id_list2 = [j for j in range(item)]\n",
    "\n",
    "#アイテムの共起関係を生成\n",
    "for j in range(item):\n",
    "    if j%1000==0:\n",
    "        print(j)\n",
    "    random_id = np.random.choice(no, item*n, p=rate)\n",
    "    mu2 = alpha[j] + alpha[random_id] + np.sum(gamma[np.repeat(j, item*n), ] * omega[random_id, ], axis=1)\n",
    "    u2 = np.random.normal(mu2, Sigma, item*n)\n",
    "    y2 = np.array(u2 > 0, dtype=\"int\")\n",
    " \n",
    "    #負例サンプリングでアイテムを生成\n",
    "    index_y1 = np.array(np.where(y2==1)[0], dtype=\"int\")\n",
    "    index_y0 = np.array(np.where(y2==0)[0], dtype=\"int\")\n",
    "    y2_list[j] = np.append(np.repeat(1, item_n[j]), np.repeat(0, item_n[j]*s))\n",
    "    Embedding_id_list1[j] = np.repeat(j, y2_list[j].shape[0])\n",
    "    Embedding_id_list2[j] = np.append(random_id[np.random.choice(index_y1, item_n[j], replace=True)], \n",
    "                                      random_id[np.random.choice(index_y0, item_n[j]*s, replace=True)])"
   ]
  },
  {
   "cell_type": "code",
   "execution_count": 122,
   "metadata": {},
   "outputs": [],
   "source": [
    "#リストを変換\n",
    "Embedding_id1 = np.array(list(itertools.chain(*[Embedding_id_list1[j] for j in range(item)])))\n",
    "Embedding_id2 = np.array(list(itertools.chain(*[Embedding_id_list2[j] for j in range(item)])))\n",
    "y2 = np.array(list(itertools.chain(*[y2_list[j] for j in range(item)])))\n",
    "N = y2.shape[0]\n",
    "del Embedding_id_list1, Embedding_id_list2, y2_list"
   ]
  },
  {
   "cell_type": "code",
   "execution_count": 123,
   "metadata": {},
   "outputs": [],
   "source": [
    "#Embeddingのインデックスを設定\n",
    "Embedding_list1 = [j for j in range(item)]\n",
    "Embedding_list2 = [j for j in range(item)]\n",
    "for j in range(item):\n",
    "    Embedding_list1[j] = np.array(np.where(Embedding_id1==j)[0], dtype=\"int\")\n",
    "    Embedding_list2[j] = np.array(np.where(Embedding_id2==j)[0], dtype=\"int\")"
   ]
  },
  {
   "cell_type": "code",
   "execution_count": 124,
   "metadata": {},
   "outputs": [],
   "source": [
    "##テストデータの生成\n",
    "\n"
   ]
  },
  {
   "cell_type": "code",
   "execution_count": 125,
   "metadata": {},
   "outputs": [],
   "source": [
    "####ギブスサンプリングでFactorization meets the item Embeddingを推定####\n",
    "##切断正規分布の乱数を発生させる関数\n",
    "def rtnorm(mu, sigma, a, b, n):\n",
    "    FA = norm.cdf(a, mu, sigma)\n",
    "    FB = norm.cdf(b, mu, sigma)\n",
    "    return norm.ppf(np.random.uniform(0, 1, n)*(FB-FA)+FA, mu, sigma)"
   ]
  },
  {
   "cell_type": "code",
   "execution_count": 126,
   "metadata": {},
   "outputs": [],
   "source": [
    "##アルゴリズムの設定\n",
    "LL1 = -100000000   #対数尤度の初期値\n",
    "R = 2000\n",
    "keep = 2  \n",
    "iter = 0\n",
    "burnin = 500/keep\n",
    "disp = 10"
   ]
  },
  {
   "cell_type": "code",
   "execution_count": 127,
   "metadata": {},
   "outputs": [],
   "source": [
    "##事前分布の設定\n",
    "#階層モデルの事前分布\n",
    "delta = np.repeat(0, k)\n",
    "nu = 1\n",
    "V = 0.1 * np.diag(np.ones(k))\n",
    "s0 = 0.1\n",
    "v0 = 0.1\n",
    "\n",
    "#素性ベクトルの事前分布\n",
    "Lambda = np.repeat(0, x_col) \n",
    "kappa = np.diag(np.repeat(100, x_col))\n",
    "inv_kappa = np.linalg.inv(kappa)"
   ]
  },
  {
   "cell_type": "code",
   "execution_count": 186,
   "metadata": {},
   "outputs": [],
   "source": [
    "##パラメータの真値\n",
    "#階層モデルの事前分布の真値\n",
    "alpha_u = alpha_ut.copy()\n",
    "alpha_v = alpha_vt.copy()\n",
    "tau = taut.copy()\n",
    "Cov_u = Cov_ut.copy()\n",
    "Cov_v1 = Cov_vt1.copy()\n",
    "Cov_v2 = Cov_vt2.copy()\n",
    "inv_Cov_u = np.linalg.inv(Cov_u)\n",
    "inv_Cov_v1 = np.linalg.inv(Cov_v1)\n",
    "inv_Cov_v2 = np.linalg.inv(Cov_v2)\n",
    "\n",
    "#MFのパラメータの真値\n",
    "beta = betat.copy()\n",
    "theta = thetat.copy()\n",
    "Sigma = np.array([1.0])\n",
    "beta_mu = np.dot(x, beta)\n",
    "uv = np.dot(theta[d_id, ] * gamma[item_id, ], k_vec)\n",
    "\n",
    "#item embeddingのパラメータの真値\n",
    "alpha1 = alphat.copy()\n",
    "alpha2 = alphat.copy()\n",
    "gamma = gammat.copy()\n",
    "omega = omegat.copy()\n",
    "vv = np.dot(gamma[Embedding_id1, ] * omega[Embedding_id2, ], k_vec)"
   ]
  },
  {
   "cell_type": "code",
   "execution_count": 129,
   "metadata": {},
   "outputs": [],
   "source": [
    "##パラメータの初期値\n",
    "#階層モデルの事前分布の初期値\n",
    "alpha_u = np.repeat(0, k)\n",
    "alpha_v = np.repeat(0, k)\n",
    "tau = np.array([1.0])\n",
    "Cov_u = np.diag(np.repeat(1.0, k))\n",
    "Cov_v1 = np.diag(np.repeat(1.0, k))\n",
    "Cov_v2 = np.diag(np.repeat(1.0, k))\n",
    "inv_Cov_u = np.linalg.inv(Cov_u)\n",
    "inv_Cov_v1 = np.linalg.inv(Cov_v1)\n",
    "inv_Cov_v2 = np.linalg.inv(Cov_v2)\n",
    "\n",
    "#MFのパラメータの初期値\n",
    "beta = np.dot(np.dot(np.linalg.inv(np.dot(x.T, x)), x.T), y1)\n",
    "theta = np.random.multivariate_normal(alpha_u, np.diag(np.repeat(0.1, k), hh)\n",
    "Sigma = np.array([1.0])\n",
    "beta_mu = np.dot(x, beta)\n",
    "uv = np.dot(theta[d_id, ] * gamma[item_id, ], k_vec)\n",
    "\n",
    "#item embeddingのパラメータの初期値\n",
    "alpha1 = np.random.normal(0, 0.5, item)\n",
    "alpha2 = np.random.normal(0, 0.5, item)\n",
    "gamma = np.random.multivariate_normal(alpha_v, np.diag(np.repeat(0.1, k), hh)\n",
    "omega = np.random.multivariate_normal(alpha_v, np.diag(np.repeat(0.1, k), hh)\n",
    "vv = np.dot(gamma[Embedding_id1, ] * omega[Embedding_id2, ], k_vec)"
   ]
  },
  {
   "cell_type": "code",
   "execution_count": 169,
   "metadata": {},
   "outputs": [],
   "source": [
    "##データの設定\n",
    "#データの定数\n",
    "XXV = np.dot(x.T, x) + inv_kappa\n",
    "inv_XXV = np.linalg.inv(xxv)\n",
    "\n",
    "#切断領域を定義\n",
    "a1 = (1-y1)*(-100) + y1*0\n",
    "b1 = y1*100 + (1-y1)*0\n",
    "a2 = (1-y2)*(-100) + y2*0\n",
    "b2 = y2*100 + (1-y2)*0"
   ]
  },
  {
   "cell_type": "code",
   "execution_count": 170,
   "metadata": {},
   "outputs": [],
   "source": [
    "##サンプリング結果の格納用配列\n",
    "#階層モデルの格納用配列\n"
   ]
  },
  {
   "cell_type": "code",
   "execution_count": 171,
   "metadata": {},
   "outputs": [
    {
     "name": "stdout",
     "output_type": "stream",
     "text": [
      "-292572.34794104786\n",
      "-123657.29102833543\n"
     ]
    }
   ],
   "source": [
    "##対数尤度の基準値\n",
    "#1パラメータでの対数尤度\n",
    "LLst = np.sum(y1*np.log(np.mean(y1))) + np.sum((1-y1)*np.log(np.mean(1-y1)))\n",
    "print(LLst)\n",
    "\n",
    "#真値での対数尤度\n",
    "mu =  np.dot(x, betat) + np.sum(thetat[d_id, ] * gammat[item_id, ], axis=1)\n",
    "Prob = scipy.stats.norm.cdf(mu, 0, Sigmat)\n",
    "Prob[Prob==1.0] = 0.9999999999; Prob[Prob==0] = np.power(10.0, -100)\n",
    "LLbest = np.sum(y1*np.log(Prob)) + np.sum((1-y1)*np.log(1-Prob))\n",
    "print(LLbest)"
   ]
  },
  {
   "cell_type": "code",
   "execution_count": 187,
   "metadata": {},
   "outputs": [],
   "source": [
    "####ギブスサンプリングでパラメータをサンプリング####\n",
    "##切断正規分布から潜在変数をサンプリング\n",
    "#MFの潜在変数をサンプリング\n",
    "uv = np.dot(theta[d_id, ] * gamma[item_id, ], k_vec)\n",
    "mu1 = np.dot(x, beta) + uv\n",
    "U1 = rtnorm(mu1, Sigma, a1, b1, hhpt) \n",
    "\n",
    "#item embeddingの潜在変数をサンプリング\n",
    "alpha_vec1 = alpha1[Embedding_id1]\n",
    "alpha_vec2 = alpha2[Embedding_id2]\n",
    "vv = np.dot(gamma[Embedding_id1, ] * omega[Embedding_id2, ], k_vec)\n",
    "mu2 = alpha_vec1 + alpha_vec2 + vv\n",
    "U2 = rtnorm(mu2, Sigma, a2, b2, N)"
   ]
  },
  {
   "cell_type": "code",
   "execution_count": 89,
   "metadata": {},
   "outputs": [],
   "source": [
    "##素性ベクトルの回帰パラメータをサンプリング\n",
    "#モデル誤差を定義\n",
    "er_y = U1 - uv \n",
    "\n",
    "#多変量正規分布からパラメータをサンプリング\n",
    "beta_par = np.dot(np.dot(inv_XXV, x.T), er_y)\n",
    "beta = np.random.multivariate_normal(beta_par, Sigma*inv_xxv, 1).reshape(-1)"
   ]
  },
  {
   "cell_type": "code",
   "execution_count": 163,
   "metadata": {},
   "outputs": [],
   "source": [
    "##ユーザーの特徴ベクトルをサンプリング\n",
    "#モデル誤差を定義\n",
    "beta_mu = np.dot(x, betat)\n",
    "er_y = U1 - beta_mu\n",
    "\n",
    "#ユーザーごとにパラメータをサンプリング\n",
    "for i in range(hh):\n",
    "    #データの設定\n",
    "    index = d_list[i]\n",
    "    v = gamma[item_id[index], ]\n",
    "\n",
    "    #特徴ベクトルの事後分布のパラメータ\n",
    "    xy = np.dot(v.T, er_y[index])\n",
    "    xxv = np.dot(v.T, v) + inv_Cov_u\n",
    "    inv_xxv = np.linalg.inv(xxv)\n",
    "    theta_par = np.dot(inv_xxv, xy + np.dot(inv_Cov_u, alpha_u))\n",
    "\n",
    "    #多変量正規分布から特徴ベクトルをサンプリング\n",
    "    theta[i, ] = np.random.multivariate_normal(theta_par, inv_xxv, 1)"
   ]
  },
  {
   "cell_type": "code",
   "execution_count": 181,
   "metadata": {},
   "outputs": [],
   "source": [
    "##アイテムの特徴ベクトルをサンプリング\n",
    "#モデル誤差の定義\n",
    "er_y1 = er_y.copy()\n",
    "er_y2 = U2 - alpha_vec1 - alpha_vec2\n",
    "\n",
    "#アイテムごとにパラメータをサンプリング\n",
    "for j in range(item):\n",
    "    #データの設定\n",
    "    index1 = item_list[j]; index2 = Embedding_list1[j]\n",
    "    u1 = theta[d_id[index1], ]; u2 = omega[Embedding_id2[index2], ]\n",
    "\n",
    "    #特徴ベクトルの事後分布のパラメータ\n",
    "    xy = np.dot(u1.T, er_y1[index1]) + np.dot(u2.T, er_y2[index2])\n",
    "    xxu = np.dot(u1.T, u1) + np.dot(u2.T, u2) + inv_Cov_v1\n",
    "    inv_xxu = np.linalg.inv(xxu)\n",
    "    gamma_par = np.dot(inv_xxu, xy + np.dot(inv_Cov_v1, alpha_v))\n",
    "\n",
    "    #多変量正規分布から特徴ベクトルをサンプリング\n",
    "    gamma[j, ] = np.random.multivariate_normal(gamma_par, inv_xxu, 1)"
   ]
  },
  {
   "cell_type": "code",
   "execution_count": 188,
   "metadata": {},
   "outputs": [],
   "source": [
    "##skip gramの特徴ベクトルをサンプリング\n",
    "#skip gramごとにパラメータをサンプリング\n",
    "for j in range(item):\n",
    "    #データの設定\n",
    "    index = Embedding_list2[j]\n",
    "    v = gamma[Embedding_id1[index], ]\n",
    "\n",
    "    #特徴ベクトルの事後分布のパラメータ\n",
    "    xy = np.dot(v.T, er_y2[index])\n",
    "    xxv = np.dot(v.T, v) + inv_Cov_v2\n",
    "    inv_xxv = np.linalg.inv(xxv)\n",
    "    omega_par = np.dot(inv_xxv, xy + np.dot(inv_Cov_v2, alpha_v))\n",
    "\n",
    "    #多変量正規分布から特徴ベクトルをサンプリング\n",
    "    omega[j, ] = np.random.multivariate_normal(omega_par, inv_xxv, 1)"
   ]
  },
  {
   "cell_type": "code",
   "execution_count": 225,
   "metadata": {},
   "outputs": [],
   "source": [
    "##アイテムバイアスをサンプリング\n",
    "#モデル誤差の定義\n",
    "vv = np.dot(gamma[Embedding_id1, ] * omega[Embedding_id2, ], k_vec)\n",
    "er_y = U2 - vv\n",
    "\n",
    "#アイテムごとにパラメータをサンプリング\n",
    "for j in range(item):\n",
    "    #データの設定\n",
    "    index1 = Embedding_list1[j]; index2 = Embedding_list2[j]\n",
    "    n1 = index1.shape[0]; n2 = index2.shape[0]\n",
    "\n",
    "    #バイアスの事後分布のパラメータ\n",
    "    alpha_par1 = np.mean(er_y[index1] - alpha_vec2[index1]); alpha_par2 = np.mean(er_y[index2] - alpha_vec1[index2])\n",
    "    weights1 = np.power(tau, 2) / (np.power(Sigma, 2)/n1 + np.power(tau, 2))\n",
    "    weights2 = np.power(tau, 2) / (np.power(Sigma, 2)/n1 + np.power(tau, 2))\n",
    "\n",
    "    #正規分布からバイアスをサンプリング\n",
    "    alpha1[j] = np.random.normal(alpha_par1*weights1, weights1*np.power(Sigma, 2)/n1)\n",
    "    alpha2[j] = np.random.normal(alpha_par2*weights2, weights2*np.power(Sigma, 2)/n2)"
   ]
  },
  {
   "cell_type": "code",
   "execution_count": 217,
   "metadata": {},
   "outputs": [],
   "source": [
    "##階層モデルのパラメータをサンプリング\n",
    "#逆ウィシャート分布からユーザー特徴行列の分散共分散行列をサンプリング\n",
    "er = theta - np.full((hh, k), np.mean(theta, axis=0))\n",
    "IW_R = np.dot(er.T, er) + V\n",
    "Sn = hh + nu\n",
    "Cov_u = np.diag(np.diag(scipy.stats.invwishart.rvs(Sn, IW_R, 1)))\n",
    "\n",
    "#逆ウィシャート分布からアイテム特徴行列の分散共分散行列をサンプリング\n",
    "er1 = gamma - np.full((item, k), np.mean(gamma, axis=0)); er2 = omega - np.full((item, k), np.mean(omega, axis=0))\n",
    "IW_R1 = np.dot(er1.T, er) + V; IW_R2 = np.dot(er2.T, er2)\n",
    "Sn1 = item + nu; Sn2 = item + nu\n",
    "Cov_v1 = np.diag(np.diag(scipy.stats.invwishart.rvs(Sn1, IW_R1, 1)))\n",
    "Cov_v2 = np.diag(np.diag(scipy.stats.invwishart.rvs(Sn2, IW_R2, 1)))"
   ]
  },
  {
   "cell_type": "code",
   "execution_count": 236,
   "metadata": {},
   "outputs": [
    {
     "data": {
      "text/plain": [
       "array([1.47188808])"
      ]
     },
     "execution_count": 236,
     "metadata": {},
     "output_type": "execute_result"
    }
   ],
   "source": [
    "#逆ガンマ分布からアイテムバイアスの分散をサンプリング\n",
    "alpha_vec = np.append(alpha1, alpha2)\n",
    "s1 = np.sum(np.power(alpha_vec - np.mean(alpha_vec), 2)) + s0\n",
    "v1 = 2*item + v0\n",
    "tau = np.sqrt(1/np.random.gamma(v1/2, 1/(s1/2), 1))"
   ]
  },
  {
   "cell_type": "code",
   "execution_count": null,
   "metadata": {},
   "outputs": [],
   "source": []
  }
 ],
 "metadata": {
  "kernelspec": {
   "display_name": "Python 3",
   "language": "python",
   "name": "python3"
  },
  "language_info": {
   "codemirror_mode": {
    "name": "ipython",
    "version": 3
   },
   "file_extension": ".py",
   "mimetype": "text/x-python",
   "name": "python",
   "nbconvert_exporter": "python",
   "pygments_lexer": "ipython3",
   "version": "3.6.5"
  }
 },
 "nbformat": 4,
 "nbformat_minor": 2
}
