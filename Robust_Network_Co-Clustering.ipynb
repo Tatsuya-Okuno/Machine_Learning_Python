{
 "cells": [
  {
   "cell_type": "code",
   "execution_count": 359,
   "metadata": {},
   "outputs": [],
   "source": [
    "#####Robust Network Co-Clustering#####\n",
    "import numpy as np\n",
    "import pandas as pd\n",
    "import matplotlib.pyplot  as plt\n",
    "import numpy.matlib\n",
    "import scipy.linalg\n",
    "import gensim\n",
    "import itertools\n",
    "from scipy import sparse\n",
    "from pandas.tools.plotting import scatter_matrix\n",
    "from numpy.random import *\n",
    "from scipy import optimize\n",
    "import seaborn as sns\n",
    "import time\n",
    "\n",
    "#np.random.seed(20)"
   ]
  },
  {
   "cell_type": "code",
   "execution_count": 360,
   "metadata": {},
   "outputs": [],
   "source": [
    "##多項分布の乱数を生成する関数\n",
    "def rmnom(pr, n, k, no):\n",
    "    z_id = np.argmax((np.cumsum(pr, axis=1) > np.random.rand(n).reshape(n, 1)), axis=1)\n",
    "    Z = sparse.coo_matrix((np.repeat(1, n), (no, np.array(z_id))), shape=(n, k))   #スパース行列の設定\n",
    "    return Z"
   ]
  },
  {
   "cell_type": "code",
   "execution_count": 361,
   "metadata": {},
   "outputs": [],
   "source": [
    "####データの発生####\n",
    "##データの設定\n",
    "k1 = 15   #ユーザーのクラスタ数\n",
    "k21 = 12   #アイテムの関係オブジェクトのクラスタ数\n",
    "k22 = 8   #アイテムの無関係オブジェクトのクラスタ数\n",
    "hh = 10000   #ユーザー数\n",
    "item = 5000   #アイテム数\n",
    "pt = np.random.poisson(np.random.gamma(25, 1/0.2, hh))   #ユーザーあたりのレコード数\n",
    "f = np.sum(pt)   #総レコード数"
   ]
  },
  {
   "cell_type": "code",
   "execution_count": 362,
   "metadata": {},
   "outputs": [],
   "source": [
    "##IDとインデックスの設定\n",
    "#IDの設定\n",
    "user_id = np.repeat(range(hh), pt)\n",
    "pt_id = np.array(list(itertools.chain(*[np.array(range(pt[i]), dtype=\"int\") for i in range(hh)])))\n",
    "\n",
    "#インデックスの設定\n",
    "index = np.array(range(f))\n",
    "user_index = [i for i in range(hh)]\n",
    "user_vec = [i for i in range(hh)]\n",
    "for i in range(hh):\n",
    "    user_index[i] = index[user_id==i]\n",
    "    user_vec[i] = np.repeat(1, len(user_index[i]))"
   ]
  },
  {
   "cell_type": "code",
   "execution_count": 363,
   "metadata": {},
   "outputs": [
    {
     "name": "stdout",
     "output_type": "stream",
     "text": [
      "0\n",
      "1000\n",
      "2000\n",
      "3000\n",
      "4000\n",
      "5000\n",
      "6000\n",
      "7000\n",
      "8000\n",
      "9000\n"
     ]
    }
   ],
   "source": [
    "##アイテムの割当を生成\n",
    "#セグメント割当を生成\n",
    "topic = 25\n",
    "phi = np.random.dirichlet(np.repeat(0.5, item), topic)\n",
    "theta = np.random.dirichlet(np.repeat(2.5, topic), hh)\n",
    "z = np.dot(np.array([np.random.multinomial(1, theta[i, :], 1) for i in range(hh)]).reshape(hh, topic), range(topic))\n",
    "\n",
    "#多項分布からアイテムを生成\n",
    "item_id = np.zeros(f, dtype='int')\n",
    "for i in range(hh):\n",
    "    if i%1000==0:\n",
    "        print(i)\n",
    "    item_id[user_index[i]] = np.dot(np.random.multinomial(1, phi[z[i], :], pt[i]), range(item))\n",
    "    \n",
    "#インデックスの設定\n",
    "item_index = [j for j in range(item)]\n",
    "item_vec = [j for j in range(item)]\n",
    "for j in range(item):\n",
    "    item_index[j] = index[item_id==j]\n",
    "    item_vec[j] = np.repeat(1, len(item_index[j]))"
   ]
  },
  {
   "cell_type": "code",
   "execution_count": 364,
   "metadata": {},
   "outputs": [],
   "source": [
    "##セグメント割当を生成\n",
    "#関係有無の潜在変数rを生成\n",
    "tau = 0.4; taut = tau\n",
    "r = np.random.binomial(1, tau, item); rt = r\n",
    "index_r0 = np.array(range(item))[r==0]; n0 = index_r0.shape[0]\n",
    "index_r1 = np.array(range(item))[r==1]; n1 = index_r1.shape[0]\n",
    "\n",
    "#ユーザーセグメントを生成\n",
    "alpha1 = np.random.dirichlet(np.repeat(5.0, k1), 1).reshape(-1); alphat1 = alpha1\n",
    "Z1 = np.random.multinomial(1, alpha1, hh)\n",
    "z_vec1 = np.dot(Z1, np.arange(k1))\n",
    "\n",
    "#アイテムセグメントを生成\n",
    "alpha21 = np.random.dirichlet(np.repeat(5.0, k21), 1).reshape(-1); alphat21 = alpha21\n",
    "alpha22 = np.random.dirichlet(np.repeat(5.0, k22), 1).reshape(-1); alphat22 = alpha22\n",
    "Z21 = np.zeros((hh, k21)); Z22 = np.zeros((hh, k22))\n",
    "Z21[index_r1, ] = np.random.multinomial(1, alpha21, n1)\n",
    "Z22[index_r0, ] = np.random.multinomial(1, alpha22, n0)\n",
    "z_vec21 = np.array(np.dot(Z21, np.arange(k21)), dtype=\"int\")\n",
    "z_vec22 = np.array(np.dot(Z22, np.arange(k22)), dtype=\"int\")\n",
    "\n",
    "##ベータ分布からセグメントごとの関係確率を生成\n",
    "#関係オブジェクトのパラメータを生成\n",
    "alpha1 = 0.2; beta1 = 0.5\n",
    "theta = np.random.beta(alpha1, beta1, k1*k21).reshape(k1, k21)\n",
    "thetat = theta\n",
    "\n",
    "#無関係オブジェクトのパラメータを生成\n",
    "alpha2 = 0.6; beta2 = 1.0\n",
    "phi = np.random.beta(alpha2, beta2, k22)\n",
    "phit = phi\n",
    "\n",
    "##関係データを生成\n",
    "#セグメント割当から関係確率を設定\n",
    "r_vec = r[item_id]\n",
    "Prob = r_vec * np.sum(theta[z_vec1[user_id], ] * Z21[item_id, ], axis=1) + (1-r_vec) * phi[z_vec22[item_id]]\n",
    "\n",
    "#ベルヌーイ分布から関係データを生成\n",
    "y = np.random.binomial(1, Prob, f)\n",
    "y_vec = y.reshape(f, 1)\n",
    "index_y0 = np.array(range(f))[y==0]\n",
    "index_y1 = np.array(range(f))[y==1]\n",
    "n0 = np.sum(1-y)\n",
    "n1 = np.sum(y)"
   ]
  },
  {
   "cell_type": "code",
   "execution_count": 365,
   "metadata": {},
   "outputs": [],
   "source": [
    "####ギブスサンプリングでRobust Network Co-Clusteringをサンプリング#####\n",
    "##アルゴリズムの設定\n",
    "LL1 = -100000000   #対数尤度の初期値\n",
    "R = 2000\n",
    "keep = 2  \n",
    "iter = 0\n",
    "burnin = 500/keep\n",
    "disp = 10"
   ]
  },
  {
   "cell_type": "code",
   "execution_count": 366,
   "metadata": {},
   "outputs": [],
   "source": [
    "##事前分布の設定\n",
    "#混合率の事前分布\n",
    "s0 = 0.1; v0 = 0.2\n",
    "alpha1 = 0.25\n",
    "alpha2 = 0.25\n",
    "\n",
    "#モデルパラメータの事前分布\n",
    "beta11 = 0.5; beta12 = 0.5\n",
    "beta21 = 0.5; beta22 = 0.5"
   ]
  },
  {
   "cell_type": "code",
   "execution_count": 389,
   "metadata": {},
   "outputs": [],
   "source": [
    "##パラメータの真値\n",
    "#混合率の真値\n",
    "tau = taut\n",
    "alpha1 = alphat1\n",
    "alpha21 = alphat21\n",
    "alpha22 = alphat22\n",
    "\n",
    "#モデルパラメータの真値\n",
    "theta = thetat\n",
    "phi = phit\n",
    "\n",
    "#潜在変数の真値\n",
    "r = rt \n",
    "Zi1 = Z1\n",
    "Zi21 = Z21\n",
    "Zi22 = Z22\n",
    "z_vec1 = np.dot(Zi1, np.arange(k1))\n",
    "z_vec21 = np.array(np.dot(Zi21, np.arange(k21)), dtype=\"int\")\n",
    "z_vec22 = np.array(np.dot(Zi22, np.arange(k22)), dtype=\"int\")"
   ]
  },
  {
   "cell_type": "code",
   "execution_count": 390,
   "metadata": {},
   "outputs": [],
   "source": [
    "####ギブスサンプリングでパラメータをサンプリング####\n",
    "\n",
    "##潜在変数rをサンプリング\n",
    "#無関係オブジェクトのクラスタごとの対数尤度\n",
    "phi_dt = np.zeros((f, k22))\n",
    "phi_dt[index_y1, ] = np.log(np.repeat(phi, n1).reshape(n1, k22, order=\"F\"))\n",
    "phi_dt[index_y0, ] = np.log(np.repeat(1-phi, n0).reshape(n0, k22, order=\"F\"))\n",
    "\n",
    "#関係オブジェクトのクラスタごとの対数尤度\n",
    "theta_dt = np.zeros((f, k21))\n",
    "theta_dt[index_y1, ] = np.log(theta[z_vec1[user_id[index_y1]], ])\n",
    "theta_dt[index_y0, ] = np.log(1 - theta[z_vec1[user_id[index_y0]], ])\n",
    "\n",
    "#クラスタごとの対数尤度の和\n",
    "LLi0 = np.zeros((item, k22)); LLi1 = np.zeros((item, k21))\n",
    "for j in range(item):\n",
    "    LLi0[j] = np.dot(item_vec[j], phi_dt[item_index[j], ])\n",
    "    LLi1[j] = np.dot(item_vec[j], theta_dt[item_index[j], ])\n",
    "    \n",
    "#潜在変数rの割当確率\n",
    "LLi_max = np.max(np.hstack((LLi0, LLi1)), axis=1).reshape(item, 1)\n",
    "Li0 = np.sum(np.repeat(alpha22, item).reshape(item, k22) * np.exp(LLi0 - LLi_max), axis=1)\n",
    "Li1 = np.sum(np.repeat(alpha21, item).reshape(item, k21) * np.exp(LLi1 - LLi_max), axis=1)\n",
    "Prob = (tau*Li1) / ((1-tau)*Li0 + tau*Li1)   \n",
    "\n",
    "r = np.random.binomial(1, Prob, item)\n",
    "index_r1 = np.arange(item)[r==1]; rn1 = index_r1.shape[0]\n",
    "index_r0 = np.delete(np.arange(item), index_r); rn0 = index_r0.shape[0]"
   ]
  },
  {
   "cell_type": "code",
   "execution_count": 391,
   "metadata": {},
   "outputs": [],
   "source": [
    "##アイテムのクラスタをサンプリング\n",
    "#無関係オブジェクトのクラスタをサンプリング\n",
    "Zi22 = np.zeros((item, k22))\n",
    "LLi_max = np.max(LLi0[index_r0, ], axis=1).reshape(rn0, 1)\n",
    "Li = np.repeat(alpha22, rn0).reshape(rn0, k22, order=\"F\") * np.exp(LLi0[index_r0, ] - LLi_max)\n",
    "Prob = Li / np.sum(Li, axis=1).reshape(rn0, 1)\n",
    "Zi22[index_r0, ] = np.array(rmnom(Prob, rn0, k22, np.arange(rn0)).todense())\n",
    "z_vec22 = np.array(np.dot(Zi22, np.arange(k22)), dtype=\"int\")\n",
    "\n",
    "#関係オブジェクトのクラスタをサンプリング\n",
    "Zi21 = np.zeros((item, k21))\n",
    "LLi_max = np.max(LLi1[index_r1, ], axis=1).reshape(rn1, 1)\n",
    "Li = np.repeat(alpha21, rn1).reshape(rn1, k21, order=\"F\") * np.exp(LLi1[index_r1, ] - LLi_max)\n",
    "Prob = Li / np.sum(Li, axis=1).reshape(rn1, 1)\n",
    "Zi21[index_r1, ] = np.array(rmnom(Prob, rn1, k21, np.arange(rn1)).todense())\n",
    "z_vec21 = np.array(np.dot(Zi21, np.arange(k21)), dtype=\"int\")"
   ]
  },
  {
   "cell_type": "code",
   "execution_count": 408,
   "metadata": {},
   "outputs": [],
   "source": [
    "##ユーザーのクラスタをサンプリング\n",
    "#アイテムのクラスタの条件付き尤度を設定\n",
    "theta_T = theta.T\n",
    "LLi = np.zeros((hh, k1)); Lho = np.zeros((f, k1))\n",
    "Lho[index_y1, ] = np.log(theta_T[z_vec21[item_id[index_y1]], ]) *  r[item_id[index_y1]].reshape(n1, 1) \n",
    "Lho[index_y0, ] = np.log(1 - theta_T[z_vec21[item_id[index_y0]], ]) * r[item_id[index_y0]].reshape(n0, 1)\n",
    "for i in range(hh):\n",
    "    LLi[i, ] = np.dot(user_vec[i], Lho[user_index[i], ])\n",
    "    \n",
    "#ベルヌーイ分布からクラスタをサンプリング\n",
    "Li = np.repeat(alpha1, hh).reshape(hh, k1, order=\"F\") * np.exp(LLi - np.max(LLi, axis=1).reshape(hh, 1))\n",
    "Prob = Li / np.sum(Li, axis=1).reshape(hh, 1)   #クラスタの割当確率\n",
    "Zi1 = np.array(rmnom(Prob, hh, k1, np.arange(hh)).todense())\n",
    "z_vec1 = np.array(np.dot(Zi1, np.arange(k1)), dtype=\"int\")"
   ]
  },
  {
   "cell_type": "code",
   "execution_count": 412,
   "metadata": {},
   "outputs": [
    {
     "data": {
      "text/plain": [
       "array([0, 0, 0, ..., 0, 0, 1])"
      ]
     },
     "execution_count": 412,
     "metadata": {},
     "output_type": "execute_result"
    }
   ],
   "source": [
    "y"
   ]
  },
  {
   "cell_type": "code",
   "execution_count": 413,
   "metadata": {},
   "outputs": [
    {
     "data": {
      "text/plain": [
       "array([[1, 0, 0, ..., 0, 0, 0],\n",
       "       [0, 0, 0, ..., 0, 0, 0],\n",
       "       [1, 0, 0, ..., 0, 0, 0],\n",
       "       ...,\n",
       "       [1, 0, 0, ..., 0, 0, 0],\n",
       "       [0, 0, 0, ..., 0, 0, 0],\n",
       "       [0, 0, 0, ..., 0, 0, 0]])"
      ]
     },
     "execution_count": 413,
     "metadata": {},
     "output_type": "execute_result"
    }
   ],
   "source": [
    "Zi1"
   ]
  },
  {
   "cell_type": "code",
   "execution_count": null,
   "metadata": {},
   "outputs": [],
   "source": []
  }
 ],
 "metadata": {
  "kernelspec": {
   "display_name": "Python 3",
   "language": "python",
   "name": "python3"
  },
  "language_info": {
   "codemirror_mode": {
    "name": "ipython",
    "version": 3
   },
   "file_extension": ".py",
   "mimetype": "text/x-python",
   "name": "python",
   "nbconvert_exporter": "python",
   "pygments_lexer": "ipython3",
   "version": "3.6.5"
  }
 },
 "nbformat": 4,
 "nbformat_minor": 2
}
