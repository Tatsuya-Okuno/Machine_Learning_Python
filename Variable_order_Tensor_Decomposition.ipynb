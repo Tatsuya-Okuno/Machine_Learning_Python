{
 "cells": [
  {
   "cell_type": "code",
   "execution_count": 417,
   "metadata": {},
   "outputs": [],
   "source": [
    "#####Variable order Tensor Decomposition#####\n",
    "import numpy as np\n",
    "import pandas as pd\n",
    "import matplotlib.pyplot  as plt\n",
    "import numpy.matlib\n",
    "import scipy.linalg\n",
    "import itertools\n",
    "from scipy import sparse\n",
    "from scipy.stats import norm\n",
    "from pandas.tools.plotting import scatter_matrix\n",
    "from numpy.random import *\n",
    "from scipy import optimize\n",
    "import seaborn as sns\n",
    "\n",
    "#np.random.seed(98537)"
   ]
  },
  {
   "cell_type": "code",
   "execution_count": 418,
   "metadata": {},
   "outputs": [],
   "source": [
    "##多項分布の乱数を生成する関数\n",
    "def rmnom(pr, n, k, no):\n",
    "    z_id = np.argmax((np.cumsum(pr, axis=1) >= np.random.uniform(0, 1, n)[:, np.newaxis]), axis=1)\n",
    "    Z = sparse.coo_matrix((np.repeat(1, n), (no, np.array(z_id))), shape=(n, k))   #スパース行列の設定\n",
    "    return Z"
   ]
  },
  {
   "cell_type": "code",
   "execution_count": 138,
   "metadata": {},
   "outputs": [],
   "source": [
    "####データの発生####\n",
    "##データの設定\n",
    "#要素ごとのユニーク数を設定\n",
    "k = 10\n",
    "days = 2000\n",
    "company = 2000\n",
    "area = 125\n",
    "item = 1000\n",
    "subject = 600\n",
    "element = 500\n",
    "trend = 3\n",
    "\n",
    "#要素ごとの頻度を生成\n",
    "Z = np.random.binomial(1, np.tile(np.random.beta(5.0, 4.0, company), days), company*days).reshape(company, days, order=\"F\")\n",
    "pt1 = np.sum(Z, axis=0)\n",
    "pt2 = np.sum(Z, axis=1)\n",
    "m = np.random.poisson(np.random.gamma(20.0, 1/0.25, days))\n",
    "N = np.sum(Z)\n",
    "M = np.sum(m)"
   ]
  },
  {
   "cell_type": "code",
   "execution_count": 421,
   "metadata": {},
   "outputs": [
    {
     "data": {
      "text/plain": [
       "array([59, 18, 96, ..., 88, 59, 70])"
      ]
     },
     "execution_count": 421,
     "metadata": {},
     "output_type": "execute_result"
    }
   ],
   "source": [
    "\n",
    "area_id"
   ]
  },
  {
   "cell_type": "code",
   "execution_count": 139,
   "metadata": {},
   "outputs": [],
   "source": [
    "##idとインデックスの設定\n",
    "#idの設定\n",
    "company_id = np.tile(np.arange(company), days)[Z.T.reshape(-1)==1]\n",
    "pt_id = np.repeat(np.arange(days), pt1)\n",
    "m_id = np.repeat(np.arange(days), m)\n",
    "\n",
    "#インデックスの設定\n",
    "company_index = [i for i in range(company)]\n",
    "pt_index = [j for j in range(days)]\n",
    "m_index = [j for j in range(days)]\n",
    "m_vec = [j for j in range(days)]\n",
    "for i in range(company):\n",
    "    company_index[i] = np.array(np.where(company_id==i)[0], dtype=\"int\")\n",
    "for j in range(days):\n",
    "    pt_index[j] = np.array(np.where(pt_id==j)[0], dtype=\"int\")\n",
    "    m_index[j] = np.array(np.where(m_id==j)[0], dtype=\"int\")\n",
    "    m_vec[j] = np.repeat(1, m[j]) "
   ]
  },
  {
   "cell_type": "code",
   "execution_count": 140,
   "metadata": {},
   "outputs": [
    {
     "name": "stdout",
     "output_type": "stream",
     "text": [
      "1\n",
      "2\n"
     ]
    }
   ],
   "source": [
    "##アイテムを生成\n",
    "rp = 0\n",
    "while True:\n",
    "    rp = rp + 1\n",
    "    print(rp)\n",
    "    \n",
    "    #多項分布からトピックを生成\n",
    "    topic = 20\n",
    "    theta = np.zeros((days, topic))\n",
    "    for j in range(days):\n",
    "        if j==0:\n",
    "            theta[j, ] = np.random.dirichlet(np.repeat(0.2, topic), 1)\n",
    "        else:\n",
    "            theta[j, ] = np.random.dirichlet(theta[j-1, ] + np.repeat(0.2, topic))\n",
    "    z = np.dot(np.array(rmnom(theta[m_id, ], M, topic, np.arange(M)).todense()), np.arange(topic))\n",
    "\n",
    "    #トピックからアイテムを生成\n",
    "    phi_area = np.random.dirichlet(np.repeat(0.1, area), topic)\n",
    "    phi_item = np.random.dirichlet(np.repeat(0.1, item), topic)\n",
    "    phi_subject = np.random.dirichlet(np.repeat(0.1, subject), topic)\n",
    "    phi_element = np.random.dirichlet(np.repeat(0.1, element), topic)\n",
    "    phi_trend = np.random.dirichlet(np.repeat(0.1, trend), topic)\n",
    "    area_id = np.dot(np.array(rmnom(phi_area[z, ], M, area, np.arange(M)).todense()), np.arange(area))\n",
    "    item_id = np.dot(np.array(rmnom(phi_item[z, ], M, item, np.arange(M)).todense()), np.arange(item))\n",
    "    subject_id = np.dot(np.array(rmnom(phi_subject[z, ], M, subject, np.arange(M)).todense()), np.arange(subject))\n",
    "    element_id = np.dot(np.array(rmnom(phi_element[z, ], M, element, np.arange(M)).todense()), np.arange(element))\n",
    "    trend_id = np.dot(np.array(rmnom(phi_trend[z, ], M, trend, np.arange(M)).todense()), np.arange(trend))\n",
    "\n",
    "    #一定確率で欠損を挿入\n",
    "    item_id[np.random.binomial(1, 0.3, M)==1] = item\n",
    "    subject_id[np.random.binomial(1, 0.5, M)==1] = subject\n",
    "    element_id[np.random.binomial(1, 0.25, M)==1] = element\n",
    "    trend_id[np.random.binomial(1, 0.15, M)==1] = trend\n",
    "\n",
    "    #すべてのアイテムが存在していればbreak\n",
    "    if (np.unique(subject_id).shape[0]==(subject + 1)) & (np.unique(item_id).shape[0]==(item + 1)) &\\\n",
    "            (np.unique(element_id).shape[0]==(element + 1)):\n",
    "        break\n",
    "        \n",
    "#インデックスを設定\n",
    "area_index = [j for j in range(area)]\n",
    "item_index = [j for j in range(item)]\n",
    "subject_index = [j for j in range(subject)]\n",
    "element_index = [j for j in range(element)]\n",
    "trend_index = [j for j in range(trend)]\n",
    "for j in range(area):\n",
    "    area_index[j] = np.array(np.where(area_id==j)[0], dtype=\"int\")\n",
    "for j in range(item):\n",
    "    item_index[j] = np.array(np.where(item_id==j)[0], dtype=\"int\")\n",
    "for j in range(subject):\n",
    "    subject_index[j] = np.array(np.where(subject_id==j)[0], dtype=\"int\")\n",
    "for j in range(element):\n",
    "    element_index[j] = np.array(np.where(element_id==j)[0], dtype=\"int\")\n",
    "for j in range(trend):\n",
    "    trend_index[j] = np.array(np.where(trend_id==j)[0], dtype=\"int\")"
   ]
  },
  {
   "cell_type": "code",
   "execution_count": 141,
   "metadata": {},
   "outputs": [],
   "source": [
    "##VoTDの応答変数を生成\n",
    "#事前分布のパラメータを設定\n",
    "alpha1 = np.array([0])\n",
    "alpha2 = np.repeat(0, k)\n",
    "tau_c = np.array([0.5]); tau_d = np.array([0.5])\n",
    "Cov_c = np.diag(np.repeat(0.3, k))\n",
    "Cov_a = np.diag(np.repeat(0.25, k))\n",
    "Cov_i = np.diag(np.repeat(0.25, k))\n",
    "Cov_s = np.diag(np.repeat(0.25, k))\n",
    "Cov_e = np.diag(np.repeat(0.25, k))\n",
    "Cov_t = np.diag(np.repeat(0.25, k))\n",
    "alphat1 = alpha1.copy(); alphat2 = alpha2.copy()\n",
    "taut_c = tau_c.copy(); taut_d = tau_d.copy()\n",
    "Covt_c = Cov_c.copy(); Covt_a = Cov_a.copy(); Covt_i = Cov_i.copy()\n",
    "Covt_s = Cov_s.copy(); Covt_e = Cov_e.copy(); Covt_t = Cov_t.copy()\n",
    "\n",
    "#モデルパラメータを生成\n",
    "Sigma = np.array([0.2])\n",
    "beta = np.array([0.0])\n",
    "beta_c = np.random.normal(alpha1, tau_c, company); beta_d = np.random.normal(alpha1, tau_d, days)\n",
    "theta_c = np.random.multivariate_normal(alpha2, Cov_c, company)\n",
    "theta_a = np.random.multivariate_normal(alpha2, Cov_a, area)\n",
    "theta_i = np.vstack((np.random.multivariate_normal(alpha2, Cov_i, item), np.repeat(1, k)))\n",
    "theta_s = np.vstack((np.random.multivariate_normal(alpha2, Cov_s, subject), np.repeat(1, k)))\n",
    "theta_e = np.vstack((np.random.multivariate_normal(alpha2, Cov_e, element), np.repeat(1, k)))\n",
    "theta_t = np.vstack((np.random.multivariate_normal(alpha2, Cov_t, trend), np.repeat(1, k)))\n",
    "Sigmat = Sigma.copy(); betat = beta.copy(); betat_c = beta_c.copy(); betat_d = beta_d.copy()\n",
    "thetat_c = theta_c.copy(); thetat_a = theta_a.copy(); thetat_i = theta_i.copy()\n",
    "thetat_s = theta_s.copy(); thetat_e = theta_e.copy(); thetat_t = theta_t.copy()"
   ]
  },
  {
   "cell_type": "code",
   "execution_count": 142,
   "metadata": {},
   "outputs": [
    {
     "data": {
      "text/plain": [
       "(array([2.00000e+00, 7.00000e+00, 1.50000e+01, 7.10000e+01, 2.32000e+02,\n",
       "        7.09000e+02, 2.19900e+03, 7.52600e+03, 2.29840e+04, 6.69490e+04,\n",
       "        1.75068e+05, 3.67374e+05, 5.41234e+05, 5.05416e+05, 3.06960e+05,\n",
       "        1.36039e+05, 5.10760e+04, 1.72170e+04, 5.48100e+03, 1.73300e+03,\n",
       "        5.30000e+02, 1.65000e+02, 5.60000e+01, 1.10000e+01, 3.00000e+00]),\n",
       " array([-14.13069232, -13.03373243, -11.93677254, -10.83981265,\n",
       "         -9.74285276,  -8.64589287,  -7.54893298,  -6.4519731 ,\n",
       "         -5.35501321,  -4.25805332,  -3.16109343,  -2.06413354,\n",
       "         -0.96717365,   0.12978623,   1.22674612,   2.32370601,\n",
       "          3.4206659 ,   4.51762579,   5.61458568,   6.71154557,\n",
       "          7.80850545,   8.90546534,  10.00242523,  11.09938512,\n",
       "         12.19634501,  13.2933049 ]),\n",
       " <a list of 25 Patch objects>)"
      ]
     },
     "execution_count": 142,
     "metadata": {},
     "output_type": "execute_result"
    },
    {
     "data": {
      "image/png": "[encoded data removed]",
      "text/plain": [
       "<Figure size 432x288 with 1 Axes>"
      ]
     },
     "metadata": {},
     "output_type": "display_data"
    }
   ],
   "source": [
    "#期待値を設定\n",
    "theta_prod = theta_a[area_id, ] * theta_i[item_id, ] * theta_s[subject_id, ] * theta_e[element_id, ] * theta_t[trend_id, ]\n",
    "theta_w = np.zeros((days, k))\n",
    "for j in range(days):\n",
    "    theta_w[j, ] = np.sum(theta_prod[m_index[j], ], axis=0)\n",
    "uv = np.dot(theta_c[company_id, ] * theta_w[pt_id, ], np.repeat(1, k))\n",
    "mu = beta + beta_c[company_id] + beta_d[pt_id] + uv\n",
    "\n",
    "#正規分布から応答変数を生成\n",
    "y = mu + np.random.normal(0, Sigma, N)\n",
    "y_vec = y[:, np.newaxis]\n",
    "plt.hist(y, bins=25)"
   ]
  },
  {
   "cell_type": "code",
   "execution_count": 143,
   "metadata": {},
   "outputs": [],
   "source": [
    "##テストデータの作成"
   ]
  },
  {
   "cell_type": "code",
   "execution_count": 144,
   "metadata": {},
   "outputs": [],
   "source": [
    "####マルコフ連鎖モンテカルロ法でariable order Tensor Decompositionを推定####\n",
    "##アルゴリズムの設定\n",
    "R = 2000\n",
    "keep = 2\n",
    "burnin = int(500/keep)\n",
    "iter = 0\n",
    "disp = 4\n",
    "e1 = 0.001\n",
    "e2 = 0.001\n",
    "L = 3"
   ]
  },
  {
   "cell_type": "code",
   "execution_count": 145,
   "metadata": {},
   "outputs": [],
   "source": [
    "##観測レコードと観測データをインデックスで対応付ける\n",
    "#areaのインデックスを作成\n",
    "area_list = [i for i in range(area)]\n",
    "area_freq = np.repeat(0, area)\n",
    "for i in range(area):\n",
    "    area_list[i] = np.array(np.where(np.in1d(pt_id, np.unique(m_id[area_index[i]]))==True)[0], dtype=\"int\")\n",
    "    area_freq[i] = area_list[i].shape[0]\n",
    "    \n",
    "#itemのインデックスを作成\n",
    "item_list = [i for i in range(item)]\n",
    "item_freq = np.repeat(0, item)\n",
    "for i in range(item):\n",
    "    item_list[i] = np.array(np.where(np.in1d(pt_id, np.unique(m_id[item_index[i]]))==True)[0], dtype=\"int\")\n",
    "    item_freq[i] = item_list[i].shape[0]\n",
    "    \n",
    "#subjectのインデックスを作成\n",
    "subject_list = [i for i in range(subject)]\n",
    "subject_freq = np.repeat(0, subject)\n",
    "for i in range(subject):\n",
    "    subject_list[i] = np.array(np.where(np.in1d(pt_id, np.unique(m_id[subject_index[i]]))==True)[0], dtype=\"int\")\n",
    "    subject_freq[i] = subject_list[i].shape[0]\n",
    "    \n",
    "#elementのインデックスを作成\n",
    "element_list = [i for i in range(subject)]\n",
    "element_freq = np.repeat(0, subject)\n",
    "for i in range(element):\n",
    "    element_list[i] = np.array(np.where(np.in1d(pt_id, np.unique(m_id[element_index[i]]))==True)[0], dtype=\"int\")\n",
    "    element_freq[i] = element_list[i].shape[0]\n",
    "    \n",
    "#trendのインデックスを作成\n",
    "trend_list = [i for i in range(trend)]\n",
    "trend_freq = np.repeat(0, trend)\n",
    "for i in range(trend):\n",
    "    trend_list[i] = np.array(np.where(np.in1d(pt_id, np.unique(m_id[trend_index[i]]))==True)[0], dtype=\"int\")\n",
    "    trend_freq[i] = trend_list[i].shape[0]\n",
    "    \n",
    "#リストに格納\n",
    "allocation_list = [area_list, item_list, subject_list, element_list, trend_list]\n",
    "allocation_freq = [area_freq, item_freq, subject_freq, element_freq, trend_freq]\n",
    "n = [area, item, subject, element, trend]\n",
    "del area_list, item_list, subject_list, element_list, trend_list"
   ]
  },
  {
   "cell_type": "code",
   "execution_count": 146,
   "metadata": {},
   "outputs": [],
   "source": [
    "##事前分布の設定\n",
    "#階層モデルの事前分布\n",
    "gamma = np.array([0])\n",
    "delta = np.repeat(0, k)\n",
    "nu = 1\n",
    "V = 0.1 * np.diag(np.ones(k))\n",
    "s01 = 0.1\n",
    "s01 = 0.1\n",
    "\n",
    "#モデルパラメータの事前分布\n",
    "tau = 100 \n",
    "s02 = 1.0\n",
    "v02 = 1.0"
   ]
  },
  {
   "cell_type": "code",
   "execution_count": 382,
   "metadata": {},
   "outputs": [],
   "source": [
    "##パラメータの真値\n",
    "#階層モデルの事前分布の真値\n",
    "alpha1 = alphat1.copy()\n",
    "alpha2 = alphat2.copy()\n",
    "tau_c = taut_c.copy(); tau_d = taut_d.copy()\n",
    "Cov_c = Covt_c.copy(); inv_Cov_c = np.linalg.inv(Cov_c)\n",
    "Cov_a = Covt_a.copy(); inv_Cov_a = np.linalg.inv(Cov_a)\n",
    "Cov_i = Covt_i.copy(); inv_Cov_i = np.linalg.inv(Cov_i)\n",
    "Cov_s = Covt_s.copy(); inv_Cov_s = np.linalg.inv(Cov_s)\n",
    "Cov_e = Covt_e.copy(); inv_Cov_e = np.linalg.inv(Cov_e)\n",
    "Cov_t = Covt_t.copy(); inv_Cov_t = np.linalg.inv(Cov_t)\n",
    "\n",
    "#モデルパラメータの真値\n",
    "Sigma = Sigmat.copy()\n",
    "beta = betat.copy()\n",
    "beta_c = betat_c.copy(); beta_d = betat_d.copy()\n",
    "theta_c = thetat_c.copy()\n",
    "theta_a = thetat_a.copy()\n",
    "theta_i = thetat_i.copy()\n",
    "theta_s = thetat_s.copy()\n",
    "theta_e = thetat_e.copy()\n",
    "theta_t = thetat_t.copy()\n",
    "theta_a = np.random.multivariate_normal(alpha2, Cov_a, area)\n",
    "\n",
    "#期待値の設定\n",
    "beta_vec1 = beta_c[company_id]; beta_vec2 = beta_d[pt_id]\n",
    "theta_prod = theta_a[area_id, ] * theta_i[item_id, ] * theta_s[subject_id, ] * theta_e[element_id, ] * theta_t[trend_id, ]\n",
    "theta_w = np.zeros((days, k))\n",
    "for j in range(days):\n",
    "    theta_w[j, ] = np.sum(theta_prod[m_index[j], ], axis=0)\n",
    "joint_theta = theta_c[company_id, ] * theta_w[pt_id, ]\n",
    "uv = np.dot(joint_theta, np.repeat(1, k))\n",
    "mu = beta + beta_vec1 + beta_vec2 + uv\n",
    "mut = mu.copy()"
   ]
  },
  {
   "cell_type": "code",
   "execution_count": 425,
   "metadata": {},
   "outputs": [
    {
     "ename": "TypeError",
     "evalue": "unsupported operand type(s) for +: 'builtin_function_or_method' and 'float'",
     "output_type": "error",
     "traceback": [
      "\u001b[1;31m---------------------------------------------------------------------------\u001b[0m",
      "\u001b[1;31mTypeError\u001b[0m                                 Traceback (most recent call last)",
      "\u001b[1;32m<ipython-input-425-0a7fcc60f00f>\u001b[0m in \u001b[0;36m<module>\u001b[1;34m()\u001b[0m\n\u001b[0;32m      7\u001b[0m \u001b[0mjoint_theta\u001b[0m \u001b[1;33m=\u001b[0m \u001b[0mtheta_c\u001b[0m\u001b[1;33m[\u001b[0m\u001b[0mcompany_id\u001b[0m\u001b[1;33m,\u001b[0m \u001b[1;33m]\u001b[0m \u001b[1;33m*\u001b[0m \u001b[0mtheta_w\u001b[0m\u001b[1;33m[\u001b[0m\u001b[0mpt_id\u001b[0m\u001b[1;33m,\u001b[0m \u001b[1;33m]\u001b[0m\u001b[1;33m\u001b[0m\u001b[0m\n\u001b[0;32m      8\u001b[0m \u001b[0muv\u001b[0m \u001b[1;33m=\u001b[0m \u001b[0mnp\u001b[0m\u001b[1;33m.\u001b[0m\u001b[0mdot\u001b[0m\u001b[1;33m(\u001b[0m\u001b[0mjoint_theta\u001b[0m\u001b[1;33m,\u001b[0m \u001b[0mnp\u001b[0m\u001b[1;33m.\u001b[0m\u001b[0mrepeat\u001b[0m\u001b[1;33m(\u001b[0m\u001b[1;36m1\u001b[0m\u001b[1;33m,\u001b[0m \u001b[0mk\u001b[0m\u001b[1;33m)\u001b[0m\u001b[1;33m)\u001b[0m\u001b[1;33m\u001b[0m\u001b[0m\n\u001b[1;32m----> 9\u001b[1;33m \u001b[0mmu\u001b[0m \u001b[1;33m=\u001b[0m \u001b[0mbeta\u001b[0m \u001b[1;33m+\u001b[0m \u001b[0mbeta_vec1\u001b[0m \u001b[1;33m+\u001b[0m \u001b[0mbeta_vec2\u001b[0m \u001b[1;33m+\u001b[0m \u001b[0muv\u001b[0m\u001b[1;33m\u001b[0m\u001b[0m\n\u001b[0m\u001b[0;32m     10\u001b[0m \u001b[0mmut\u001b[0m \u001b[1;33m=\u001b[0m \u001b[0mmu\u001b[0m\u001b[1;33m.\u001b[0m\u001b[0mcopy\u001b[0m\u001b[1;33m(\u001b[0m\u001b[1;33m)\u001b[0m\u001b[1;33m\u001b[0m\u001b[0m\n",
      "\u001b[1;31mTypeError\u001b[0m: unsupported operand type(s) for +: 'builtin_function_or_method' and 'float'"
     ]
    }
   ],
   "source": [
    "#期待値の設定\n",
    "beta_vec1 = beta_c[company_id]; beta_vec2 = beta_d[pt_id]\n",
    "theta_prod = theta_a[area_id, ] * theta_i[item_id, ] * theta_s[subject_id, ] * theta_e[element_id, ] * theta_t[trend_id, ]\n",
    "theta_w = np.zeros((days, k))\n",
    "for j in range(days):\n",
    "    theta_w[j, ] = np.sum(theta_prod[m_index[j], ], axis=0)\n",
    "joint_theta = theta_c[company_id, ] * theta_w[pt_id, ]\n",
    "uv = np.dot(joint_theta, np.repeat(1, k))\n",
    "mu = beta + beta_vec1 + beta_vec2 + uv\n",
    "mut = mu.copy()"
   ]
  },
  {
   "cell_type": "code",
   "execution_count": null,
   "metadata": {},
   "outputs": [],
   "source": [
    "%%time\n",
    "er_y = y - beta_vec1 - beta_vec2\n",
    "for i in range(area):\n",
    "    theta_prod0 = theta_prod.copy()\n",
    "    theta_prod0[area_index[i], ] = 0\n",
    "    theta_w0 = np.zeros((days, k))\n",
    "\n",
    "    for j in range(days):\n",
    "        theta_w0[j, ] = np.sum(theta_prod0[m_index[j], ], axis=0)\n",
    "    index = allocation_list[0][i]\n",
    "    y1 = er_y[index] - np.dot(theta_c[company_id[index], ] * theta_w0[pt_id[index], ], np.repeat(1, k))\n",
    "    x1 = theta_c[company_id[index], ] * (theta_w[pt_id[index], ] - theta_w0[pt_id[index], ]) / np.full((index.shape[0], k), theta_a[i, ])\n",
    "    theta_a[i, ] = np.dot(np.dot(np.linalg.inv(np.dot(x1.T, x1)), x1.T), y1)"
   ]
  },
  {
   "cell_type": "code",
   "execution_count": 429,
   "metadata": {},
   "outputs": [
    {
     "data": {
      "text/plain": [
       "array([59, 18, 96, ..., 88, 59, 70])"
      ]
     },
     "execution_count": 429,
     "metadata": {},
     "output_type": "execute_result"
    }
   ],
   "source": [
    "area_id"
   ]
  },
  {
   "cell_type": "code",
   "execution_count": 428,
   "metadata": {},
   "outputs": [
    {
     "data": {
      "text/plain": [
       "(2209057,)"
      ]
     },
     "execution_count": 428,
     "metadata": {},
     "output_type": "execute_result"
    }
   ],
   "source": [
    "pt_id.shape"
   ]
  },
  {
   "cell_type": "code",
   "execution_count": null,
   "metadata": {},
   "outputs": [],
   "source": [
    "i = 0\n",
    "print(theta_a[i, ])\n",
    "print(thetat_a[i, ])"
   ]
  },
  {
   "cell_type": "code",
   "execution_count": 412,
   "metadata": {},
   "outputs": [
    {
     "name": "stdout",
     "output_type": "stream",
     "text": [
      "Wall time: 218 ms\n"
     ]
    }
   ],
   "source": [
    "%%time\n",
    "y1 = er_y[index] - np.dot(theta_c[index1, ] * theta_w01[index2, ], np.repeat(1, k))\n",
    "x1 = (theta_c[index1, ] * theta_w02[index2, ]) / np.full((index.shape[0], k), theta_a[i, ])\n",
    "np.dot(np.dot(np.linalg.inv(np.dot(x1.T, x1)), x1.T), y1)"
   ]
  },
  {
   "cell_type": "code",
   "execution_count": 410,
   "metadata": {},
   "outputs": [],
   "source": [
    "index1 = company_id[index]\n",
    "index2 = pt_id[index]"
   ]
  },
  {
   "cell_type": "code",
   "execution_count": 401,
   "metadata": {},
   "outputs": [
    {
     "name": "stdout",
     "output_type": "stream",
     "text": [
      "[-0.54324224 -0.28935232  0.27087942  0.4277994  -0.87458613  0.58153539\n",
      " -0.13108587  0.81989717  0.32024495  0.60243002]\n",
      "[-0.5471206  -0.0958197   0.27179598  0.43153228 -0.8746894   0.45576986\n",
      " -0.13179825  0.816551    0.32597021  0.59954757]\n"
     ]
    }
   ],
   "source": [
    "i = 1\n",
    "print(theta_a[i, ])\n",
    "print(thetat_a[i, ])"
   ]
  },
  {
   "cell_type": "code",
   "execution_count": 336,
   "metadata": {},
   "outputs": [],
   "source": [
    "for i in range(area):\n",
    "    theta_prod01 = theta_prod.copy(); theta_prod01[area_index[i], ] = 0\n",
    "    theta_prod02 = np.zeros((M, k)); theta_prod02[area_index[i], ] = theta_prod[area_index[i], ]\n",
    "    theta_w01 = np.zeros((days, k))\n",
    "    theta_w02 = np.zeros((days, k))\n",
    "\n",
    "    for j in range(days):\n",
    "        theta_w01[j, ] = np.sum(theta_prod01[m_index[j], ], axis=0)\n",
    "        theta_w02[j, ] = np.sum(theta_prod02[m_index[j], ], axis=0)\n",
    "\n",
    "    index = allocation_list[0][i]\n",
    "    y1 = er_y[index] - np.dot(theta_c[company_id[index], ] * theta_w01[pt_id[index], ], np.repeat(1, k))\n",
    "    x1 = (theta_c[company_id[index], ] * theta_w02[pt_id[index], ]) / np.full((index.shape[0], k), theta_a[i, ])\n",
    "    theta_a[i, ] = np.dot(np.dot(np.linalg.inv(np.dot(x1.T, x1)), x1.T), y1)"
   ]
  },
  {
   "cell_type": "code",
   "execution_count": 337,
   "metadata": {},
   "outputs": [
    {
     "data": {
      "text/plain": [
       "array([ 0.52034627, -0.21906398,  0.12976857, -0.13085216,  0.49632034,\n",
       "        0.14882734, -0.9191929 , -0.8055616 , -0.65877104, -0.27555389])"
      ]
     },
     "execution_count": 337,
     "metadata": {},
     "output_type": "execute_result"
    }
   ],
   "source": [
    "index = allocation_list[0][i]\n",
    "y1 = er_y[index] - np.dot(theta_c[company_id[index], ] * theta_w0[pt_id[index], ], np.repeat(1, k))\n",
    "x1 = theta_c[company_id[index], ] * (theta_w[pt_id[index], ] - theta_w0[pt_id[index], ]) / np.full((index.shape[0], k), theta_a[i, ])\n",
    "np.dot(np.dot(np.linalg.inv(np.dot(x1.T, x1)), x1.T), y1)"
   ]
  },
  {
   "cell_type": "code",
   "execution_count": 213,
   "metadata": {},
   "outputs": [],
   "source": [
    "i = 0\n",
    "index = allocation_list[0][i]\n",
    "theta_a0 = area_ones; theta_a0[i, ] = 0\n",
    "theta_prod0 = theta_a0[area_id, ] * theta_prod\n",
    "theta_w0 = np.zeros((days, k))\n",
    "for j in range(days):\n",
    "    theta_w0[j, ] = np.sum(theta_prod0[m_index[j], ], axis=0)\n",
    "\n",
    "y1 = er_y[index] - np.sum(theta_w0[pt_id[index], ], axis=1); x1 = joint_theta[index, ] / np.full((allocation_freq[0][i], k), theta_a[i, ])\n",
    "xy = np.dot(x1.T, y1)\n",
    "xxv = np.dot(x1.T, x1) + inv_Cov_a\n",
    "inv_xxv = np.linalg.inv(xxv)\n",
    "theta_par = np.dot(inv_xxv, xy + np.dot(inv_Cov_a, alpha2))\n"
   ]
  },
  {
   "cell_type": "code",
   "execution_count": 214,
   "metadata": {},
   "outputs": [
    {
     "data": {
      "text/plain": [
       "array([-0.07056159,  0.02953324, -0.04400801, -0.08047879, -0.00876154,\n",
       "        0.11415773, -0.02632933,  0.01850512, -0.00012239,  0.01128426])"
      ]
     },
     "execution_count": 214,
     "metadata": {},
     "output_type": "execute_result"
    }
   ],
   "source": [
    "theta_par"
   ]
  },
  {
   "cell_type": "code",
   "execution_count": 215,
   "metadata": {},
   "outputs": [
    {
     "data": {
      "text/plain": [
       "array([-0.83098858,  0.61975115,  0.32811709, -0.62230679,  0.06440023,\n",
       "        0.39533893,  0.35115166, -0.56402942, -0.3914281 , -0.19222756])"
      ]
     },
     "execution_count": 215,
     "metadata": {},
     "output_type": "execute_result"
    }
   ],
   "source": [
    "thetat_a[i, ]"
   ]
  },
  {
   "cell_type": "code",
   "execution_count": 168,
   "metadata": {},
   "outputs": [],
   "source": [
    "#特徴ベクトルの事後分布のパラメータ\n",
    "index = allocation_index[j]\n",
    "y1 = er_y[index]; x1 = joint_theta[index, ] / np.full((freq[j], k), theta_part[j, ])\n",
    "xy = np.dot(x1.T, y1)\n",
    "xxv = np.dot(x1.T, x1) + inv_Cov[i]\n",
    "inv_xxv = np.linalg.inv(xxv)\n",
    "theta_par = np.dot(inv_xxv, xy + np.dot(inv_Cov[i], alpha2))"
   ]
  },
  {
   "cell_type": "code",
   "execution_count": 148,
   "metadata": {},
   "outputs": [],
   "source": [
    "##パラメータの初期値\n",
    "#階層モデルの事前分布の真値\n",
    "alpha1 = np.array([0.0])\n",
    "alpha2 = np.repeat(0.0, k)\n",
    "tau_c = np.array([0.5]); tau_d = np.array([0.5])\n",
    "Cov_c = np.diag(np.repeat(0.1, k)); inv_Cov_c = np.linalg.inv(Cov_c)\n",
    "Cov_a = np.diag(np.repeat(0.1, k)); inv_Cov_a = np.linalg.inv(Cov_a)\n",
    "Cov_i = np.diag(np.repeat(0.1, k)); inv_Cov_i = np.linalg.inv(Cov_i)\n",
    "Cov_s = np.diag(np.repeat(0.1, k)); inv_Cov_s = np.linalg.inv(Cov_s)\n",
    "Cov_e = np.diag(np.repeat(0.1, k)); inv_Cov_e = np.linalg.inv(Cov_e)\n",
    "Cov_t = np.diag(np.repeat(0.1, k)); inv_Cov_t = np.linalg.inv(Cov_t)\n",
    "\n",
    "#モデルパラメータの真値\n",
    "Sigma = np.std(y)\n",
    "beta = np.mean(y)\n",
    "beta_c = np.random.normal(alpha1, tau_c, company); beta_d = np.random.normal(alpha1, tau_d, days)\n",
    "theta_c = np.random.multivariate_normal(alpha2, Cov_c, company)\n",
    "theta_a = np.random.multivariate_normal(alpha2, Cov_a, area)\n",
    "theta_i = np.vstack((np.random.multivariate_normal(alpha2, Cov_i, item), np.repeat(1, k)))\n",
    "theta_s = np.vstack((np.random.multivariate_normal(alpha2, Cov_s, subject), np.repeat(1, k)))\n",
    "theta_e = np.vstack((np.random.multivariate_normal(alpha2, Cov_e, element), np.repeat(1, k)))\n",
    "theta_t = np.vstack((np.random.multivariate_normal(alpha2, Cov_t, trend), np.repeat(1, k)))\n",
    "theta_s = thetat_s.copy()\n",
    "theta_e = thetat_e.copy()\n",
    "theta_t = thetat_t.copy()\n",
    "\n",
    "#期待値の設定\n",
    "beta_vec1 = beta_c[company_id]; beta_vec2 = beta_d[pt_id]\n",
    "theta_prod = theta_a[area_id, ] * theta_i[item_id, ] * theta_s[subject_id, ] * theta_e[element_id, ] * theta_t[trend_id, ]\n",
    "theta_w = np.zeros((days, k))\n",
    "for j in range(days):\n",
    "    theta_w[j, ] = np.sum(theta_prod[m_index[j], ], axis=0)\n",
    "joint_theta = theta_c[company_id, ] * theta_w[pt_id, ]\n",
    "uv = np.dot(joint_theta, np.repeat(1, k))\n",
    "mu = beta + beta_vec1 + beta_vec2 + uv"
   ]
  },
  {
   "cell_type": "code",
   "execution_count": null,
   "metadata": {},
   "outputs": [],
   "source": []
  },
  {
   "cell_type": "code",
   "execution_count": 149,
   "metadata": {},
   "outputs": [
    {
     "name": "stdout",
     "output_type": "stream",
     "text": [
      "-4518956.434638458\n",
      "421709.03829558974\n",
      "-4918497.19068779\n"
     ]
    }
   ],
   "source": [
    "##対数尤度の基準値\n",
    "#1パラメータモデルの対数尤度\n",
    "LLst = np.sum(scipy.stats.norm.logpdf(y, np.mean(y), np.std(y)))\n",
    "print(LLst)\n",
    "\n",
    "#真値での対数尤度\n",
    "LLbest = np.sum(scipy.stats.norm.logpdf(y, mut, Sigmat))\n",
    "print(LLbest)\n",
    "\n",
    "#初期値での対数尤度\n",
    "LL = np.sum(scipy.stats.norm.logpdf(y, mu, Sigma))\n",
    "print(LL)"
   ]
  },
  {
   "cell_type": "code",
   "execution_count": 135,
   "metadata": {
    "scrolled": true
   },
   "outputs": [
    {
     "name": "stdout",
     "output_type": "stream",
     "text": [
      "0\n",
      "[-3837236.9   427430.2 -4285013.5]\n",
      "[1.927 0.2  ]\n",
      "4\n",
      "[-3101711.7   427430.2 -4285013.5]\n",
      "[0.97 0.2 ]\n",
      "8\n",
      "[-3100630.1   427430.2 -4285013.5]\n",
      "[0.965 0.2  ]\n"
     ]
    },
    {
     "ename": "KeyboardInterrupt",
     "evalue": "",
     "output_type": "error",
     "traceback": [
      "\u001b[1;31m---------------------------------------------------------------------------\u001b[0m",
      "\u001b[1;31mKeyboardInterrupt\u001b[0m                         Traceback (most recent call last)",
      "\u001b[1;32m<ipython-input-135-58dd7e6fb7a4>\u001b[0m in \u001b[0;36m<module>\u001b[1;34m()\u001b[0m\n\u001b[0;32m     60\u001b[0m         \u001b[1;31m#特徴ベクトルの事後分布のパラメータ\u001b[0m\u001b[1;33m\u001b[0m\u001b[1;33m\u001b[0m\u001b[0m\n\u001b[0;32m     61\u001b[0m         \u001b[0mindex\u001b[0m \u001b[1;33m=\u001b[0m \u001b[0mcompany_index\u001b[0m\u001b[1;33m[\u001b[0m\u001b[0mi\u001b[0m\u001b[1;33m]\u001b[0m\u001b[1;33m\u001b[0m\u001b[0m\n\u001b[1;32m---> 62\u001b[1;33m         \u001b[0mx1\u001b[0m \u001b[1;33m=\u001b[0m \u001b[0mx\u001b[0m\u001b[1;33m[\u001b[0m\u001b[0mindex\u001b[0m\u001b[1;33m,\u001b[0m \u001b[1;33m]\u001b[0m\u001b[1;33m;\u001b[0m \u001b[0my1\u001b[0m \u001b[1;33m=\u001b[0m \u001b[0mer_y\u001b[0m\u001b[1;33m[\u001b[0m\u001b[0mindex\u001b[0m\u001b[1;33m]\u001b[0m\u001b[1;33m\u001b[0m\u001b[0m\n\u001b[0m\u001b[0;32m     63\u001b[0m         \u001b[0mxy\u001b[0m \u001b[1;33m=\u001b[0m \u001b[0mnp\u001b[0m\u001b[1;33m.\u001b[0m\u001b[0mdot\u001b[0m\u001b[1;33m(\u001b[0m\u001b[0mx1\u001b[0m\u001b[1;33m.\u001b[0m\u001b[0mT\u001b[0m\u001b[1;33m,\u001b[0m \u001b[0my1\u001b[0m\u001b[1;33m)\u001b[0m\u001b[1;33m\u001b[0m\u001b[0m\n\u001b[0;32m     64\u001b[0m         \u001b[0mxxv\u001b[0m \u001b[1;33m=\u001b[0m \u001b[0mnp\u001b[0m\u001b[1;33m.\u001b[0m\u001b[0mdot\u001b[0m\u001b[1;33m(\u001b[0m\u001b[0mx1\u001b[0m\u001b[1;33m.\u001b[0m\u001b[0mT\u001b[0m\u001b[1;33m,\u001b[0m \u001b[0mx1\u001b[0m\u001b[1;33m)\u001b[0m \u001b[1;33m+\u001b[0m \u001b[0minv_Cov_c\u001b[0m\u001b[1;33m\u001b[0m\u001b[0m\n",
      "\u001b[1;31mKeyboardInterrupt\u001b[0m: "
     ]
    }
   ],
   "source": [
    "####ギブスサンプリングでパラメータをサンプリング####\n",
    "for rp in range(R):\n",
    "    \n",
    "    ##モデルの期待値と標準偏差をサンプリング\n",
    "    #データの設定\n",
    "    Sigma_sq = np.power(Sigma, 2)\n",
    "    er_y = y - beta_vec1 - beta_vec2 - uv\n",
    "\n",
    "    #正規分布から期待値をサンプリング\n",
    "    weights = np.power(tau, 2) / (Sigma_sq/N + np.power(tau, 2))\n",
    "    mu_par = weights * np.mean(er_y)\n",
    "    beta = np.random.normal(mu_par, weights*Sigma_sq/N, 1)\n",
    "    beta = betat.copy()\n",
    "    \n",
    "    #逆ガンマ分布から標準偏差をサンプリング\n",
    "    er_y = y - beta - beta_vec1 - beta_vec2 - uv\n",
    "    s1 = np.sum(np.power(er_y, 2)) + s01\n",
    "    s2 = N + s02\n",
    "    Sigma = np.sqrt(1/np.random.gamma(s2/2, 1/(s1/2), 1))\n",
    "    \n",
    "\n",
    "    ##companyのランダム効果をサンプリング\n",
    "    #データの設定\n",
    "    Sigma_sq = np.power(Sigma, 2)\n",
    "    er_y = y - beta_vec2\n",
    "\n",
    "    #正規分布から事後分布をサンプリング\n",
    "    weights = np.repeat(0.0, company)\n",
    "    mu_par = np.repeat(0.0, company)\n",
    "    for i in range(company):\n",
    "        index = company_index[i]\n",
    "        weights[i] = np.power(tau_c, 2) / (Sigma_sq/pt2[i] + np.power(tau_c, 2))\n",
    "        mu_par[i] = weights[i] * np.mean(er_y[index]) \n",
    "    beta_c = np.random.normal(mu_par, weights*Sigma_sq/pt2)\n",
    "    beta_c = betat_c.copy()\n",
    "    beta_vec1 = beta_c[company_id]\n",
    "\n",
    "    ##時間のランダム効果をサンプリング\n",
    "    #データの設定\n",
    "    er_y = y - beta_vec1 - uv\n",
    "\n",
    "    #正規分布から事後分布をサンプリング\n",
    "    weights = np.repeat(0.0, days)\n",
    "    mu_par = np.repeat(0.0, days)\n",
    "    for i in range(days):\n",
    "        index = pt_index[i]\n",
    "        weights[i] = np.power(tau_d, 2) / (Sigma_sq/pt1[i] + np.power(tau_d, 2))\n",
    "        mu_par[i] = weights[i] * np.mean(er_y[index]) \n",
    "    beta_d = np.random.normal(mu_par, weights*Sigma_sq/pt1)\n",
    "    beta_d = betat_d.copy()\n",
    "    beta_vec2 = beta_d[pt_id]\n",
    "\n",
    "\n",
    "    ##companyの特徴ベクトルをサプリング\n",
    "    #データの設定\n",
    "    er_y = y - beta_vec1 - beta_vec2\n",
    "    x = joint_theta / theta_c[company_id, ] \n",
    "\n",
    "    for i in range(company):\n",
    "        #特徴ベクトルの事後分布のパラメータ\n",
    "        index = company_index[i]\n",
    "        x1 = x[index, ]; y1 = er_y[index]\n",
    "        xy = np.dot(x1.T, y1)\n",
    "        xxv = np.dot(x1.T, x1) + inv_Cov_c\n",
    "        inv_xxv = np.linalg.inv(xxv)\n",
    "        theta_par = np.dot(inv_xxv, xy + np.dot(inv_Cov_c, alpha2))\n",
    "\n",
    "        #多変量正規分布から特徴ベクトルをサンプリング\n",
    "        theta_c[i, ] = np.random.multivariate_normal(theta_par, Sigma_sq*inv_xxv, 1)\n",
    "    theta_c = thetat_c.copy()\n",
    "    joint_theta = theta_c[company_id, ] * theta_w[pt_id, ]\n",
    "    \n",
    "    \n",
    "    ##オブジェクトごとの特徴ベクトルをサンプリング\n",
    "    #パラメータをリストに格納\n",
    "    theta_list = [thetat_a, theta_i, thetat_s, thetat_e, thetat_t]\n",
    "    inv_Cov = [inv_Cov_a, inv_Cov_i, inv_Cov_s, inv_Cov_e, inv_Cov_t]\n",
    "\n",
    "    for i in range(1):\n",
    "        #データの設定\n",
    "        theta_part = theta_list[i]\n",
    "        allocation_index = allocation_list[i]\n",
    "        freq = allocation_freq[i]\n",
    "\n",
    "        for j in range(n[i]):\n",
    "            #特徴ベクトルの事後分布のパラメータ\n",
    "            index = allocation_index[j]\n",
    "            y1 = er_y[index]; x1 = joint_theta[index, ] / np.full((freq[j], k), theta_part[j, ])\n",
    "            xy = np.dot(x1.T, y1)\n",
    "            xxv = np.dot(x1.T, x1) + inv_Cov[i]\n",
    "            inv_xxv = np.linalg.inv(xxv)\n",
    "            theta_par = np.dot(inv_xxv, xy + np.dot(inv_Cov[i], alpha2))\n",
    "\n",
    "            #多変量正規分布から特徴ベクトルをサンプリング\n",
    "            theta_part[j, ] = np.random.multivariate_normal(theta_par, Sigma_sq*inv_xxv, 1)\n",
    "            #joint_theta[index, ] = x1 * np.full((freq[j], k), theta_part[j, ])\n",
    "\n",
    "        #thetaを更新\n",
    "        theta_list[i] = theta_part.copy()\n",
    "    \n",
    "    #リストを変換\n",
    "    theta_a = theta_list[0]; theta_i = theta_list[1]; theta_s = theta_list[2]\n",
    "    theta_e = theta_list[3]; theta_t = theta_list[4]\n",
    "\n",
    "    #期待値を更新\n",
    "    theta_prod = thetat_a[area_id, ] * theta_i[item_id, ] * thetat_s[subject_id, ] * thetat_e[element_id, ] * thetat_t[trend_id, ]\n",
    "    theta_w = np.zeros((days, k))\n",
    "    for j in range(days):\n",
    "        theta_w[j, ] = np.sum(theta_prod[m_index[j], ], axis=0)\n",
    "    joint_theta = theta_c[company_id, ] * theta_w[pt_id, ]\n",
    "    uv = np.dot(joint_theta, np.repeat(1, k))\n",
    "    mu = beta + beta_vec1 + beta_vec2 + uv\n",
    "    \n",
    "\n",
    "    ##階層モデルのパラメータをサンプリング\n",
    "    #ランダム効果の分散をサンプリング\n",
    "    er_c = beta_c - np.mean(beta_c); er_d = beta_d - np.mean(beta_d)\n",
    "    s11 = np.sum(np.power(er_c, 2)) + s01; s12 = np.sum(np.power(er_d, 2)) + s01\n",
    "    s21 = company + s02; s22 = days + s02\n",
    "    tau_c = np.sqrt(1/np.random.gamma(s21/2, 1/(s11/2), 1))\n",
    "    tau_d = np.sqrt(1/np.random.gamma(s21/2, 1/(s11/2), 1))\n",
    "\n",
    "    #companyの特徴ベクトルの分散共分散行列をサンプリング\n",
    "    er = theta_c - np.full((company, k), np.mean(theta_c, axis=0))\n",
    "    IW_R = np.dot(er.T, er) + V\n",
    "    Sn = company + nu\n",
    "    Cov_c = np.diag(np.diag(scipy.stats.invwishart.rvs(Sn, IW_R, 1)))\n",
    "    inv_Cov_c = np.linalg.inv(Cov_c)\n",
    "\n",
    "    #itemの特徴ベクトルの分散共分散行列をサンプリング\n",
    "    er = theta_i[:item, ] - np.full((item, k), np.mean(theta_i[:item, ], axis=0))\n",
    "    IW_R = np.dot(er.T, er) + V\n",
    "    Sn = item + nu\n",
    "    Cov_i = np.diag(np.diag(scipy.stats.invwishart.rvs(Sn, IW_R, 1)))\n",
    "    inv_Cov_i = np.linalg.inv(Cov_i)\n",
    "\n",
    "    #subjectの特徴ベクトルの分散共分散行列をサンプリング\n",
    "    er = theta_s[:subject, ] - np.full((subject, k), np.mean(theta_s[:subject, ] , axis=0))\n",
    "    IW_R = np.dot(er.T, er) + V\n",
    "    Sn = subject + nu\n",
    "    Cov_s = np.diag(np.diag(scipy.stats.invwishart.rvs(Sn, IW_R, 1)))\n",
    "    inv_Cov_s = np.linalg.inv(Cov_s)\n",
    "\n",
    "    #elementの特徴ベクトルの分散共分散行列をサンプリング\n",
    "    er = theta_e[:element, ] - np.full((element, k), np.mean(theta_e[:element, ] , axis=0))\n",
    "    IW_R = np.dot(er.T, er) + V\n",
    "    Sn = element + nu\n",
    "    Cov_e = np.diag(np.diag(scipy.stats.invwishart.rvs(Sn, IW_R, 1)))\n",
    "    inv_Cov_e = np.linalg.inv(Cov_e)\n",
    "\n",
    "\n",
    "    ##サンプリング結果の格納と表示\n",
    "    if rp%keep==0:\n",
    "        mkeep = int(rp/keep)\n",
    "\n",
    "    if rp%disp==0:\n",
    "        #対数尤度を更新\n",
    "        LL = np.sum(scipy.stats.norm.logpdf(y, mu, Sigma))\n",
    "\n",
    "        #サンプリング結果の表示\n",
    "        print(rp)\n",
    "        print(np.round(np.array((LL, LLbest, LLst)), 1))\n",
    "        print(np.round(np.array([Sigma, Sigmat]).reshape(-1), 3))"
   ]
  },
  {
   "cell_type": "code",
   "execution_count": 121,
   "metadata": {},
   "outputs": [
    {
     "data": {
      "text/plain": [
       "array([1])"
      ]
     },
     "execution_count": 121,
     "metadata": {},
     "output_type": "execute_result"
    }
   ],
   "source": [
    "np.array(range(1, 2))"
   ]
  },
  {
   "cell_type": "code",
   "execution_count": 23,
   "metadata": {},
   "outputs": [],
   "source": [
    "    ##オブジェクトごとの特徴ベクトルをサンプリング\n",
    "    #パラメータをリストに格納\n",
    "    theta_list = [theta_a, theta_i, theta_s, theta_e, theta_t]\n",
    "    inv_Cov = [inv_Cov_a, inv_Cov_i, inv_Cov_s, inv_Cov_e, inv_Cov_t]\n",
    "\n",
    "    for i in range(0):\n",
    "        #データの設定\n",
    "        theta_part = theta_list[i]\n",
    "        allocation_index = allocation_list[i]\n",
    "        freq = allocation_freq[i]\n",
    "\n",
    "        for j in range(n[i]):\n",
    "            #特徴ベクトルの事後分布のパラメータ\n",
    "            index = allocation_index[j]\n",
    "            y1 = er_y[index]; x1 = joint_theta[index, ] / np.full((freq[j], k), theta_part[j, ])\n",
    "            xy = np.dot(x1.T, y1)\n",
    "            xxv = np.dot(x1.T, x1) + inv_Cov[i]\n",
    "            inv_xxv = np.linalg.inv(xxv)\n",
    "            theta_par = np.dot(inv_xxv, xy + np.dot(inv_Cov[i], alpha2))\n",
    "\n",
    "            #多変量正規分布から特徴ベクトルをサンプリング\n",
    "            theta_part[j, ] = np.random.multivariate_normal(theta_par, Sigma_sq*inv_xxv, 1)\n",
    "            joint_theta[index, ] = x1 * np.full((freq[j], k), theta_part[j, ])\n",
    "\n",
    "        #thetaを更新\n",
    "        theta_list[i] = theta_part.copy()\n",
    "    \n",
    "    #リストを変換\n",
    "    theta_a = theta_list[0]; theta_i = theta_list[1]; theta_s = theta_list[2]\n",
    "    theta_e = theta_list[3]; theta_t = theta_list[4]"
   ]
  },
  {
   "cell_type": "code",
   "execution_count": 25,
   "metadata": {},
   "outputs": [
    {
     "name": "stdout",
     "output_type": "stream",
     "text": [
      "[-1.38729088  0.73684106 -0.30601178 -0.55534642  0.97967238  0.10511128\n",
      "  0.1840654   0.69610006  0.97102842  0.45410629]\n",
      "[-1.38828703  0.73778939 -0.30860416 -0.55759426  0.97548995  0.1052\n",
      "  0.1845556   0.69287082  0.97622556  0.45518178]\n"
     ]
    }
   ],
   "source": [
    "i = 0\n",
    "print(theta_t[i, ])\n",
    "print(thetat_t[i, ])"
   ]
  },
  {
   "cell_type": "code",
   "execution_count": null,
   "metadata": {},
   "outputs": [],
   "source": [
    "    ##オブジェクトごとの特徴ベクトルをサンプリング\n",
    "    #パラメータをリストに格納\n",
    "    theta_list = [theta_a, theta_i, theta_s, theta_e, theta_t]\n",
    "    inv_Cov = [inv_Cov_a, inv_Cov_i, inv_Cov_s, inv_Cov_e, inv_Cov_t]\n",
    "\n",
    "    for i in range(len(theta_list)):\n",
    "        #データの設定\n",
    "        theta_part = theta_list[i]\n",
    "        allocation_index = allocation_list[i]\n",
    "        freq = allocation_freq[i]\n",
    "\n",
    "        for j in range(n[i]):\n",
    "            #特徴ベクトルの事後分布のパラメータ\n",
    "            index = allocation_index[j]\n",
    "            y1 = er_y[index]; x1 = joint_theta[index, ] / np.full((freq[j], k), theta_part[j, ])\n",
    "            xy = np.dot(x1.T, y1)\n",
    "            xxv = np.dot(x1.T, x1) + inv_Cov[i]\n",
    "            inv_xxv = np.linalg.inv(xxv)\n",
    "            theta_par = np.dot(inv_xxv, xy + np.dot(inv_Cov[i], alpha2))\n",
    "\n",
    "            #多変量正規分布から特徴ベクトルをサンプリング\n",
    "            theta_part[j, ] = np.random.multivariate_normal(theta_par, Sigma_sq*inv_xxv, 1)\n",
    "            #joint_theta[index, ] = x1 * np.full((freq[j], k), theta_part[j, ])\n",
    "\n",
    "        #thetaを更新\n",
    "        theta_list[i] = theta_part.copy()\n",
    "        theta_prod = theta_list[0][area_id, ] * theta_list[1][item_id, ] * theta_list[2][subject_id, ] *\\\n",
    "                            theta_list[3][element_id, ] * theta_list[4][trend_id, ]\n",
    "        theta_w = np.zeros((days, k))\n",
    "        for j in range(days):\n",
    "            theta_w[j, ] = np.sum(theta_prod[m_index[j], ], axis=0)\n",
    "        joint_theta = theta_c[company_id, ] * theta_w[pt_id, ]\n",
    "    \n",
    "    #リストを変換\n",
    "    theta_a = theta_list[0]; theta_i = theta_list[1]; theta_s = theta_list[2]\n",
    "    theta_e = theta_list[3]; theta_t = theta_list[4]"
   ]
  }
 ],
 "metadata": {
  "kernelspec": {
   "display_name": "Python 3",
   "language": "python",
   "name": "python3"
  },
  "language_info": {
   "codemirror_mode": {
    "name": "ipython",
    "version": 3
   },
   "file_extension": ".py",
   "mimetype": "text/x-python",
   "name": "python",
   "nbconvert_exporter": "python",
   "pygments_lexer": "ipython3",
   "version": "3.6.5"
  }
 },
 "nbformat": 4,
 "nbformat_minor": 2
}
