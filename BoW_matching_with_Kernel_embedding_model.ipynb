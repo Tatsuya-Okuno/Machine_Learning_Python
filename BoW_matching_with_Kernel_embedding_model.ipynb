{
 "cells": [
  {
   "cell_type": "code",
   "execution_count": 7,
   "metadata": {},
   "outputs": [],
   "source": [
    "#####BoW matching with Kernel embedding model#####\n",
    "import numpy as np\n",
    "import pandas as pd\n",
    "import matplotlib.pyplot  as plt\n",
    "import numpy.matlib\n",
    "import scipy.linalg\n",
    "import itertools\n",
    "from scipy import sparse\n",
    "from pandas.tools.plotting import scatter_matrix\n",
    "from numpy.random import *\n",
    "from scipy import optimize\n",
    "from scipy.stats import norm\n",
    "import seaborn as sns\n",
    "\n",
    "#np.random.seed(98537)"
   ]
  },
  {
   "cell_type": "code",
   "execution_count": 8,
   "metadata": {},
   "outputs": [],
   "source": [
    "##多項分布の乱数を生成する関数\n",
    "def rmnom(pr, n, k, no):\n",
    "    z_id = np.argmax((np.cumsum(pr, axis=1) >= np.random.uniform(0, 1, n)[:, np.newaxis]), axis=1)\n",
    "    Z = sparse.coo_matrix((np.repeat(1, n), (no, np.array(z_id))), shape=(n, k))   #スパース行列の設定\n",
    "    return Z"
   ]
  },
  {
   "cell_type": "code",
   "execution_count": 146,
   "metadata": {},
   "outputs": [],
   "source": [
    "####データの発生####\n",
    "##データの設定\n",
    "k = 10\n",
    "n = 100\n",
    "d = np.random.poisson(np.random.gamma(5, 1/0.25, n)); d[d <= 1] = 1   #文書あたりの組み合わせ数\n",
    "D = np.sum(d)   #総文書数\n",
    "v = 100   #語彙数\n",
    "w = np.random.poisson(np.random.gamma(10, 1/0.3, D), D)   #文書あたりの単語数\n",
    "f = np.sum(w)   #総単語数"
   ]
  },
  {
   "cell_type": "code",
   "execution_count": 147,
   "metadata": {},
   "outputs": [],
   "source": [
    "##文書IDの組み合わせとインデックスを生成\n",
    "#文書IDを作成\n",
    "w_id = np.repeat(np.arange(D), w)\n",
    "id_list = [i for i in range(D)]\n",
    "for i in range(D):\n",
    "    id_list[i] = np.array(np.where(w_id==i)[0], dtype=\"int\")\n",
    "\n",
    "#文書の組み合わせを生成\n",
    "id_list1 = [i for i in range(n)]\n",
    "id_list2 = [i for i in range(n)]\n",
    "max_id = 0\n",
    "for i in range(n):\n",
    "    d_matrix1 = np.triu(np.full((d[i], d[i]), np.arange(d[i]) + max_id).T, k=1)\n",
    "    d_matrix2 = np.triu(np.full((d[i], d[i]), np.arange(d[i]) + max_id), k=1)\n",
    "    target = np.triu(np.full((d[i], d[i]), 1), k=1)\n",
    "    id_list1[i] = d_matrix1[target==1] \n",
    "    id_list2[i] = d_matrix2[target==1] \n",
    "    max_id = np.max(np.append(id_list1[i], id_list2[i])) + 1\n",
    "    \n",
    "#リストをIDに変換\n",
    "d_id1 = np.array(list(itertools.chain(*[id_list1[i] for i in range(n)])))\n",
    "d_id2 = np.array(list(itertools.chain(*[id_list2[i] for i in range(n)])))\n",
    "N = d_id1.shape[0]\n",
    "\n",
    "#インデックスを作成\n",
    "target = [i for i in range(D)]\n",
    "d_list = [i for i in range(D)]\n",
    "d_list1 = [i for i in range(D)]\n",
    "d_list2 = [i for i in range(D)]\n",
    "pt = np.repeat(0, D)\n",
    "for i in range(D):\n",
    "    d_list1[i] = np.array(np.where(d_id1==i)[0], dtype=\"int32\")\n",
    "    d_list2[i] = np.array(np.where(d_id2==i)[0], dtype=\"int32\")\n",
    "    d_list[i] = np.append(d_list1[i], d_list2[i])\n",
    "    target[i] = np.append(np.repeat(0, d_list1[i].shape[0]), np.repeat(1, d_list2[i].shape[0]))\n",
    "    pt[i] = target[i].shape[0]"
   ]
  },
  {
   "cell_type": "code",
   "execution_count": 148,
   "metadata": {},
   "outputs": [
    {
     "name": "stdout",
     "output_type": "stream",
     "text": [
      "0.38024471194332987\n",
      "3.751499212822636\n"
     ]
    },
    {
     "data": {
      "text/plain": [
       "(array([5882., 1544., 1016.,  808.,  654.,  505.,  435.,  407.,  426.,\n",
       "         340.,  328.,  340.,  331.,  296.,  324.,  316.,  339.,  359.,\n",
       "         350.,  394.,  429.,  442.,  558.,  768., 2596.]),\n",
       " array([2.15148668e-07, 4.00002065e-02, 8.00001979e-02, 1.20000189e-01,\n",
       "        1.60000181e-01, 2.00000172e-01, 2.40000163e-01, 2.80000155e-01,\n",
       "        3.20000146e-01, 3.60000138e-01, 4.00000129e-01, 4.40000120e-01,\n",
       "        4.80000112e-01, 5.20000103e-01, 5.60000095e-01, 6.00000086e-01,\n",
       "        6.40000077e-01, 6.80000069e-01, 7.20000060e-01, 7.60000051e-01,\n",
       "        8.00000043e-01, 8.40000034e-01, 8.80000026e-01, 9.20000017e-01,\n",
       "        9.60000008e-01, 1.00000000e+00]),\n",
       " <a list of 25 Patch objects>)"
      ]
     },
     "execution_count": 148,
     "metadata": {},
     "output_type": "execute_result"
    },
    {
     "data": {
      "image/png": "[encoded data removed]",
      "text/plain": [
       "<Figure size 432x288 with 1 Axes>"
      ]
     },
     "metadata": {},
     "output_type": "display_data"
    }
   ],
   "source": [
    "##モデルパラメータを生成\n",
    "#単語の埋込ベクトルを生成\n",
    "mu = np.random.normal(-0.25, 1.0, k)\n",
    "theta = np.random.multivariate_normal(mu, np.diag(np.repeat(9.0, k)), v)\n",
    "beta = np.array([-1.0])\n",
    "betat = beta.copy(); thetat = theta.copy()\n",
    "\n",
    "#文書ごとの単語を生成\n",
    "m = 50\n",
    "gamma = np.random.dirichlet(np.repeat(0.1, m), D)\n",
    "phi = np.random.dirichlet(np.repeat(0.1, v), m)\n",
    "z = np.dot(np.array(rmnom(gamma[w_id, ], f, m, np.arange(f)).todense()), np.arange(m))\n",
    "wd_list = [i for i in range(D)]\n",
    "for i in range(D):\n",
    "    wd_list[i] = np.array(np.dot(rmnom(phi[z[id_list[i]], ], w[i], v, np.arange(w[i])).todense(), np.arange(v))).reshape(-1)\n",
    "wd = np.array(list(itertools.chain(*[wd_list[i] for i in range(D)])))\n",
    "\n",
    "##2文書間のマッチング有無を生成\n",
    "#2文書間の距離をカーネル関数で表現\n",
    "w_sq = np.repeat(0, N)\n",
    "distance = np.repeat(0.0, N)\n",
    "for i in range(N):    \n",
    "    id1 = d_id1[i]; id2 = d_id2[i]\n",
    "    theta_d1 = theta[wd_list[id1], ]\n",
    "    theta_d2 = theta[wd_list[id2], ]\n",
    "    w_sq[i] = w[id1]*w[id2]\n",
    "    distance[i] = np.sum(np.dot(theta_d1, theta_d2.T)) / (w[id1]*w[id2])\n",
    "    \n",
    "#ベルヌーイ分布から応答変数を生成\n",
    "logit = beta + (distance - np.mean(distance))\n",
    "Prob = np.exp(logit) / (1 + np.exp(logit))\n",
    "y = np.random.binomial(1, Prob, N)\n",
    "y_vec = y[:, np.newaxis]\n",
    "\n",
    "#生成した応答変数を確認\n",
    "print(np.mean(y))\n",
    "print(np.std(distance))\n",
    "plt.hist(Prob, bins=25)"
   ]
  },
  {
   "cell_type": "code",
   "execution_count": 149,
   "metadata": {},
   "outputs": [
    {
     "data": {
      "text/plain": [
       "480"
      ]
     },
     "execution_count": 149,
     "metadata": {},
     "output_type": "execute_result"
    }
   ],
   "source": [
    "np.sum(np.dot(theta_d1, theta_d2.T)) \n",
    "w_sq[i]\n"
   ]
  },
  {
   "cell_type": "code",
   "execution_count": 150,
   "metadata": {},
   "outputs": [],
   "source": [
    "####最尤法でパラメータを推定####\n",
    "##パラメータを推定するための関数\n",
    "#対数尤度関数を計算する関数\n",
    "def loglike(theta, tau, y, wd1, wd2, wd_list, wd_list1, wd_list2, d_id1, d_id2, allocation_id1, allocation_id2, w_sq, N, v, k):\n",
    "    #パラメータの設定\n",
    "    beta = theta[0]\n",
    "    theta_d = theta[1:].reshape(v, k)\n",
    "    \n",
    "    #文書間のカーネル埋め込みを定義\n",
    "    distance = np.repeat(0.0, N)\n",
    "    for i in range(N):   \n",
    "        id1 = d_id1[i]; id2 = d_id2[i]\n",
    "        theta_d1 = theta_d[wd_list[id1], ]\n",
    "        theta_d2 = theta_d[wd_list[id2], ]\n",
    "        distance[i] = np.sum(np.dot(theta_d1, theta_d2.T)) / (w_sq[i])\n",
    "\n",
    "    #ベルヌーイ分布から応答変数を生成\n",
    "    logit = beta + distance\n",
    "    Prob = np.exp(logit) / (1 + np.exp(logit))\n",
    "\n",
    "    #対数尤度の和\n",
    "    penalty = -1/2 * np.sum(np.power(theta_d, 2) / tau)\n",
    "    LL = np.sum(y*np.log(Prob) + (1-y)*np.log(1-Prob))\n",
    "    LLho = -(LL + penalty)\n",
    "    return LLho "
   ]
  },
  {
   "cell_type": "code",
   "execution_count": 151,
   "metadata": {},
   "outputs": [],
   "source": [
    "##対数尤度関数の勾配ベクトル\n",
    "def dloglike(theta, tau, y, wd1, wd2, wd_list, wd_list1, wd_list2, d_id1, d_id2, allocation_id1, allocation_id2, w_sq, N, v, k):\n",
    "    #パラメータの設定\n",
    "    beta = theta[0]\n",
    "    theta_d = theta[1:].reshape(v, k)\n",
    "\n",
    "    #文書間のカーネル埋め込みを定義\n",
    "    theta_x1 = np.zeros((N, k))\n",
    "    theta_x2 = np.zeros((N, k))\n",
    "    distance = np.repeat(0.0, N)\n",
    "    for i in range(N):   \n",
    "        id1 = d_id1[i]; id2 = d_id2[i]\n",
    "        theta_d1 = theta_d[wd_list[id1], ]\n",
    "        theta_d2 = theta_d[wd_list[id2], ]\n",
    "        theta_x1[i, ] = np.sum(theta_d2, axis=0)\n",
    "        theta_x2[i, ] = np.sum(theta_d1, axis=0)\n",
    "        distance[i] = np.sum(np.dot(theta_d1, theta_d2.T)) / (w_sq[i])\n",
    "\n",
    "    #ベルヌーイ分布から応答変数を生成\n",
    "    logit = beta + distance \n",
    "    Prob = np.exp(logit) / (1 + np.exp(logit))   \n",
    "\n",
    "    #勾配ベクトルの和\n",
    "    x1 = (distance[allocation_id1] / w_sq[allocation_id1])[:, np.newaxis] * theta_x1[allocation_id1, ]\n",
    "    x2 = (distance[allocation_id2] / w_sq[allocation_id2])[:, np.newaxis] * theta_x2[allocation_id2, ]\n",
    "    gradient1 = y[allocation_id1][:, np.newaxis]*x1 - Prob[allocation_id1][:, np.newaxis] *x1\n",
    "    gradient2 = y[allocation_id2][:, np.newaxis]*x2 - Prob[allocation_id2][:, np.newaxis] *x2\n",
    "    gradient = np.zeros((v, k))\n",
    "    for j in range(v):\n",
    "        gradient[j, ] = np.sum(gradient1[wd_list1[j], ], axis=0) + np.sum(gradient2[wd_list2[j], ], axis=0)\n",
    "    dlogit = -np.append(np.sum(y - Prob), gradient.reshape(-1) - theta_d.reshape(-1) / tau)\n",
    "    return dlogit"
   ]
  },
  {
   "cell_type": "code",
   "execution_count": 143,
   "metadata": {},
   "outputs": [],
   "source": [
    "##すべての文書組み合わせにおける単語ベクトル\n",
    "#データの格納用配列\n",
    "wd_list1 = [i for i in range(N)]\n",
    "wd_list2 = [i for i in range(N)]\n",
    "allocation_list1 = [i for i in range(N)]\n",
    "allocation_list2 = [i for i in range(N)]\n",
    "\n",
    "#文書のインデックスを作成\n",
    "for i in range(N):\n",
    "    wd_list1[i] = wd_list[d_id1[i]]\n",
    "    wd_list2[i] = wd_list[d_id2[i]]\n",
    "    allocation_list1[i] = np.repeat(i, wd_list1[i].shape[0])\n",
    "    allocation_list2[i] = np.repeat(i, wd_list2[i].shape[0])\n",
    "\n",
    "#リストに変換\n",
    "wd1 = np.array(list(itertools.chain(*[wd_list1[i] for i in range(N)])))\n",
    "wd2 = np.array(list(itertools.chain(*[wd_list2[i] for i in range(N)])))\n",
    "allocation_id1 = np.array(list(itertools.chain(*[allocation_list1[i] for i in range(N)])))\n",
    "allocation_id2 = np.array(list(itertools.chain(*[allocation_list2[i] for i in range(N)])))\n",
    "del wd_list1, wd_list2, allocation_list1, allocation_list2\n",
    "\n",
    "#単語のインデックスを作成\n",
    "wd_list1 = [j for j in range(v)]\n",
    "wd_list2 = [j for j in range(v)]\n",
    "for j in range(v):\n",
    "    wd_list1[j] = np.array(np.where(wd1==j)[0], dtype=\"int\")\n",
    "    wd_list2[j] = np.array(np.where(wd2==j)[0], dtype=\"int\")"
   ]
  },
  {
   "cell_type": "code",
   "execution_count": 144,
   "metadata": {},
   "outputs": [
    {
     "name": "stderr",
     "output_type": "stream",
     "text": [
      "C:\\Users\\sana\\Anaconda3\\lib\\site-packages\\ipykernel_launcher.py:23: RuntimeWarning: divide by zero encountered in log\n",
      "C:\\Users\\sana\\Anaconda3\\lib\\site-packages\\ipykernel_launcher.py:23: RuntimeWarning: invalid value encountered in multiply\n"
     ]
    },
    {
     "name": "stdout",
     "output_type": "stream",
     "text": [
      "Warning: Desired error not necessarily achieved due to precision loss.\n",
      "         Current function value: 14167.004204\n",
      "         Iterations: 3\n",
      "         Function evaluations: 45\n",
      "         Gradient evaluations: 34\n"
     ]
    }
   ],
   "source": [
    "##準ニュートン法でパラメータを推定\n",
    "#初期値と正則化パラメータを設定\n",
    "tau = np.array([2.0])\n",
    "theta = np.append(-1.0, np.random.multivariate_normal(np.repeat(0, k), np.diag(np.repeat(0.5, k)), v).reshape(-1))\n",
    "res = optimize.minimize(loglike, theta, jac=dloglike, method='CG', args=(tau, y, wd1, wd2, wd_list, wd_list1, wd_list2,\n",
    "                                                                           d_id1, d_id2, allocation_id1, allocation_id2, w_sq, N, v, k),\n",
    "                        options={\"gtol\":0.1, \"disp\":True})"
   ]
  },
  {
   "cell_type": "code",
   "execution_count": 145,
   "metadata": {},
   "outputs": [
    {
     "data": {
      "text/plain": [
       "14840.88088498637"
      ]
     },
     "execution_count": 145,
     "metadata": {},
     "output_type": "execute_result"
    }
   ],
   "source": [
    "loglike(theta, tau, y, wd1, wd2, wd_list, wd_list1, wd_list2, d_id1, d_id2, allocation_id1, allocation_id2, w_sq, N, v, k)"
   ]
  },
  {
   "cell_type": "code",
   "execution_count": 79,
   "metadata": {},
   "outputs": [
    {
     "data": {
      "text/plain": [
       "191526.00679736835"
      ]
     },
     "execution_count": 79,
     "metadata": {},
     "output_type": "execute_result"
    }
   ],
   "source": [
    "theta_vec = np.append(betat, thetat.reshape(-1))\n",
    "LLbest = loglike(theta_vec, tau, y, wd1, wd2, wd_list, wd_list1, wd_list2, d_id1, d_id2, allocation_id1, allocation_id2, w_sq, N, v, k)\n",
    "LLbest"
   ]
  },
  {
   "cell_type": "code",
   "execution_count": null,
   "metadata": {},
   "outputs": [],
   "source": []
  }
 ],
 "metadata": {
  "kernelspec": {
   "display_name": "Python 3",
   "language": "python",
   "name": "python3"
  },
  "language_info": {
   "codemirror_mode": {
    "name": "ipython",
    "version": 3
   },
   "file_extension": ".py",
   "mimetype": "text/x-python",
   "name": "python",
   "nbconvert_exporter": "python",
   "pygments_lexer": "ipython3",
   "version": "3.6.5"
  }
 },
 "nbformat": 4,
 "nbformat_minor": 2
}
