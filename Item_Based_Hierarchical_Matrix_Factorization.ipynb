{
 "cells": [
  {
   "cell_type": "code",
   "execution_count": 1,
   "metadata": {},
   "outputs": [],
   "source": [
    "#####Item based Matrix Factorization model#####\n",
    "import numpy as np\n",
    "import pandas as pd\n",
    "import matplotlib.pyplot  as plt\n",
    "import numpy.matlib\n",
    "import scipy\n",
    "import itertools\n",
    "import scipy.stats as ss\n",
    "from numpy.random import *\n",
    "from scipy import optimize\n",
    "from scipy.stats import norm\n",
    "from scipy import sparse"
   ]
  },
  {
   "cell_type": "code",
   "execution_count": 2,
   "metadata": {},
   "outputs": [],
   "source": [
    "##多項分布の乱数を生成する関数\n",
    "def rmnom(pr, n, k, no):\n",
    "    z_id = np.argmax((np.cumsum(pr, axis=1) > np.random.rand(n).reshape(n, 1)), axis=1)\n",
    "    Z = sparse.coo_matrix((np.repeat(1, n), (no, np.array(z_id))), shape=(n, k)).todense()   #スパース行列の設定\n",
    "    return Z"
   ]
  },
  {
   "cell_type": "code",
   "execution_count": 3,
   "metadata": {},
   "outputs": [],
   "source": [
    "####データの発生####\n",
    "##データの設定\n",
    "k = 10   #基底数\n",
    "vec_k = np.repeat(1, k)\n",
    "item = 25000\n",
    "publisher = 3000\n",
    "tag = 200\n",
    "N = 1000000   #総レコード数"
   ]
  },
  {
   "cell_type": "code",
   "execution_count": 4,
   "metadata": {},
   "outputs": [],
   "source": [
    "##アイテムの共起を生成\n",
    "#トピック割当を生成\n",
    "topic = 35\n",
    "phi = np.random.dirichlet(np.repeat(0.5, item), topic)\n",
    "theta = np.random.dirichlet(np.repeat(1.5, topic), 1).reshape(-1)\n",
    "z = np.dot(np.random.multinomial(1, theta, N), range(topic))"
   ]
  },
  {
   "cell_type": "code",
   "execution_count": 5,
   "metadata": {
    "scrolled": true
   },
   "outputs": [
    {
     "name": "stdout",
     "output_type": "stream",
     "text": [
      "0\n",
      "1\n",
      "2\n",
      "3\n",
      "4\n",
      "5\n",
      "6\n",
      "7\n",
      "8\n",
      "9\n",
      "10\n",
      "11\n",
      "12\n",
      "13\n",
      "14\n",
      "15\n",
      "16\n",
      "17\n",
      "18\n",
      "19\n",
      "20\n",
      "21\n",
      "22\n",
      "23\n",
      "24\n",
      "25\n",
      "26\n",
      "27\n",
      "28\n",
      "29\n",
      "30\n",
      "31\n",
      "32\n",
      "33\n",
      "34\n",
      "35\n",
      "36\n",
      "37\n",
      "38\n",
      "39\n",
      "40\n",
      "41\n",
      "42\n",
      "43\n",
      "44\n",
      "45\n",
      "46\n",
      "47\n",
      "48\n",
      "49\n",
      "50\n",
      "51\n",
      "52\n",
      "53\n",
      "54\n",
      "55\n",
      "56\n",
      "57\n",
      "58\n",
      "59\n",
      "60\n",
      "61\n",
      "62\n",
      "63\n",
      "64\n",
      "65\n",
      "66\n",
      "67\n",
      "68\n",
      "69\n",
      "70\n",
      "71\n",
      "72\n",
      "73\n",
      "74\n",
      "75\n",
      "76\n",
      "77\n",
      "78\n",
      "79\n",
      "80\n",
      "81\n",
      "82\n",
      "83\n",
      "84\n",
      "85\n",
      "86\n",
      "87\n",
      "88\n",
      "89\n",
      "90\n",
      "91\n",
      "92\n",
      "93\n",
      "94\n",
      "95\n",
      "96\n",
      "97\n",
      "98\n",
      "99\n"
     ]
    }
   ],
   "source": [
    "#多項分布からアイテムを生成\n",
    "n = 10000\n",
    "item_vec = np.array(range(item))\n",
    "no_vec = np.array(range(n))\n",
    "index = np.array(range(N)).reshape(int(N/n), n)\n",
    "item_id1 = np.repeat(0, N)\n",
    "item_id2 = np.repeat(0, N)\n",
    "for i in range(int(N/n)):\n",
    "    print(i)\n",
    "    phi_vec = phi[z[index[i]], :]\n",
    "    item1 = np.array(rmnom(phi_vec, n, item, no_vec))\n",
    "    item2 = rmnom((1-item1)*phi_vec, n, item, no_vec)\n",
    "    item_id1[index[i]] = np.dot(item1, item_vec)\n",
    "    item_id2[index[i]] = np.dot(item2, item_vec)"
   ]
  },
  {
   "cell_type": "code",
   "execution_count": 16,
   "metadata": {},
   "outputs": [],
   "source": [
    "#パブリッシャーの割当を生成\n",
    "#トピック割当を生成\n",
    "topic = 30\n",
    "phi = np.random.dirichlet(np.repeat(0.5, publisher), topic)\n",
    "theta = np.random.dirichlet(np.repeat(0.5, topic), item)\n",
    "z = np.dot(np.array([np.random.multinomial(1, theta[i, :], 1) for i in range(item)]).reshape(item, topic), range(topic))\n",
    "\n",
    "#多項分布からパブリッシャーを生成\n",
    "publisher_id0 = np.array(np.dot(rmnom(phi[z, :], item, publisher, np.array(range(item))), np.array(range(publisher)))).reshape(-1)"
   ]
  },
  {
   "cell_type": "code",
   "execution_count": 18,
   "metadata": {},
   "outputs": [
    {
     "data": {
      "text/plain": [
       "(2997,)"
      ]
     },
     "execution_count": 18,
     "metadata": {},
     "output_type": "execute_result"
    }
   ],
   "source": [
    "pd.unique(publisher_id0).shape"
   ]
  },
  {
   "cell_type": "code",
   "execution_count": 5,
   "metadata": {},
   "outputs": [
    {
     "data": {
      "text/plain": [
       "0"
      ]
     },
     "execution_count": 5,
     "metadata": {},
     "output_type": "execute_result"
    }
   ],
   "source": [
    "1000%1000"
   ]
  },
  {
   "cell_type": "code",
   "execution_count": null,
   "metadata": {},
   "outputs": [],
   "source": []
  }
 ],
 "metadata": {
  "kernelspec": {
   "display_name": "Python 3",
   "language": "python",
   "name": "python3"
  },
  "language_info": {
   "codemirror_mode": {
    "name": "ipython",
    "version": 3
   },
   "file_extension": ".py",
   "mimetype": "text/x-python",
   "name": "python",
   "nbconvert_exporter": "python",
   "pygments_lexer": "ipython3",
   "version": "3.7.0"
  }
 },
 "nbformat": 4,
 "nbformat_minor": 2
}
