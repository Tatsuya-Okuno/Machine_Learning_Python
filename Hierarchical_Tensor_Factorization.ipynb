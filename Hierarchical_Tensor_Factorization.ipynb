{
 "cells": [
  {
   "cell_type": "code",
   "execution_count": 17,
   "metadata": {},
   "outputs": [],
   "source": [
    "#####Hierarchical Tensor Factorization model#####\n",
    "import numpy as np\n",
    "import pandas as pd\n",
    "import matplotlib.pyplot  as plt\n",
    "import numpy.matlib\n",
    "import scipy\n",
    "import itertools\n",
    "import scipy.stats as ss\n",
    "from numpy.random import *\n",
    "from scipy import optimize\n",
    "from scipy.stats import norm\n",
    "from scipy import sparse"
   ]
  },
  {
   "cell_type": "code",
   "execution_count": 18,
   "metadata": {},
   "outputs": [],
   "source": [
    "####データの発生####\n",
    "##データの設定\n",
    "k = 10   #基底数\n",
    "hh = 10000   #ユーザー数\n",
    "item = 3000   #アイテム数\n",
    "context = 24   #コンテキスト数\n",
    "pt = np.random.poisson(np.random.gamma(25, 1/0.25, hh), hh)   #ユーザーあたりのレコード数\n",
    "hhpt = np.sum(pt)   #総レコード数\n",
    "vec_k = np.repeat(1, k)"
   ]
  },
  {
   "cell_type": "code",
   "execution_count": 19,
   "metadata": {},
   "outputs": [],
   "source": [
    "##IDとインデックスの設定\n",
    "#IDの設定\n",
    "user_id = np.repeat(range(hh), pt)\n",
    "pt_id = np.array(list(itertools.chain(*[np.array(range(pt[i]), dtype=\"int\") for i in range(hh)])))\n",
    "\n",
    "#インデックスの設定\n",
    "index = np.array(range(hhpt))\n",
    "user_list = [i for i in range(hh)]\n",
    "for i in range(hh):\n",
    "    user_list[i] = index[user_id==i]\n",
    "user_dt = sparse.coo_matrix((np.repeat(1, hhpt), (user_id, range(hhpt))), shape=(hh, hhpt)).tocsr()   #スパース行列の設定"
   ]
  },
  {
   "cell_type": "code",
   "execution_count": 20,
   "metadata": {},
   "outputs": [
    {
     "name": "stdout",
     "output_type": "stream",
     "text": [
      "0\n",
      "1000\n",
      "2000\n",
      "3000\n",
      "4000\n",
      "5000\n",
      "6000\n",
      "7000\n",
      "8000\n",
      "9000\n"
     ]
    }
   ],
   "source": [
    "##アイテムの割当を生成\n",
    "#トピック割当を生成\n",
    "topic = 25\n",
    "phi = np.random.dirichlet(np.repeat(0.5, item), topic)\n",
    "theta = np.random.dirichlet(np.repeat(0.5, topic), hh)\n",
    "z = np.dot(np.array([np.random.multinomial(1, theta[i, :], 1) for i in range(hh)]).reshape(hh, topic), range(topic))\n",
    "\n",
    "#多項分布からアイテムを生成\n",
    "item_id = np.zeros(hhpt, dtype='int')\n",
    "for i in range(hh):\n",
    "    if i%1000==0:\n",
    "        print(i)\n",
    "    item_id[user_list[i]] = np.dot(np.random.multinomial(1, phi[z[i], :], pt[i]), range(item))"
   ]
  },
  {
   "cell_type": "code",
   "execution_count": 21,
   "metadata": {},
   "outputs": [
    {
     "name": "stdout",
     "output_type": "stream",
     "text": [
      "0\n",
      "1000\n",
      "2000\n",
      "3000\n",
      "4000\n",
      "5000\n",
      "6000\n",
      "7000\n",
      "8000\n",
      "9000\n"
     ]
    }
   ],
   "source": [
    "##コンテキストの割当を生成\n",
    "#トピック割当を生成\n",
    "topic = 15\n",
    "phi = np.random.dirichlet(np.repeat(0.25, context), topic)\n",
    "theta = np.random.dirichlet(np.repeat(0.25, topic), hh)\n",
    "z = np.dot(np.array([np.random.multinomial(1, theta[i, :], 1) for i in range(hh)]).reshape(hh, topic), range(topic))\n",
    "\n",
    "#多項分布からアイテムを生成\n",
    "context_id = np.zeros(hhpt, dtype='int')\n",
    "for i in range(hh):\n",
    "    if i%1000==0:\n",
    "        print(i)\n",
    "    context_id[user_list[i]] = np.dot(np.random.multinomial(1, phi[z[i], :], pt[i]), range(context))"
   ]
  },
  {
   "cell_type": "code",
   "execution_count": 22,
   "metadata": {},
   "outputs": [],
   "source": [
    "#アイテムとコンテキストのインデックスを作成\n",
    "index = np.array(range(hhpt))\n",
    "item_list = [j for j in range(item)]\n",
    "context_list = [j for j in range(context)]\n",
    "for j in range(item):\n",
    "    item_list[j] = index[item_id==j]\n",
    "for j in range(context):\n",
    "    context_list[j] = index[context_id==j]"
   ]
  },
  {
   "cell_type": "code",
   "execution_count": 23,
   "metadata": {
    "scrolled": false
   },
   "outputs": [
    {
     "name": "stdout",
     "output_type": "stream",
     "text": [
      "1\n",
      "2\n",
      "3\n",
      "4\n",
      "5\n",
      "6\n",
      "7\n",
      "8\n"
     ]
    }
   ],
   "source": [
    "####応答変数を生成####\n",
    "rp = 0\n",
    "while True:\n",
    "    rp = rp + 1\n",
    "    print(rp)\n",
    "\n",
    "    ##パラメータを生成\n",
    "    #階層モデルのパラメータを生成\n",
    "    alpha_u = 5.5; alpha_ut = alpha_u\n",
    "    tau_u = 0.75; tau_v = 1.0; tau_c = 0.5\n",
    "    tau_ut = tau_u; tau_vt = tau_v; tau_ct = tau_c\n",
    "    Cov_u = np.diag(np.random.uniform(0.1, 0.75, k))\n",
    "    Cov_v = np.diag(np.random.uniform(0.1, 0.75, k))\n",
    "    Cov_c = np.diag(np.random.uniform(0.1, 0.75, k))\n",
    "    Cov_ut = Cov_u; Cov_vt = Cov_v; Cov_ct = Cov_c\n",
    "\n",
    "    #モデルパラメータを生成\n",
    "    Sigma = 0.5; Sigmat = Sigma\n",
    "    beta_u = np.random.normal(alpha_u, tau_u, hh)\n",
    "    beta_v = np.random.normal(0, tau_v, item)\n",
    "    beta_c = np.random.normal(0, tau_c, context)\n",
    "    beta_ut = beta_u; beta_vt = beta_v; beta_ct = beta_c\n",
    "    theta_u = np.random.multivariate_normal(np.repeat(0, k), Cov_u, hh)\n",
    "    theta_v = np.random.multivariate_normal(np.repeat(0, k), Cov_v, item)\n",
    "    theta_c = np.random.multivariate_normal(np.repeat(0, k), Cov_c, context)\n",
    "    theta_ut = theta_u; theta_vt = theta_v; theta_ct = theta_c\n",
    "    \n",
    "    #正規分布からスコアを生成\n",
    "    uvc = np.dot(theta_u[user_id, ] * theta_v[item_id, ] * theta_c[context_id, ], vec_k)\n",
    "    mu = beta_u[user_id] + beta_v[item_id] + beta_c[context_id] + uvc\n",
    "    y_vec = mu + np.random.normal(0, Sigma, hhpt)\n",
    "\n",
    "    #収束条件\n",
    "    if (np.mean(y_vec) < 6.0) & (np.mean(y_vec) > 4.5) & (np.std(y_vec) > 1.75) & (np.std(y_vec) < 2.0):\n",
    "        break"
   ]
  },
  {
   "cell_type": "code",
   "execution_count": 24,
   "metadata": {},
   "outputs": [
    {
     "name": "stdout",
     "output_type": "stream",
     "text": [
      "[5.54118976 5.54050823]\n",
      "[1.80597829 1.78750606]\n"
     ]
    },
    {
     "data": {
      "image/png": "[encoded data removed]",
      "text/plain": [
       "<matplotlib.figure.Figure at 0x1cfac412400>"
      ]
     },
     "metadata": {},
     "output_type": "display_data"
    }
   ],
   "source": [
    "##応答変数をスコアに変換\n",
    "y = np.round(y_vec)\n",
    "y[y > 10] = 10; y[y < 1] = 1\n",
    "print(np.append(np.mean(y_vec), np.mean(y)))\n",
    "print(np.append(np.std(y_vec), np.std(y)))\n",
    "plt.hist(y, bins=25, color=\"grey\", histtype=\"barstacked\")\n",
    "plt.show()"
   ]
  },
  {
   "cell_type": "code",
   "execution_count": 25,
   "metadata": {},
   "outputs": [],
   "source": [
    "#####モンテカルロEMアルゴリズムでHierarchical Tensor Factorization modelを推定####\n",
    "##アルゴリズムの設定\n",
    "LL1 = -1000000000   #対数尤度の初期値\n",
    "tol = 0.25\n",
    "iter = 1\n",
    "dl = 100\n",
    "L = 500   #モンテカルロサンプリング数"
   ]
  },
  {
   "cell_type": "code",
   "execution_count": 30,
   "metadata": {},
   "outputs": [],
   "source": [
    "##パラメータの真値\n",
    "#階層モデルのパラメータ\n",
    "alpha_u = alpha_ut\n",
    "tau_u = tau_ut; tau_v = tau_vt; tau_c = tau_ct\n",
    "Cov_u = Cov_ut\n",
    "Cov_v = Cov_vt\n",
    "Cov_c = Cov_ct\n",
    "inv_Cov_u = np.linalg.inv(Cov_u)\n",
    "inv_Cov_v = np.linalg.inv(Cov_v)\n",
    "inv_Cov_c = np.linalg.inv(Cov_c)\n",
    "\n",
    "#モデルパラメータの生成\n",
    "Sigma = Sigmat\n",
    "beta_u = beta_ut\n",
    "beta_v = beta_vt\n",
    "beta_c = beta_ct\n",
    "theta_u = theta_ut\n",
    "theta_v = theta_vt\n",
    "theta_c = theta_ct"
   ]
  },
  {
   "cell_type": "code",
   "execution_count": 36,
   "metadata": {},
   "outputs": [],
   "source": [
    "##パラメータの初期値\n",
    "#階層モデルのパラメータ\n",
    "alpha_u = np.mean(y)\n",
    "tau_u = 0.3; tau_v = 0.3; tau_c = 0.2\n",
    "Cov_u = np.diag(np.repeat(0.1, k))\n",
    "Cov_v = np.diag(np.repeat(0.1, k))\n",
    "Cov_c = np.diag(np.repeat(0.1, k))\n",
    "inv_Cov_u = np.linalg.inv(Cov_u)\n",
    "inv_Cov_v = np.linalg.inv(Cov_v)\n",
    "inv_Cov_c = np.linalg.inv(Cov_c)\n",
    "\n",
    "#モデルパラメータの生成\n",
    "Sigma = 0.5\n",
    "beta_u = np.random.normal(alpha_u, tau_u, hh)\n",
    "beta_v = np.random.normal(0, tau_v, item)\n",
    "beta_c = np.random.normal(0, tau_c, context)\n",
    "theta_u = np.random.multivariate_normal(np.repeat(0, k), Cov_u, hh)\n",
    "theta_v = np.random.multivariate_normal(np.repeat(0, k), Cov_v, item)\n",
    "theta_c = np.random.multivariate_normal(np.repeat(0, k), Cov_c, context)"
   ]
  },
  {
   "cell_type": "code",
   "execution_count": 37,
   "metadata": {},
   "outputs": [],
   "source": [
    "##テンソルと期待値の初期値\n",
    "#変量効果とテンソルの設定\n",
    "beta_u_vec = beta_u[user_id]\n",
    "beta_v_vec = beta_v[item_id]\n",
    "beta_c_vec = beta_c[context_id]\n",
    "uvc = np.dot(theta_u[user_id, ] * theta_v[item_id, ] * theta_c[context_id, ], vec_k)\n",
    "\n",
    "#期待値を設定\n",
    "mu = beta_u_vec + beta_v_vec + beta_c_vec + uvc"
   ]
  },
  {
   "cell_type": "code",
   "execution_count": 38,
   "metadata": {},
   "outputs": [
    {
     "data": {
      "text/plain": [
       "3435680.85543476"
      ]
     },
     "execution_count": 38,
     "metadata": {},
     "output_type": "execute_result"
    }
   ],
   "source": []
  },
  {
   "cell_type": "code",
   "execution_count": null,
   "metadata": {},
   "outputs": [],
   "source": []
  }
 ],
 "metadata": {
  "kernelspec": {
   "display_name": "Python 3",
   "language": "python",
   "name": "python3"
  },
  "language_info": {
   "codemirror_mode": {
    "name": "ipython",
    "version": 3
   },
   "file_extension": ".py",
   "mimetype": "text/x-python",
   "name": "python",
   "nbconvert_exporter": "python",
   "pygments_lexer": "ipython3",
   "version": "3.6.4"
  }
 },
 "nbformat": 4,
 "nbformat_minor": 2
}
