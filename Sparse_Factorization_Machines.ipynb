{
 "cells": [
  {
   "cell_type": "code",
   "execution_count": 1,
   "metadata": {},
   "outputs": [],
   "source": [
    "#####Sparse Factorization Machines#####\n",
    "import numpy as np\n",
    "import pandas as pd\n",
    "import matplotlib.pyplot  as plt\n",
    "import numpy.matlib\n",
    "import scipy\n",
    "import scipy.linalg\n",
    "import scipy.stats as ss\n",
    "import itertools\n",
    "from numpy.random import *\n",
    "from scipy import optimize\n",
    "from scipy.stats import norm\n",
    "from scipy import sparse"
   ]
  },
  {
   "cell_type": "code",
   "execution_count": 22,
   "metadata": {},
   "outputs": [],
   "source": [
    "##多項分布の乱数を生成する関数\n",
    "def rmnom(pr, n, k, no):\n",
    "    z_id = np.argmax((np.cumsum(pr, axis=1) > np.random.rand(n).reshape(n, 1)), axis=1)\n",
    "    Z = sparse.coo_matrix((np.repeat(1, n), (no, np.array(z_id))), shape=(n, k))   #スパース行列の設定\n",
    "    return Z"
   ]
  },
  {
   "cell_type": "code",
   "execution_count": 13,
   "metadata": {},
   "outputs": [],
   "source": [
    "####データの発生####\n",
    "##データの設定\n",
    "k = 10   #基底数\n",
    "item = 3000   #アイテム数\n",
    "tag = 200   #タグ数\n",
    "pt = np.random.poisson(np.random.gamma(30.0, 1/0.25, item), item)   #アイテムあたりの購買数\n",
    "pt[pt < 2] = 2\n",
    "N = np.sum(pt)   #総レコード数\n",
    "n = np.random.poisson(1.75, item); n[n==0] = 1   #アイテムごとのタグ数\n",
    "vec_k = np.repeat(1, k)"
   ]
  },
  {
   "cell_type": "code",
   "execution_count": 19,
   "metadata": {},
   "outputs": [],
   "source": [
    "##IDとインデックスの設定\n",
    "#IDの設定\n",
    "item_id = np.repeat(range(item), pt)\n",
    "pt_id = np.array(list(itertools.chain(*[np.array(range(pt[i]), dtype=\"int\") for i in range(item)])))\n",
    "\n",
    "#インデックスの設定\n",
    "index = np.arange(N)\n",
    "item_list = [i for i in range(item)]\n",
    "for i in range(item):\n",
    "    item_list[i] = index[item_id==i]"
   ]
  },
  {
   "cell_type": "code",
   "execution_count": 20,
   "metadata": {},
   "outputs": [],
   "source": [
    "##階層モデルの説明変数を生成\n",
    "#アイテムの説明変数を生成\n",
    "k1 = 3; k2 = 4; k3 = 4\n",
    "v1 = np.array(np.random.random(item*k1)).reshape((item, k1))\n",
    "v2 = np.zeros((item, k2))\n",
    "for j in range(k2):\n",
    "    prob = np.random.uniform(0.25, 0.55, 1)\n",
    "    v2[:, j] = np.random.binomial(1, prob, item)\n",
    "v3 = np.random.multinomial(1, np.random.dirichlet(np.repeat(3.0, k3), 1).reshape(k3), item)\n",
    "v3 = np.delete(v3, np.argmin(np.sum(v3, axis=0)), axis=1)   #冗長な変数の削除\n",
    "v = np.concatenate((np.repeat(1, item)[:, np.newaxis], v1, v2, v3), axis=1)\n",
    "column_v = v.shape[1]"
   ]
  },
  {
   "cell_type": "code",
   "execution_count": 87,
   "metadata": {},
   "outputs": [],
   "source": [
    "##タグを生成\n",
    "#パラメータの設定\n",
    "topic = 25\n",
    "omega = np.random.dirichlet(np.repeat(0.5, tag), topic)\n",
    "z = np.dot(np.array(rmnom(np.random.dirichlet(np.repeat(0.5, topic), item), item, topic, np.arange(item)).todense()), np.arange(topic))\n",
    "\n",
    "#多項分布からタグを生成\n",
    "max_n = np.max(n)\n",
    "tag_list = [j for j in range(item)]\n",
    "tag_id = np.zeros((N, max_n), dtype=\"int\")\n",
    "tag_data = np.zeros((N, tag), dtype=\"int\")\n",
    "\n",
    "for j in range(item):\n",
    "    while True:\n",
    "        x = np.random.multinomial(n[j], omega[z[j], ], 1).reshape(-1)\n",
    "        if np.max(x)==1:\n",
    "            tag_list[j] = (x * (np.arange(tag)+1))[x > 0]\n",
    "            break\n",
    "    tag_id[item_list[j], 0:n[j]] = np.repeat(tag_list[j], pt[j]).reshape(pt[j], n[j], order=\"F\")\n",
    "    tag_data[item_list[j], ] = np.repeat(x, pt[j]).reshape(pt[j], tag, order=\"F\")\n",
    "\n",
    "tag_id0 = tag_id\n",
    "tag_id0[tag_id0==0] = tag + 1"
   ]
  },
  {
   "cell_type": "code",
   "execution_count": 119,
   "metadata": {},
   "outputs": [],
   "source": [
    "#組み合わせを作成\n",
    "index_combine = np.array(list(itertools.combinations(np.arange(max_n), 2)))\n",
    "combine_n = np.repeat(0, np.max(index_combine[:, 0])+1)\n",
    "combine_list = [j for j in range(np.max(index_combine[:, 0])+1)]\n",
    "for j in range(np.max(index_combine[:, 0]+1)):\n",
    "    combine_list[j] = index_combine[np.array(np.where(index_combine[:, 0]==j)[0], dtype=\"int\"), 1]\n",
    "    combine_n[j] = combine_list[j].shape[0]"
   ]
  },
  {
   "cell_type": "code",
   "execution_count": 128,
   "metadata": {},
   "outputs": [
    {
     "data": {
      "text/plain": [
       "array([[0, 1],\n",
       "       [0, 2],\n",
       "       [0, 3],\n",
       "       [0, 4],\n",
       "       [0, 5],\n",
       "       [0, 6],\n",
       "       [1, 2],\n",
       "       [1, 3],\n",
       "       [1, 4],\n",
       "       [1, 5],\n",
       "       [1, 6],\n",
       "       [2, 3],\n",
       "       [2, 4],\n",
       "       [2, 5],\n",
       "       [2, 6],\n",
       "       [3, 4],\n",
       "       [3, 5],\n",
       "       [3, 6],\n",
       "       [4, 5],\n",
       "       [4, 6],\n",
       "       [5, 6]])"
      ]
     },
     "execution_count": 128,
     "metadata": {},
     "output_type": "execute_result"
    }
   ],
   "source": [
    "#交互作用項のインデックスを作成\n",
    "\n"
   ]
  },
  {
   "cell_type": "code",
   "execution_count": null,
   "metadata": {},
   "outputs": [],
   "source": []
  }
 ],
 "metadata": {
  "kernelspec": {
   "display_name": "Python 3",
   "language": "python",
   "name": "python3"
  },
  "language_info": {
   "codemirror_mode": {
    "name": "ipython",
    "version": 3
   },
   "file_extension": ".py",
   "mimetype": "text/x-python",
   "name": "python",
   "nbconvert_exporter": "python",
   "pygments_lexer": "ipython3",
   "version": "3.6.5"
  }
 },
 "nbformat": 4,
 "nbformat_minor": 2
}
