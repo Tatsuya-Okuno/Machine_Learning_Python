{
 "cells": [
  {
   "cell_type": "code",
   "execution_count": 1,
   "metadata": {},
   "outputs": [],
   "source": [
    "#####Probit based Hierarchical Matrix Factorization####\n",
    "import numpy as np\n",
    "import pandas as pd\n",
    "import matplotlib.pyplot  as plt\n",
    "import numpy.matlib\n",
    "import scipy\n",
    "import scipy.linalg\n",
    "import scipy.stats as ss\n",
    "import seaborn as sns\n",
    "from numpy.random import *\n",
    "from scipy import optimize\n",
    "from scipy.stats import norm\n",
    "from scipy import sparse"
   ]
  },
  {
   "cell_type": "code",
   "execution_count": 2,
   "metadata": {},
   "outputs": [],
   "source": [
    "####任意の相関行列(分散共分散行列)を作成する関数####\n",
    "##任意の相関行列を作る関数\n",
    "def CorM(col, lower, upper, eigen_lower, eigen_upper):\n",
    "    #相関行列の初期値を定義する\n",
    "    cov_vec = (upper - lower) *rand(col*col) + lower   #相関係数の乱数ベクトルを作成\n",
    "    rho = np.reshape(np.array(cov_vec), (col, col)) * np.tri(col)   #乱数ベクトルを下三角行列化\n",
    "    Sigma = np.diag(np.diag(rho + rho.T) + 1) - (rho + rho.T)   #対角成分を1にする\n",
    "    \n",
    "    #相関行列を正定値行列に変更\n",
    "    #固有値分解を実行\n",
    "    eigen = scipy.linalg.eigh(Sigma)\n",
    "    eigen_val = eigen[0] \n",
    "    eigen_vec = eigen[1]\n",
    "    \n",
    "    #固有値が負の数値を正にする\n",
    "    for i in range(eigen_val.shape[0]-1):\n",
    "        if eigen_val[i] < 0:\n",
    "            eigen_val[i] = (eigen_upper - eigen_lower) * rand(1) + eigen_lower\n",
    "            \n",
    "    #新しい相関行列の定義と対角成分を1にする\n",
    "    Sigma = np.dot(np.dot(eigen_vec, np.diag(eigen_val)), eigen_vec.T)\n",
    "    normalization_factor = np.dot(pow(np.diag(Sigma), 0.5)[:, np.newaxis], pow(np.diag(Sigma), 0.5)[np.newaxis, :])\n",
    "    Cor = Sigma / normalization_factor\n",
    "    return Cor"
   ]
  },
  {
   "cell_type": "code",
   "execution_count": 3,
   "metadata": {},
   "outputs": [],
   "source": [
    "##相関行列から分散共分散行列に変換する関数\n",
    "def covmatrix(Cor, sigma_lower, sigma_upper):\n",
    "    sigma = (sigma_upper - sigma_lower) * rand(np.diag(Cor).shape[0]) + sigma_lower\n",
    "    sigma_factor = np.dot(sigma[:, np.newaxis], sigma[np.newaxis, :])\n",
    "    Cov = Cor * sigma_factor\n",
    "    return Cov"
   ]
  },
  {
   "cell_type": "code",
   "execution_count": 4,
   "metadata": {},
   "outputs": [],
   "source": [
    "####データの発生####\n",
    "##データの設定\n",
    "k = 10   #基底数\n",
    "hh = 10000   #ユーザー数\n",
    "item = 3000   #アイテム数\n",
    "pt = np.random.poisson(np.random.gamma(25, 1/0.3, hh), hh)   #購買接触数\n",
    "hhpt = np.sum(pt)   #総サンプル数"
   ]
  },
  {
   "cell_type": "code",
   "execution_count": 5,
   "metadata": {},
   "outputs": [],
   "source": [
    "#IDの設定\n",
    "user_id = np.repeat(range(hh), pt)\n",
    "pt_id = np.zeros(hhpt, dtype='int')\n",
    "for i in range(hh):\n",
    "    pt_id[user_id==i] = range(pt[i])"
   ]
  },
  {
   "cell_type": "code",
   "execution_count": 6,
   "metadata": {},
   "outputs": [],
   "source": [
    "#インデックスの作成\n",
    "index = np.array(range(hhpt))\n",
    "user_index = [i for i in range(hh)]\n",
    "for i in range(hh):\n",
    "    user_index[i] = index[user_id==i]"
   ]
  },
  {
   "cell_type": "code",
   "execution_count": 15,
   "metadata": {},
   "outputs": [],
   "source": [
    "##説明変数の生成\n",
    "##素性ベクトルを生成\n",
    "k1 = 2; k2 = 3; k3 = 4\n",
    "x1 = np.array(np.random.random(hhpt*k1)).reshape((hhpt, k1))\n",
    "x2 = np.zeros((hhpt, k2))\n",
    "for j in range(k2):\n",
    "    prob = np.random.uniform(0.25, 0.55, 1)\n",
    "    x2[:, j] = np.random.binomial(1, prob, hhpt)\n",
    "x3 = np.random.multinomial(1, np.random.dirichlet(np.repeat(3.0, k3), 1).reshape(k3), hhpt)\n",
    "x3 = np.delete(x3, np.argmin(np.sum(x3, axis=0)), axis=1)   #冗長な変数の削除\n",
    "X = np.concatenate((np.repeat(1, hhpt)[:, np.newaxis], x1, x2, x3), axis=1)\n",
    "column = X.shape[1]"
   ]
  },
  {
   "cell_type": "code",
   "execution_count": 16,
   "metadata": {},
   "outputs": [],
   "source": [
    "##階層モデルの説明変数を生成\n",
    "#ユーザーの説明変数を生成\n",
    "k1 = 1; k2 = 3; k3 = 5\n",
    "u1 = np.array(np.random.random(hh*k1)).reshape((hh, k1))\n",
    "u2 = np.zeros((hh, k2))\n",
    "for j in range(k2):\n",
    "    prob = np.random.uniform(0.25, 0.55, 1)\n",
    "    u2[:, j] = np.random.binomial(1, prob, hh)\n",
    "u3 = np.random.multinomial(1, np.random.dirichlet(np.repeat(3.0, k3), 1).reshape(k3), hh)\n",
    "u3 = np.delete(u3, np.argmin(np.sum(u3, axis=0)), axis=1)   #冗長な変数の削除\n",
    "u = np.concatenate((np.repeat(1, hh)[:, np.newaxis], u1, u2, u3), axis=1)\n",
    "column_u = u.shape[1]\n",
    "\n",
    "#アイテムの説明変数を生成\n",
    "k1 = 2; k2 = 3; k3 = 4\n",
    "v1 = np.array(np.random.random(item*k1)).reshape((item, k1))\n",
    "v2 = np.zeros((item, k2))\n",
    "for j in range(k2):\n",
    "    prob = np.random.uniform(0.25, 0.55, 1)\n",
    "    v2[:, j] = np.random.binomial(1, prob, item)\n",
    "v3 = np.random.multinomial(1, np.random.dirichlet(np.repeat(3.0, k3), 1).reshape(k3), item)\n",
    "v3 = np.delete(v3, np.argmin(np.sum(v3, axis=0)), axis=1)   #冗長な変数の削除\n",
    "v = np.concatenate((np.repeat(1, item)[:, np.newaxis], v1, v2, v3), axis=1)\n",
    "column_v = v.shape[1]"
   ]
  },
  {
   "cell_type": "code",
   "execution_count": 9,
   "metadata": {},
   "outputs": [
    {
     "name": "stdout",
     "output_type": "stream",
     "text": [
      "0\n",
      "1000\n",
      "2000\n",
      "3000\n",
      "4000\n",
      "5000\n",
      "6000\n",
      "7000\n",
      "8000\n",
      "9000\n"
     ]
    }
   ],
   "source": [
    "##アイテムの割当を生成\n",
    "#セグメント割当を生成\n",
    "topic = 25\n",
    "phi = np.random.dirichlet(np.repeat(0.5, item), topic)\n",
    "theta = np.random.dirichlet(np.repeat(2.5, topic), hh)\n",
    "z = np.dot(np.array([np.random.multinomial(1, theta[i, :], 1) for i in range(hh)]).reshape(hh, topic), range(topic))\n",
    "\n",
    "#多項分布からアイテムを生成\n",
    "item_id = np.zeros(hhpt, dtype='int')\n",
    "for i in range(hh):\n",
    "    if i%1000==0:\n",
    "        print(i)\n",
    "    item_id[user_index[i]] = np.dot(np.random.multinomial(1, phi[z[i], :], pt[i]), range(item))"
   ]
  },
  {
   "cell_type": "code",
   "execution_count": 10,
   "metadata": {},
   "outputs": [],
   "source": [
    "#アイテムインデックスを作成\n",
    "index = np.array(range(hhpt))\n",
    "item_index = [j for j in range(item)]\n",
    "for j in range(item):\n",
    "    item_index[j] = index[item_id==i]"
   ]
  },
  {
   "cell_type": "code",
   "execution_count": 55,
   "metadata": {},
   "outputs": [],
   "source": [
    "##階層モデルのパラメータの設定\n",
    "#階層モデルの分散を設定\n",
    "Cov = np.diag(uniform(0.01, 0.15, column))\n",
    "Cov_u = np.diag(uniform(0.01, 0.2, k))\n",
    "Cov_v = np.diag(uniform(0.01, 0.2, k))\n",
    "\n",
    "#階層モデルの回帰係数を設定\n",
    "alpha = np.hstack((np.random.normal(-0.2, 0.5, column_u).reshape(column_u, 1), \n",
    "                   np.random.normal(0, 0.5, (column-1)*column_u).reshape(column_u, column-1)))\n",
    "alpha_u = np.random.normal(0, 0.5, k*column_u).reshape(column_u, k)\n",
    "alpha_v = np.random.normal(0, 0.5, k*column_v).reshape(column_v, k)\n",
    "\n",
    "##モデルパラメータを生成\n",
    "#素性ベクトルと行列分解のパラメータを生成\n",
    "beta = betat = np.dot(u, alpha) + np.random.multivariate_normal(np.repeat(0, column), Cov, hh)\n",
    "theta_u = theta_ut = np.dot(u, alpha_u) + np.random.multivariate_normal(np.repeat(0, k), Cov_u, hh)\n",
    "theta_v = theta_vt = np.dot(v, alpha_v) + np.random.multivariate_normal(np.repeat(0, k), Cov_v, item)\n",
    "\n",
    "#標準偏差を設定\n",
    "Sigma = 1\n",
    "\n",
    "##潜在効用から応答変数を生成\n",
    "#回帰モデルの平均構造\n",
    "W = theta_u[user_id, :]\n",
    "H = theta_v[item_id, :]\n",
    "mu = np.dot(X * beta[user_id, :], np.repeat(1, column)) + np.dot(W * H, np.repeat(1, k))\n",
    "\n",
    "#正規分布から潜在効用を生成\n",
    "er = np.random.normal(0, Sigma, hhpt)   #モデル誤差\n",
    "U = mu + er   #潜在効用\n",
    "y = np.array((U > 0), dtype='int')   #潜在効用を購買ベクトルに変換"
   ]
  },
  {
   "cell_type": "code",
   "execution_count": 47,
   "metadata": {},
   "outputs": [
    {
     "data": {
      "text/plain": [
       "array([-1.02745504, -0.10019715, -1.26232179, ..., -3.86776498,\n",
       "       -2.92406517, -2.87350849])"
      ]
     },
     "execution_count": 47,
     "metadata": {},
     "output_type": "execute_result"
    }
   ],
   "source": []
  },
  {
   "cell_type": "code",
   "execution_count": 36,
   "metadata": {},
   "outputs": [
    {
     "data": {
      "text/plain": [
       "array([[ 1.27814671,  0.28999916, -0.12825995, ..., -0.10302746,\n",
       "        -0.45532612,  0.5028598 ],\n",
       "       [ 1.18529037,  0.60846914, -0.35506605, ...,  0.23045446,\n",
       "        -0.10238381,  0.41229371],\n",
       "       [-0.71189864,  0.52071086, -1.72019407, ...,  0.52400436,\n",
       "         0.26242015, -0.92123632],\n",
       "       ...,\n",
       "       [-0.40350748,  1.05260487, -0.76665564, ...,  0.63390924,\n",
       "         0.30666113, -0.3375893 ],\n",
       "       [-0.61133537,  0.90402873, -2.01348149, ..., -0.30610234,\n",
       "        -0.56908786, -0.12319796],\n",
       "       [-1.05613259,  0.77685573, -1.7347576 , ..., -0.1218253 ,\n",
       "         0.31808625, -0.46743125]])"
      ]
     },
     "execution_count": 36,
     "metadata": {},
     "output_type": "execute_result"
    }
   ],
   "source": []
  },
  {
   "cell_type": "code",
   "execution_count": null,
   "metadata": {},
   "outputs": [],
   "source": []
  }
 ],
 "metadata": {
  "kernelspec": {
   "display_name": "Python 3",
   "language": "python",
   "name": "python3"
  },
  "language_info": {
   "codemirror_mode": {
    "name": "ipython",
    "version": 3
   },
   "file_extension": ".py",
   "mimetype": "text/x-python",
   "name": "python",
   "nbconvert_exporter": "python",
   "pygments_lexer": "ipython3",
   "version": "3.6.4"
  }
 },
 "nbformat": 4,
 "nbformat_minor": 2
}
