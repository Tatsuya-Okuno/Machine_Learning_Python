{
 "cells": [
  {
   "cell_type": "code",
   "execution_count": 130,
   "metadata": {},
   "outputs": [],
   "source": [
    "#####Mixed membership block model#####\n",
    "import numpy as np\n",
    "import pandas as pd\n",
    "import matplotlib.pyplot  as plt\n",
    "import numpy.matlib\n",
    "import gensim\n",
    "import itertools\n",
    "from numpy.random import *\n",
    "from scipy import optimize\n",
    "from scipy import sparse\n",
    "import seaborn as sns"
   ]
  },
  {
   "cell_type": "code",
   "execution_count": 131,
   "metadata": {},
   "outputs": [],
   "source": [
    "####データの生成####\n",
    "##データの設定\n",
    "k = 15   #混合数\n",
    "d = 3000   #ノード数\n",
    "hhpt = int(d*(d-1)/2)"
   ]
  },
  {
   "cell_type": "code",
   "execution_count": 135,
   "metadata": {},
   "outputs": [],
   "source": [
    "##ノード有無を生成\n",
    "#すべてのノードの組み合わせを作成\n",
    "d1 = np.repeat(range(d), d).reshape(d, d)\n",
    "d2 = np.repeat(range(d), d).reshape(d, d, order=\"F\")\n",
    "id_list1 = [i for i in range(d-1)]\n",
    "id_list2 = [i for i in range(d-1)]\n",
    "for i in range(d-1):\n",
    "    id_list1[i] = d1[i, np.arange(i+1, d)]\n",
    "    id_list2[i] = d2[i, np.arange(i+1, d)]\n",
    "\n",
    "#リストをベクトルに変換\n",
    "d_id01 = np.array(list(itertools.chain(*id_list1)))\n",
    "d_id02 = np.array(list(itertools.chain(*id_list2)))\n",
    "\n",
    "#インデックスの設定\n",
    "d_list = [i for i in range(d)]\n",
    "for i in range(d):\n",
    "    d_list[i] = np.array(np.where((d_id01==i) | (d_id02==i))[0], \"int\")"
   ]
  },
  {
   "cell_type": "code",
   "execution_count": 145,
   "metadata": {},
   "outputs": [],
   "source": [
    "#ベルヌーイ分布からノードを作成\n",
    "S = np.ones((hhpt), dtype=\"int\")\n",
    "for i in range(d):\n",
    "    prob = np.random.beta(15.0, 35.0, 1)\n",
    "    S[d_list[i]] = S[d_list[i]] * np.random.binomial(1, prob, d-1)\n",
    "    \n",
    "#ノードありの部分のみ抽出\n",
    "index_s = np.array(np.where(S==1)[0], dtype=\"int\")\n",
    "d_id1 = d_id01[index_s]\n",
    "d_id2 = d_id02[index_s]\n",
    "hhpt = d_id1.shape[0]   #総ノード数\n",
    "\n",
    "#インデックスの設定\n",
    "n = np.repeat(0, d)\n",
    "d_list = [i for i in range(d)]\n",
    "for i in range(d):\n",
    "    d_list[i] = np.array(np.where((d_id1==i) | (d_id2==i))[0], \"int\")\n",
    "    n[i] = d_list[i].shape[0]"
   ]
  },
  {
   "cell_type": "code",
   "execution_count": 146,
   "metadata": {},
   "outputs": [
    {
     "data": {
      "text/plain": [
       "0.15"
      ]
     },
     "execution_count": 146,
     "metadata": {},
     "output_type": "execute_result"
    }
   ],
   "source": [
    "##パラメータを生成\n",
    "#事前分布を設定\n",
    "alpha01 = 0.15\n",
    "\n"
   ]
  },
  {
   "cell_type": "code",
   "execution_count": null,
   "metadata": {},
   "outputs": [],
   "source": []
  }
 ],
 "metadata": {
  "kernelspec": {
   "display_name": "Python 3",
   "language": "python",
   "name": "python3"
  },
  "language_info": {
   "codemirror_mode": {
    "name": "ipython",
    "version": 3
   },
   "file_extension": ".py",
   "mimetype": "text/x-python",
   "name": "python",
   "nbconvert_exporter": "python",
   "pygments_lexer": "ipython3",
   "version": "3.6.5"
  }
 },
 "nbformat": 4,
 "nbformat_minor": 2
}
