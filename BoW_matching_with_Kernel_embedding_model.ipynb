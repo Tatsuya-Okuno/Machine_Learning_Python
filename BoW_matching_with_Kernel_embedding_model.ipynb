{
 "cells": [
  {
   "cell_type": "code",
   "execution_count": 1,
   "metadata": {},
   "outputs": [],
   "source": [
    "#####BoW matching with Kernel embedding model#####\n",
    "import numpy as np\n",
    "import pandas as pd\n",
    "import matplotlib.pyplot  as plt\n",
    "import numpy.matlib\n",
    "import scipy.linalg\n",
    "import itertools\n",
    "from scipy import sparse\n",
    "from pandas.tools.plotting import scatter_matrix\n",
    "from numpy.random import *\n",
    "from scipy import optimize\n",
    "from scipy.stats import norm\n",
    "import seaborn as sns\n",
    "\n",
    "#np.random.seed(98537)"
   ]
  },
  {
   "cell_type": "code",
   "execution_count": 2,
   "metadata": {},
   "outputs": [],
   "source": [
    "##多項分布の乱数を生成する関数\n",
    "def rmnom(pr, n, k, no):\n",
    "    z_id = np.argmax((np.cumsum(pr, axis=1) >= np.random.uniform(0, 1, n)[:, np.newaxis]), axis=1)\n",
    "    Z = sparse.coo_matrix((np.repeat(1, n), (no, np.array(z_id))), shape=(n, k))   #スパース行列の設定\n",
    "    return Z"
   ]
  },
  {
   "cell_type": "code",
   "execution_count": 3,
   "metadata": {},
   "outputs": [],
   "source": [
    "####データの発生####\n",
    "##データの設定\n",
    "k = 10\n",
    "n = 100\n",
    "d = np.random.poisson(np.random.gamma(5, 1/0.225, n)); d[d <= 1] = 1   #文書あたりの組み合わせ数\n",
    "D = np.sum(d)   #総文書数\n",
    "v = 1000   #語彙数\n",
    "w = np.random.poisson(np.random.gamma(20, 1/0.2, D), D)   #文書あたりの単語数\n",
    "f = np.sum(w)   #総単語数"
   ]
  },
  {
   "cell_type": "code",
   "execution_count": 4,
   "metadata": {},
   "outputs": [],
   "source": [
    "##文書IDの組み合わせとインデックスを生成\n",
    "#文書IDを作成\n",
    "w_id = np.repeat(np.arange(D), w)\n",
    "id_list = [i for i in range(D)]\n",
    "for i in range(D):\n",
    "    id_list[i] = np.array(np.where(w_id==i)[0], dtype=\"int\")\n",
    "\n",
    "#文書の組み合わせを生成\n",
    "id_list1 = [i for i in range(n)]\n",
    "id_list2 = [i for i in range(n)]\n",
    "max_id = 0\n",
    "for i in range(n):\n",
    "    d_matrix1 = np.triu(np.full((d[i], d[i]), np.arange(d[i]) + max_id).T, k=1)\n",
    "    d_matrix2 = np.triu(np.full((d[i], d[i]), np.arange(d[i]) + max_id), k=1)\n",
    "    target = np.triu(np.full((d[i], d[i]), 1), k=1)\n",
    "    id_list1[i] = d_matrix1[target==1] \n",
    "    id_list2[i] = d_matrix2[target==1] \n",
    "    max_id = np.max(np.append(id_list1[i], id_list2[i])) + 1\n",
    "    \n",
    "#リストをIDに変換\n",
    "d_id1 = np.array(list(itertools.chain(*[id_list1[i] for i in range(n)])))\n",
    "d_id2 = np.array(list(itertools.chain(*[id_list2[i] for i in range(n)])))\n",
    "N = d_id1.shape[0]\n",
    "\n",
    "#インデックスを作成\n",
    "target = [i for i in range(D)]\n",
    "d_list = [i for i in range(D)]\n",
    "d_list1 = [i for i in range(D)]\n",
    "d_list2 = [i for i in range(D)]\n",
    "pt = np.repeat(0, D)\n",
    "for i in range(D):\n",
    "    d_list1[i] = np.array(np.where(d_id1==i)[0], dtype=\"int32\")\n",
    "    d_list2[i] = np.array(np.where(d_id2==i)[0], dtype=\"int32\")\n",
    "    d_list[i] = np.append(d_list1[i], d_list2[i])\n",
    "    target[i] = np.append(np.repeat(0, d_list1[i].shape[0]), np.repeat(1, d_list2[i].shape[0]))\n",
    "    pt[i] = target[i].shape[0]"
   ]
  },
  {
   "cell_type": "code",
   "execution_count": 29,
   "metadata": {},
   "outputs": [
    {
     "data": {
      "text/plain": [
       "0.7511456330501071"
      ]
     },
     "execution_count": 29,
     "metadata": {},
     "output_type": "execute_result"
    }
   ],
   "source": [
    "\n"
   ]
  },
  {
   "cell_type": "code",
   "execution_count": 35,
   "metadata": {},
   "outputs": [
    {
     "name": "stdout",
     "output_type": "stream",
     "text": [
      "0.3734730782005388\n",
      "2.6988103727801542\n"
     ]
    },
    {
     "data": {
      "text/plain": [
       "(array([5662., 2421., 1713., 1343., 1092.,  928.,  808.,  766.,  768.,\n",
       "         670.,  663.,  550.,  581.,  588.,  563.,  577.,  568.,  569.,\n",
       "         588.,  614.,  645.,  717.,  898., 1092., 1713.]),\n",
       " array([3.24162609e-05, 4.00297164e-02, 8.00270165e-02, 1.20024317e-01,\n",
       "        1.60021617e-01, 2.00018917e-01, 2.40016217e-01, 2.80013517e-01,\n",
       "        3.20010817e-01, 3.60008117e-01, 4.00005418e-01, 4.40002718e-01,\n",
       "        4.80000018e-01, 5.19997318e-01, 5.59994618e-01, 5.99991918e-01,\n",
       "        6.39989218e-01, 6.79986519e-01, 7.19983819e-01, 7.59981119e-01,\n",
       "        7.99978419e-01, 8.39975719e-01, 8.79973019e-01, 9.19970319e-01,\n",
       "        9.59967619e-01, 9.99964920e-01]),\n",
       " <a list of 25 Patch objects>)"
      ]
     },
     "execution_count": 35,
     "metadata": {},
     "output_type": "execute_result"
    },
    {
     "data": {
      "image/png": "[encoded data removed]",
      "text/plain": [
       "<Figure size 432x288 with 1 Axes>"
      ]
     },
     "metadata": {},
     "output_type": "display_data"
    }
   ],
   "source": [
    "##モデルパラメータを生成\n",
    "#単語の埋込ベクトルを生成\n",
    "mu = np.random.normal(-0.25, 1.5, k)\n",
    "theta = np.random.multivariate_normal(mu, np.diag(np.repeat(9.0, k)), v)\n",
    "beta = np.array([-1.0])\n",
    "betat = beta.copy(); thetat = theta.copy()\n",
    "\n",
    "#文書ごとの単語を生成\n",
    "m = 50\n",
    "gamma = np.random.dirichlet(np.repeat(0.1, m), D)\n",
    "phi = np.random.dirichlet(np.repeat(0.1, v), m)\n",
    "z = np.dot(np.array(rmnom(gamma[w_id, ], f, m, np.arange(f)).todense()), np.arange(m))\n",
    "wd_list = [i for i in range(D)]\n",
    "for i in range(D):\n",
    "    wd_list[i] = np.array(np.dot(rmnom(phi[z[id_list[i]], ], w[i], v, np.arange(w[i])).todense(), np.arange(v))).reshape(-1)\n",
    "wd = np.array(list(itertools.chain(*[wd_list[i] for i in range(D)])))\n",
    "\n",
    "##2文書間のマッチング有無を生成\n",
    "#2文書間の距離をカーネル関数で表現\n",
    "w_sq = np.repeat(0, N)\n",
    "distance = np.repeat(0.0, N)\n",
    "for i in range(N):    \n",
    "    id1 = d_id1[i]; id2 = d_id2[i]\n",
    "    theta_d1 = theta[wd_list[id1], ]\n",
    "    theta_d2 = theta[wd_list[id2], ]\n",
    "    w_sq[i] = w[id1]*w[id2]\n",
    "    distance[i] = np.sum(np.dot(theta_d1, theta_d2.T)) / (w[id1]*w[id2])\n",
    "    \n",
    "#ベルヌーイ分布から応答変数を生成\n",
    "logit = beta + (distance - np.mean(distance))\n",
    "Prob = np.exp(logit) / (1 + np.exp(logit))\n",
    "y = np.random.binomial(1, Prob, N)\n",
    "y_vec = y[:, np.newaxis]\n",
    "\n",
    "#生成した応答変数を確認\n",
    "print(np.mean(y))\n",
    "print(np.std(distance))\n",
    "plt.hist(Prob, bins=25)"
   ]
  },
  {
   "cell_type": "code",
   "execution_count": 38,
   "metadata": {},
   "outputs": [],
   "source": [
    "####最尤法でパラメータを推定####\n",
    "##パラメータを推定するための関数\n",
    "#対数尤度関数を計算する関数\n",
    "def loglike(theta, tau, y, d_id1, d_id2, w_sq, N, v, k):\n",
    "    #パラメータの設定\n",
    "    beta = theta[0]\n",
    "    theta_dt = theta[1:].reshape(v, k)\n",
    "    \n",
    "    #文書間のカーネル埋め込みを定義\n",
    "    distance = np.repeat(0.0, N)\n",
    "    for i in range(N):   \n",
    "        id1 = d_id1[i]; id2 = d_id2[i]\n",
    "        theta_d1 = theta[wd_list[id1], ]\n",
    "        theta_d2 = theta[wd_list[id2], ]\n",
    "        distance[i] = np.sum(np.dot(theta_d1, theta_d2.T)) / (w_sq[i])\n",
    "\n",
    "    #ベルヌーイ分布から応答変数を生成\n",
    "    logit = beta + distance\n",
    "    Prob = np.exp(logit) / (1 + np.exp(logit))\n",
    "\n",
    "    #対数尤度の和\n",
    "    penalty = tau/2 * np.dot(theta_vec, theta_vec) \n",
    "    LL = np.sum(y*np.log(Prob) + (1-y)*np.log(1-Prob))\n",
    "    LLho = LL + penalty\n",
    "    return LLho "
   ]
  },
  {
   "cell_type": "code",
   "execution_count": 37,
   "metadata": {},
   "outputs": [
    {
     "data": {
      "text/plain": [
       "array([1, 2, 3, 4, 5, 6, 7, 8, 9])"
      ]
     },
     "execution_count": 37,
     "metadata": {},
     "output_type": "execute_result"
    }
   ],
   "source": [
    "\n",
    "np.arange(k)[1:]"
   ]
  },
  {
   "cell_type": "code",
   "execution_count": 22,
   "metadata": {},
   "outputs": [
    {
     "ename": "ValueError",
     "evalue": "cannot reshape array of size 50000 into shape (1000,10)",
     "output_type": "error",
     "traceback": [
      "\u001b[1;31m---------------------------------------------------------------------------\u001b[0m",
      "\u001b[1;31mValueError\u001b[0m                                Traceback (most recent call last)",
      "\u001b[1;32m<ipython-input-22-a4df22197ac0>\u001b[0m in \u001b[0;36m<module>\u001b[1;34m()\u001b[0m\n\u001b[1;32m----> 1\u001b[1;33m \u001b[0mtheta_vec\u001b[0m\u001b[1;33m.\u001b[0m\u001b[0mreshape\u001b[0m\u001b[1;33m(\u001b[0m\u001b[0mv\u001b[0m\u001b[1;33m,\u001b[0m \u001b[0mk\u001b[0m\u001b[1;33m)\u001b[0m\u001b[1;33m\u001b[0m\u001b[0m\n\u001b[0m",
      "\u001b[1;31mValueError\u001b[0m: cannot reshape array of size 50000 into shape (1000,10)"
     ]
    }
   ],
   "source": [
    "theta_vec.reshape(v, k)"
   ]
  },
  {
   "cell_type": "code",
   "execution_count": 19,
   "metadata": {},
   "outputs": [],
   "source": [
    "tau = 0.01"
   ]
  },
  {
   "cell_type": "code",
   "execution_count": 36,
   "metadata": {},
   "outputs": [
    {
     "data": {
      "text/plain": [
       "0.01"
      ]
     },
     "execution_count": 36,
     "metadata": {},
     "output_type": "execute_result"
    }
   ],
   "source": []
  },
  {
   "cell_type": "code",
   "execution_count": null,
   "metadata": {},
   "outputs": [],
   "source": []
  }
 ],
 "metadata": {
  "kernelspec": {
   "display_name": "Python 3",
   "language": "python",
   "name": "python3"
  },
  "language_info": {
   "codemirror_mode": {
    "name": "ipython",
    "version": 3
   },
   "file_extension": ".py",
   "mimetype": "text/x-python",
   "name": "python",
   "nbconvert_exporter": "python",
   "pygments_lexer": "ipython3",
   "version": "3.6.5"
  }
 },
 "nbformat": 4,
 "nbformat_minor": 2
}
