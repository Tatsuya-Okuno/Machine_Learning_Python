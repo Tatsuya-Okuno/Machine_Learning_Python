{
 "cells": [
  {
   "cell_type": "code",
   "execution_count": 1,
   "metadata": {},
   "outputs": [],
   "source": [
    "#####Bi-level model for Rare temporal pattern detection####\n",
    "import numpy as np\n",
    "import pandas as pd\n",
    "import matplotlib.pyplot  as plt\n",
    "import numpy.matlib\n",
    "import scipy.linalg\n",
    "import itertools\n",
    "import math\n",
    "from scipy import sparse\n",
    "from pandas.tools.plotting import scatter_matrix\n",
    "from numpy.random import *\n",
    "from scipy import optimize\n",
    "import seaborn as sns\n",
    "import time\n",
    "\n",
    "#np.random.seed(98537)"
   ]
  },
  {
   "cell_type": "code",
   "execution_count": 2,
   "metadata": {},
   "outputs": [],
   "source": [
    "####データの発生####\n",
    "##データの設定\n",
    "k = 2   #混合数\n",
    "m0 = 5   #正常状態での潜在変数数\n",
    "m1 = 2   #異常状態での潜在変数数\n",
    "hh = 5000   #ユーザー数\n",
    "pt = np.random.poisson(np.random.gamma(50, 1/0.2, hh), hh)   #系列数\n",
    "hhpt = np.sum(pt)   #総レコード数"
   ]
  },
  {
   "cell_type": "code",
   "execution_count": 3,
   "metadata": {},
   "outputs": [],
   "source": [
    "##IDとインデックスを設定\n",
    "#IDを設定\n",
    "user_id = np.repeat(range(hh), pt)\n",
    "pt_id = np.array(list(itertools.chain(*[np.array(range(pt[i]), dtype=\"int\") for i in range(hh)])))\n",
    "\n",
    "#インデックスを設定\n",
    "index = np.arange(hhpt)\n",
    "user_list = [i for i in range(hh)]\n",
    "user_vec = [i for i in range(hh)]\n",
    "for i in range(hh):\n",
    "    user_list[i] = index[user_id==i]\n",
    "    user_vec[i] = np.repeat(1, pt[i])"
   ]
  },
  {
   "cell_type": "code",
   "execution_count": 11,
   "metadata": {},
   "outputs": [],
   "source": [
    "##潜在パラメータとユーザーの異常状態を生成\n",
    "#潜在変数のパラメータ\n",
    "alpha = np.repeat(0.5, m0*m0).reshape(m0, m0) + np.diag(np.repeat(1.0, m0))\n",
    "pi = 0.03   #ユーザーの混合率\n",
    "gamma = np.array([0.05, 0.6])   #正常状態と異常状態の切換率\n",
    "delta = 0.5   #異常状態の混合率\n",
    "omega = np.append(np.random.dirichlet(np.repeat(2.5, m0), 1).reshape(-1), 0)   #正常状態の推移率の初期値\n",
    "theta = np.zeros((m0+1, m0+1))\n",
    "for j in range(m0):\n",
    "    theta[j, ] = np.append(np.random.dirichlet(alpha[j, ], 1), 0)\n",
    "theta[m0, ] = np.append(np.random.dirichlet(np.repeat(1.0, m0), 1), 0)\n",
    "pit = pi; gammat = gamma; deltat = delta\n",
    "omegat = omega; thetat = theta.copy()\n",
    "    \n",
    "#ユーザーの潜在変数を生成\n",
    "Z = np.random.binomial(1, pi, hh)\n",
    "index_z = np.array(np.where(Z==1)[0], dtype=\"int\")\n",
    "n = index_z.shape[0]\n",
    "\n",
    "#異常状態の潜在変数を生成\n",
    "A = np.repeat(0, hh)\n",
    "A[index_z] = np.random.binomial(1, delta, n) + 1"
   ]
  },
  {
   "cell_type": "code",
   "execution_count": 12,
   "metadata": {},
   "outputs": [],
   "source": [
    "##ユーザーごとに系列の異常状態を生成\n",
    "#データの格納用リスト\n",
    "S0_list = [i for i in range(hh)]\n",
    "S_list = [i for i in range(hh)]\n",
    "\n",
    "for i in range(hh):\n",
    "    #系列の格納用配列\n",
    "    s0 = np.array(np.zeros((pt[i], m0+1)), dtype=\"int\")\n",
    "    s = np.repeat(0, pt[i])\n",
    "\n",
    "    #正常ユーザーの潜在変数を生成\n",
    "    if Z[i]==0:\n",
    "        for j in range(pt[i]):\n",
    "            if j==0:\n",
    "                s0[j, ] = np.random.multinomial(1, omega, 1)\n",
    "            else:\n",
    "                index = np.argmax(s0[j-1, ])\n",
    "                s0[j, ] = np.random.multinomial(1, theta[index, ], 1)\n",
    "\n",
    "    #異常ユーザーの潜在変数を生成\n",
    "    else:\n",
    "        for j in range(pt[i]):\n",
    "            if j==0:\n",
    "                s[j] = np.random.binomial(1, gamma[0], 1)\n",
    "                if s[j]==0:\n",
    "                    s0[j, ] = np.random.multinomial(1, omega, 1)\n",
    "                else:\n",
    "                    s0[j, m0] = 1\n",
    "            else:\n",
    "                if s[j-1]==0:\n",
    "                    s[j] = np.random.binomial(1, gamma[0], 1)\n",
    "                else:\n",
    "                    s[j] = np.random.binomial(1, gamma[1], 1)\n",
    "                if s[j]==0:\n",
    "                    index = np.argmax(s0[j-1, ])\n",
    "                    s0[j, ] = np.random.multinomial(1, theta[index, ], 1)\n",
    "                else:\n",
    "                    s0[j, m0] = 1\n",
    "                    \n",
    "    #生成したデータの格納\n",
    "    S0_list[i] = s0\n",
    "    S_list[i] = s"
   ]
  },
  {
   "cell_type": "code",
   "execution_count": 13,
   "metadata": {},
   "outputs": [
    {
     "name": "stdout",
     "output_type": "stream",
     "text": [
      "[165661  86561 487323 215068 288276   4580]\n"
     ]
    }
   ],
   "source": [
    "#リストを変換\n",
    "S = np.array(list(itertools.chain(*[S_list[i] for i in range(hh)])))\n",
    "S0 = np.array(list(itertools.chain(*[S0_list[i] for i in range(hh)])))\n",
    "print(np.sum(S0, axis=0))"
   ]
  },
  {
   "cell_type": "code",
   "execution_count": 15,
   "metadata": {},
   "outputs": [
    {
     "data": {
      "text/plain": [
       "array([0, 0, 0, 0, 0, 0, 0, 0, 0, 0, 0, 0, 0, 0, 0, 0, 0, 0, 0, 0, 0, 0,\n",
       "       0, 0, 0, 0, 0, 0, 0, 0, 0, 0, 0, 0, 0, 1, 0, 0, 0, 0, 0, 0, 0, 0,\n",
       "       0, 0, 0, 0, 0, 0, 0, 0, 0, 0, 0, 0, 0, 0, 0, 0, 0, 0, 0, 0, 0, 0,\n",
       "       0, 1, 1, 1, 1, 1, 0, 0, 0, 0, 0, 0, 0, 0, 0, 1, 1, 1, 0, 0, 0, 0,\n",
       "       0, 0, 0, 0, 0, 0, 0, 0, 0, 0, 1, 1, 0, 0, 0, 0, 0, 1, 0, 0, 0, 0,\n",
       "       0, 0, 0, 0, 0, 0, 0, 0, 0, 1, 1, 0, 0, 0, 0, 0, 0, 0, 0, 0, 0, 0,\n",
       "       0, 0, 0, 0, 0, 0, 0, 0, 0, 0, 0, 0, 0, 0, 0, 0, 0, 0, 0, 0, 0, 0,\n",
       "       0, 0, 0, 0, 0, 0, 0, 0, 0, 0, 0, 0, 0, 0, 0, 0, 0, 0, 0, 0, 1, 1,\n",
       "       1, 1, 1, 1, 0, 0, 0, 0, 0, 0, 0, 0, 0, 0, 0, 0, 0, 0, 0, 0, 0, 0,\n",
       "       0, 0, 0, 0, 0, 0, 0, 0, 0, 0, 0, 0, 0, 0, 0, 0, 0, 0, 0, 0, 0, 0,\n",
       "       0, 0, 0, 0, 0, 0, 0, 0, 1, 1, 1, 0, 0, 0, 0, 0, 0, 0, 0, 0, 0, 0,\n",
       "       0, 0, 0, 0, 0, 0, 0, 0, 0, 0, 0, 0, 0, 0, 0, 0, 0, 0, 0, 0, 1, 1,\n",
       "       1, 0, 0, 0, 0, 0, 0, 0, 0, 0, 0, 0, 0, 0, 0, 0, 0, 0, 0, 0, 0, 0,\n",
       "       0, 0, 0, 0, 0])"
      ]
     },
     "execution_count": 15,
     "metadata": {},
     "output_type": "execute_result"
    }
   ],
   "source": [
    "##潜在変数からデータを生成\n",
    "#入力変数を生成\n",
    "\n"
   ]
  },
  {
   "cell_type": "code",
   "execution_count": null,
   "metadata": {},
   "outputs": [],
   "source": []
  }
 ],
 "metadata": {
  "kernelspec": {
   "display_name": "Python 3",
   "language": "python",
   "name": "python3"
  },
  "language_info": {
   "codemirror_mode": {
    "name": "ipython",
    "version": 3
   },
   "file_extension": ".py",
   "mimetype": "text/x-python",
   "name": "python",
   "nbconvert_exporter": "python",
   "pygments_lexer": "ipython3",
   "version": "3.6.5"
  }
 },
 "nbformat": 4,
 "nbformat_minor": 2
}
